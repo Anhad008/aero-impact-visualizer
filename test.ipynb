{
 "cells": [
  {
   "cell_type": "code",
   "execution_count": 7,
   "id": "52284f06",
   "metadata": {},
   "outputs": [],
   "source": [
    "import pandas as pd"
   ]
  },
  {
   "cell_type": "code",
   "execution_count": 8,
   "id": "d9cc65ba",
   "metadata": {},
   "outputs": [
    {
     "data": {
      "text/html": [
       "<div>\n",
       "<style scoped>\n",
       "    .dataframe tbody tr th:only-of-type {\n",
       "        vertical-align: middle;\n",
       "    }\n",
       "\n",
       "    .dataframe tbody tr th {\n",
       "        vertical-align: top;\n",
       "    }\n",
       "\n",
       "    .dataframe thead th {\n",
       "        text-align: right;\n",
       "    }\n",
       "</style>\n",
       "<table border=\"1\" class=\"dataframe\">\n",
       "  <thead>\n",
       "    <tr style=\"text-align: right;\">\n",
       "      <th></th>\n",
       "      <th>Phase</th>\n",
       "      <th>Duration (min)</th>\n",
       "      <th>Altitude (ft)</th>\n",
       "      <th>Speed (kts)</th>\n",
       "      <th>Thrust (%)</th>\n",
       "    </tr>\n",
       "  </thead>\n",
       "  <tbody>\n",
       "    <tr>\n",
       "      <th>0</th>\n",
       "      <td>taxi</td>\n",
       "      <td>5.0</td>\n",
       "      <td>0</td>\n",
       "      <td>0</td>\n",
       "      <td>7</td>\n",
       "    </tr>\n",
       "    <tr>\n",
       "      <th>1</th>\n",
       "      <td>takeoff</td>\n",
       "      <td>0.5</td>\n",
       "      <td>1500</td>\n",
       "      <td>200</td>\n",
       "      <td>100</td>\n",
       "    </tr>\n",
       "    <tr>\n",
       "      <th>2</th>\n",
       "      <td>climb</td>\n",
       "      <td>15.0</td>\n",
       "      <td>35000</td>\n",
       "      <td>280</td>\n",
       "      <td>85</td>\n",
       "    </tr>\n",
       "    <tr>\n",
       "      <th>3</th>\n",
       "      <td>cruise</td>\n",
       "      <td>60.0</td>\n",
       "      <td>35000</td>\n",
       "      <td>470</td>\n",
       "      <td>60</td>\n",
       "    </tr>\n",
       "    <tr>\n",
       "      <th>4</th>\n",
       "      <td>descent</td>\n",
       "      <td>20.0</td>\n",
       "      <td>0</td>\n",
       "      <td>250</td>\n",
       "      <td>30</td>\n",
       "    </tr>\n",
       "  </tbody>\n",
       "</table>\n",
       "</div>"
      ],
      "text/plain": [
       "     Phase  Duration (min)  Altitude (ft)  Speed (kts)  Thrust (%)\n",
       "0     taxi             5.0              0            0           7\n",
       "1  takeoff             0.5           1500          200         100\n",
       "2    climb            15.0          35000          280          85\n",
       "3   cruise            60.0          35000          470          60\n",
       "4  descent            20.0              0          250          30"
      ]
     },
     "execution_count": 8,
     "metadata": {},
     "output_type": "execute_result"
    }
   ],
   "source": [
    "test_flight_profile = pd.read_csv(\"flight-profiles/test-flight-profile.csv\")\n",
    "test_flight_profile"
   ]
  },
  {
   "cell_type": "code",
   "execution_count": 9,
   "id": "77bdb2a6",
   "metadata": {},
   "outputs": [
    {
     "data": {
      "text/html": [
       "<div>\n",
       "<style scoped>\n",
       "    .dataframe tbody tr th:only-of-type {\n",
       "        vertical-align: middle;\n",
       "    }\n",
       "\n",
       "    .dataframe tbody tr th {\n",
       "        vertical-align: top;\n",
       "    }\n",
       "\n",
       "    .dataframe thead th {\n",
       "        text-align: right;\n",
       "    }\n",
       "</style>\n",
       "<table border=\"1\" class=\"dataframe\">\n",
       "  <thead>\n",
       "    <tr style=\"text-align: right;\">\n",
       "      <th></th>\n",
       "      <th>Engine Family</th>\n",
       "      <th>Engine Model</th>\n",
       "      <th>Combustor</th>\n",
       "      <th>Fuel</th>\n",
       "      <th>Bypass Ratio</th>\n",
       "      <th>Pressure Ratio</th>\n",
       "      <th>Rated Thrust (kN)</th>\n",
       "      <th>Phase</th>\n",
       "      <th>Power Setting (%)</th>\n",
       "      <th>Fuel Flow (kg/s)</th>\n",
       "      <th>Emission Index HC (g / kg fuel)</th>\n",
       "      <th>Emission Index CO (g / kg fuel)</th>\n",
       "      <th>Emission Index NOx (g / kg fuel)</th>\n",
       "    </tr>\n",
       "  </thead>\n",
       "  <tbody>\n",
       "    <tr>\n",
       "      <th>0</th>\n",
       "      <td>CFM56</td>\n",
       "      <td>5B4</td>\n",
       "      <td>DAC-II</td>\n",
       "      <td>Jet A</td>\n",
       "      <td>5.9</td>\n",
       "      <td>27.7</td>\n",
       "      <td>120.1</td>\n",
       "      <td>TAKE-OFF</td>\n",
       "      <td>100</td>\n",
       "      <td>1.14</td>\n",
       "      <td>0.1</td>\n",
       "      <td>1.4</td>\n",
       "      <td>18.4</td>\n",
       "    </tr>\n",
       "    <tr>\n",
       "      <th>1</th>\n",
       "      <td>CFM56</td>\n",
       "      <td>5B4</td>\n",
       "      <td>DAC-II</td>\n",
       "      <td>Jet A</td>\n",
       "      <td>5.9</td>\n",
       "      <td>27.7</td>\n",
       "      <td>120.1</td>\n",
       "      <td>CLIMB OUT</td>\n",
       "      <td>85</td>\n",
       "      <td>0.95</td>\n",
       "      <td>0.2</td>\n",
       "      <td>3.6</td>\n",
       "      <td>13.6</td>\n",
       "    </tr>\n",
       "    <tr>\n",
       "      <th>2</th>\n",
       "      <td>CFM56</td>\n",
       "      <td>5B4</td>\n",
       "      <td>DAC-II</td>\n",
       "      <td>Jet A</td>\n",
       "      <td>5.9</td>\n",
       "      <td>27.7</td>\n",
       "      <td>120.1</td>\n",
       "      <td>APPROACH</td>\n",
       "      <td>30</td>\n",
       "      <td>0.34</td>\n",
       "      <td>5.3</td>\n",
       "      <td>29.1</td>\n",
       "      <td>6.5</td>\n",
       "    </tr>\n",
       "    <tr>\n",
       "      <th>3</th>\n",
       "      <td>CFM56</td>\n",
       "      <td>5B4</td>\n",
       "      <td>DAC-II</td>\n",
       "      <td>Jet A</td>\n",
       "      <td>5.9</td>\n",
       "      <td>27.7</td>\n",
       "      <td>120.1</td>\n",
       "      <td>IDLE</td>\n",
       "      <td>7</td>\n",
       "      <td>0.12</td>\n",
       "      <td>3.6</td>\n",
       "      <td>40.1</td>\n",
       "      <td>3.9</td>\n",
       "    </tr>\n",
       "  </tbody>\n",
       "</table>\n",
       "</div>"
      ],
      "text/plain": [
       "  Engine Family Engine Model Combustor   Fuel  Bypass Ratio  Pressure Ratio  \\\n",
       "0         CFM56          5B4    DAC-II  Jet A           5.9            27.7   \n",
       "1         CFM56          5B4    DAC-II  Jet A           5.9            27.7   \n",
       "2         CFM56          5B4    DAC-II  Jet A           5.9            27.7   \n",
       "3         CFM56          5B4    DAC-II  Jet A           5.9            27.7   \n",
       "\n",
       "   Rated Thrust (kN)      Phase  Power Setting (%)  Fuel Flow (kg/s)  \\\n",
       "0              120.1   TAKE-OFF                100              1.14   \n",
       "1              120.1  CLIMB OUT                 85              0.95   \n",
       "2              120.1   APPROACH                 30              0.34   \n",
       "3              120.1       IDLE                  7              0.12   \n",
       "\n",
       "   Emission Index HC (g / kg fuel)  Emission Index CO (g / kg fuel)  \\\n",
       "0                              0.1                              1.4   \n",
       "1                              0.2                              3.6   \n",
       "2                              5.3                             29.1   \n",
       "3                              3.6                             40.1   \n",
       "\n",
       "   Emission Index NOx (g / kg fuel)  \n",
       "0                              18.4  \n",
       "1                              13.6  \n",
       "2                               6.5  \n",
       "3                               3.9  "
      ]
     },
     "execution_count": 9,
     "metadata": {},
     "output_type": "execute_result"
    }
   ],
   "source": [
    "engine_data = pd.read_csv(\"data/engine-data.csv\")\n",
    "engine_data"
   ]
  },
  {
   "cell_type": "code",
   "execution_count": 13,
   "id": "84512684",
   "metadata": {},
   "outputs": [
    {
     "name": "stdout",
     "output_type": "stream",
     "text": [
      "0     300.0\n",
      "1      30.0\n",
      "2     900.0\n",
      "3    3600.0\n",
      "4    1200.0\n",
      "Name: Duration (min), dtype: float64\n"
     ]
    }
   ],
   "source": [
    "profile_duration_min = test_flight_profile['Duration (min)']\n",
    "profile_duration_seconds = profile_duration_min * 60\n",
    "print(profile_duration_seconds)"
   ]
  },
  {
   "cell_type": "code",
   "execution_count": 14,
   "id": "2c9eaa67",
   "metadata": {},
   "outputs": [],
   "source": [
    "import pandas as pd \n",
    "import json\n",
    "import os\n",
    "\n",
    "# ---Reading Data Files---\n",
    "test_flight_profile = pd.read_csv(\"flight-profiles/test-flight-profile.csv\")\n",
    "with open (\"data/engines-data.json\") as f:\n",
    "    data = json.load(f)\n",
    "\n",
    "# ---Extract the phase-wise emission for the CFM56-5B4/2P engine from the JSON datafile---\n",
    "phases = data[\"CFM56-5B4/2P\"][\"Phases\"]\n",
    "\n",
    "# ---Importing Variables from Data---\n",
    "phase_data = []\n",
    "for phase_name, details in phases.items():\n",
    "    ei  = details[\"Emission Indices (g/kg fuel)\"]\n",
    "    phase_data.append({\n",
    "        \"Phase\": phase_name,\n",
    "        \"Fuel Flow (kg/s)\": details[\"Fuel Flow (kg/s)\"],\n",
    "        \"HC (g/kg)\": ei[\"HC\"],\n",
    "        \"CO (g/kg)\": ei[\"CO\"],\n",
    "        \"NOx (g/kg)\": ei[\"NOx\"]\n",
    "    })\n",
    "\n",
    "phases_df = pd.DataFrame(phase_data)     # Dataframe containing data for all phases\n",
    "\n",
    "fuel_flow_rates = phases_df[\"Fuel Flow (kg/s)\"] # Extract the fuel flow rates for All Phases (in kg per second)\n",
    "ei_HC = phases_df[\"HC (g/kg)\"]                  # Extract the Emission Index for Hydrocarbons for All Phases (g/kg of fuel)\n",
    "ei_CO = phases_df[\"CO (g/kg)\"]                  # Extract the Emission Index for Carbon Monoxide for All Phases (g/kg of fuel)\n",
    "ei_NOx = phases_df[\"NOx (g/kg)\"]                # Extract the Emission Index for Nitrogen Oxides for All Phases (g/kg of fuel)\n",
    "\n",
    "phases = test_flight_profile[\"Phase\"] # Extract Phase data from CSV datafile\n",
    "profile_duration_min = test_flight_profile['Duration (min)'] # Duration for All Phases (minutes)\n",
    "\n",
    "\n",
    "# ---Calculations--- \n",
    "profile_duration_seconds = profile_duration_min * 60  # Duration for All Phases (seconds)\n",
    "\n",
    "fuel_burned = fuel_flow_rates * profile_duration_seconds # Fuel burned for All Phases (kg)\n",
    "\n",
    "hc_emissions = ei_HC * fuel_burned      # HC emissions in Fuel Burned\n",
    "co_emissions = ei_CO * fuel_burned      # CO emissions in Fuel Burned\n",
    "nox_emissions = ei_NOx * fuel_burned    # NOx emissions in Fuel Burned\n",
    "\n",
    "total_duration = profile_duration_seconds.sum()     # Total Duration of Flight\n",
    "total_fuel_burned = fuel_burned.sum()               # Total Fuel Burned\n",
    "total_co_emissions = co_emissions.sum()             # Total Carbon Monoxide Emissions\n",
    "total_hc_emissions = hc_emissions.sum()             # Total Hydrocarbon Emissions\n",
    "total_nox_emissions = nox_emissions.sum()           # Total Nitrogen Oxides Emissions\n",
    "\n",
    "# ---Create a DataFrame for Total Emissions Summary---\n",
    "total_data = pd.DataFrame([{\n",
    "    \"Phase\":\"Total\",\n",
    "    \"Duration (s)\":total_duration,\n",
    "    \"Fuel Burned (kg)\":total_fuel_burned,\n",
    "    \"HC emissions (g)\":total_hc_emissions,\n",
    "    \"NOx emissions (g)\":total_nox_emissions,\n",
    "    \"CO emissions (g)\":total_co_emissions,\n",
    "}])\n",
    "\n",
    "# ---Create Phase-wise Emissions Summary DataFrame---\n",
    "phases_summary_df = pd.DataFrame({\n",
    "    \"Phase\":phases,\n",
    "    \"Duration (s)\":profile_duration_seconds,\n",
    "    \"Fuel Flow (kg/s)\":fuel_flow_rates,\n",
    "    \"Fuel Burned (kg)\":fuel_burned,\n",
    "    \"HC emissions (g)\":hc_emissions,\n",
    "    \"NOx emissions (g)\":nox_emissions,\n",
    "    \"CO emissions (g)\":co_emissions,\n",
    "})\n",
    "phases_summary_df = pd.concat([phases_summary_df, total_data], ignore_index=True)\n",
    "\n",
    "\n",
    "# ---Saving Outputs---\n",
    "output_dir = \"output/emissions\"\n",
    "output_file = os.path.join(output_dir, \"summary.csv\")\n",
    "\n",
    "phases_summary_df.to_csv(output_file, index=False)\n",
    "os.makedirs(output_dir, exist_ok=True)\n"
   ]
  },
  {
   "cell_type": "code",
   "execution_count": 15,
   "id": "5535bc2e",
   "metadata": {},
   "outputs": [
    {
     "data": {
      "text/html": [
       "<div>\n",
       "<style scoped>\n",
       "    .dataframe tbody tr th:only-of-type {\n",
       "        vertical-align: middle;\n",
       "    }\n",
       "\n",
       "    .dataframe tbody tr th {\n",
       "        vertical-align: top;\n",
       "    }\n",
       "\n",
       "    .dataframe thead th {\n",
       "        text-align: right;\n",
       "    }\n",
       "</style>\n",
       "<table border=\"1\" class=\"dataframe\">\n",
       "  <thead>\n",
       "    <tr style=\"text-align: right;\">\n",
       "      <th></th>\n",
       "      <th>Phase</th>\n",
       "      <th>Duration (s)</th>\n",
       "      <th>Fuel Flow (kg/s)</th>\n",
       "      <th>Fuel Burned (kg)</th>\n",
       "      <th>HC emissions (g)</th>\n",
       "      <th>NOx emissions (g)</th>\n",
       "      <th>CO emissions (g)</th>\n",
       "    </tr>\n",
       "  </thead>\n",
       "  <tbody>\n",
       "    <tr>\n",
       "      <th>0</th>\n",
       "      <td>taxi</td>\n",
       "      <td>300.0</td>\n",
       "      <td>1.14</td>\n",
       "      <td>342.0</td>\n",
       "      <td>34.2</td>\n",
       "      <td>6292.8</td>\n",
       "      <td>478.8</td>\n",
       "    </tr>\n",
       "    <tr>\n",
       "      <th>1</th>\n",
       "      <td>takeoff</td>\n",
       "      <td>30.0</td>\n",
       "      <td>0.95</td>\n",
       "      <td>28.5</td>\n",
       "      <td>5.7</td>\n",
       "      <td>387.6</td>\n",
       "      <td>102.6</td>\n",
       "    </tr>\n",
       "    <tr>\n",
       "      <th>2</th>\n",
       "      <td>climb</td>\n",
       "      <td>900.0</td>\n",
       "      <td>0.34</td>\n",
       "      <td>306.0</td>\n",
       "      <td>1621.8</td>\n",
       "      <td>1989.0</td>\n",
       "      <td>8904.6</td>\n",
       "    </tr>\n",
       "    <tr>\n",
       "      <th>3</th>\n",
       "      <td>cruise</td>\n",
       "      <td>3600.0</td>\n",
       "      <td>0.12</td>\n",
       "      <td>432.0</td>\n",
       "      <td>1555.2</td>\n",
       "      <td>1684.8</td>\n",
       "      <td>17323.2</td>\n",
       "    </tr>\n",
       "    <tr>\n",
       "      <th>4</th>\n",
       "      <td>descent</td>\n",
       "      <td>1200.0</td>\n",
       "      <td>NaN</td>\n",
       "      <td>NaN</td>\n",
       "      <td>NaN</td>\n",
       "      <td>NaN</td>\n",
       "      <td>NaN</td>\n",
       "    </tr>\n",
       "    <tr>\n",
       "      <th>5</th>\n",
       "      <td>Total</td>\n",
       "      <td>6030.0</td>\n",
       "      <td>NaN</td>\n",
       "      <td>1108.5</td>\n",
       "      <td>3216.9</td>\n",
       "      <td>10354.2</td>\n",
       "      <td>26809.2</td>\n",
       "    </tr>\n",
       "  </tbody>\n",
       "</table>\n",
       "</div>"
      ],
      "text/plain": [
       "     Phase  Duration (s)  Fuel Flow (kg/s)  Fuel Burned (kg)  \\\n",
       "0     taxi         300.0              1.14             342.0   \n",
       "1  takeoff          30.0              0.95              28.5   \n",
       "2    climb         900.0              0.34             306.0   \n",
       "3   cruise        3600.0              0.12             432.0   \n",
       "4  descent        1200.0               NaN               NaN   \n",
       "5    Total        6030.0               NaN            1108.5   \n",
       "\n",
       "   HC emissions (g)  NOx emissions (g)  CO emissions (g)  \n",
       "0              34.2             6292.8             478.8  \n",
       "1               5.7              387.6             102.6  \n",
       "2            1621.8             1989.0            8904.6  \n",
       "3            1555.2             1684.8           17323.2  \n",
       "4               NaN                NaN               NaN  \n",
       "5            3216.9            10354.2           26809.2  "
      ]
     },
     "execution_count": 15,
     "metadata": {},
     "output_type": "execute_result"
    }
   ],
   "source": [
    "phases_summary_df"
   ]
  },
  {
   "cell_type": "code",
   "execution_count": null,
   "id": "b46c39cf",
   "metadata": {},
   "outputs": [
    {
     "data": {
      "application/vnd.plotly.v1+json": {
       "config": {
        "plotlyServerURL": "https://plot.ly"
       },
       "data": [
        {
         "hovertemplate": "Pollutant: HC<br>Phase: %{x}<br>Emissions: %{y:.1f} g<extra></extra>",
         "legendgroup": "HC",
         "marker": {
          "color": "#009E73"
         },
         "name": "HC Emissions",
         "text": [
          "129.600",
          "3.420",
          "117.000",
          "684.000",
          "2162.400",
          "3096.420"
         ],
         "textfont": {
          "color": "white",
          "size": 10
         },
         "textposition": "inside",
         "type": "bar",
         "x": [
          "Idle/Taxi",
          "Take-Off",
          "Climb Out",
          "Cruise",
          "Descent",
          "Total"
         ],
         "y": {
          "bdata": "MzMzMzMzYEBcj8L1KFwLQAAAAAAAQF1AAAAAAABghUDNzMzMzOSgQKRwPQrXMKhA",
          "dtype": "f8"
         }
        },
        {
         "hovertemplate": "Pollutant: NOx<br>Phase: %{x}<br>Emissions: %{y:.1f} g<extra></extra>",
         "legendgroup": "NOx",
         "marker": {
          "color": "#E69F00"
         },
         "name": "NOx Emissions",
         "text": [
          "140.400",
          "629.280",
          "7897.500",
          "46512.000",
          "2652.000",
          "57831.180"
         ],
         "textfont": {
          "color": "white",
          "size": 10
         },
         "textposition": "inside",
         "type": "bar",
         "x": [
          "Idle/Taxi",
          "Take-Off",
          "Climb Out",
          "Cruise",
          "Descent",
          "Total"
         ],
         "y": {
          "bdata": "zczMzMyMYUAK16NwPaqDQAAAAACA2b5AAAAAAAC25kAAAAAAALikQClcj8LlPOxA",
          "dtype": "f8"
         }
        },
        {
         "hovertemplate": "Pollutant: CO<br>Phase: %{x}<br>Emissions: %{y:.1f} g<extra></extra>",
         "legendgroup": "CO",
         "marker": {
          "color": "#56B4E9"
         },
         "name": "CO Emissions",
         "text": [
          "1443.600",
          "47.880",
          "585.000",
          "12312.000",
          "11872.800",
          "26261.280"
         ],
         "textfont": {
          "color": "white",
          "size": 10
         },
         "textposition": "inside",
         "type": "bar",
         "x": [
          "Idle/Taxi",
          "Take-Off",
          "Climb Out",
          "Cruise",
          "Descent",
          "Total"
         ],
         "y": {
          "bdata": "ZmZmZmaOlkBxPQrXo/BHQAAAAAAASIJAAAAAAAAMyEBmZmZmZjDHQLgehetRpdlA",
          "dtype": "f8"
         }
        }
       ],
       "layout": {
        "bargap": 0.15,
        "bargroupgap": 0.05,
        "barmode": "group",
        "font": {
         "family": "Arial",
         "size": 13
        },
        "height": 650,
        "legend": {
         "font": {
          "size": 12
         },
         "orientation": "h",
         "x": 0.5,
         "xanchor": "center",
         "y": -0.2,
         "yanchor": "bottom"
        },
        "margin": {
         "b": 80,
         "l": 80,
         "r": 40,
         "t": 100
        },
        "template": {
         "data": {
          "bar": [
           {
            "error_x": {
             "color": "rgb(36,36,36)"
            },
            "error_y": {
             "color": "rgb(36,36,36)"
            },
            "marker": {
             "line": {
              "color": "white",
              "width": 0.5
             },
             "pattern": {
              "fillmode": "overlay",
              "size": 10,
              "solidity": 0.2
             }
            },
            "type": "bar"
           }
          ],
          "barpolar": [
           {
            "marker": {
             "line": {
              "color": "white",
              "width": 0.5
             },
             "pattern": {
              "fillmode": "overlay",
              "size": 10,
              "solidity": 0.2
             }
            },
            "type": "barpolar"
           }
          ],
          "carpet": [
           {
            "aaxis": {
             "endlinecolor": "rgb(36,36,36)",
             "gridcolor": "white",
             "linecolor": "white",
             "minorgridcolor": "white",
             "startlinecolor": "rgb(36,36,36)"
            },
            "baxis": {
             "endlinecolor": "rgb(36,36,36)",
             "gridcolor": "white",
             "linecolor": "white",
             "minorgridcolor": "white",
             "startlinecolor": "rgb(36,36,36)"
            },
            "type": "carpet"
           }
          ],
          "choropleth": [
           {
            "colorbar": {
             "outlinewidth": 1,
             "tickcolor": "rgb(36,36,36)",
             "ticks": "outside"
            },
            "type": "choropleth"
           }
          ],
          "contour": [
           {
            "colorbar": {
             "outlinewidth": 1,
             "tickcolor": "rgb(36,36,36)",
             "ticks": "outside"
            },
            "colorscale": [
             [
              0,
              "#440154"
             ],
             [
              0.1111111111111111,
              "#482878"
             ],
             [
              0.2222222222222222,
              "#3e4989"
             ],
             [
              0.3333333333333333,
              "#31688e"
             ],
             [
              0.4444444444444444,
              "#26828e"
             ],
             [
              0.5555555555555556,
              "#1f9e89"
             ],
             [
              0.6666666666666666,
              "#35b779"
             ],
             [
              0.7777777777777778,
              "#6ece58"
             ],
             [
              0.8888888888888888,
              "#b5de2b"
             ],
             [
              1,
              "#fde725"
             ]
            ],
            "type": "contour"
           }
          ],
          "contourcarpet": [
           {
            "colorbar": {
             "outlinewidth": 1,
             "tickcolor": "rgb(36,36,36)",
             "ticks": "outside"
            },
            "type": "contourcarpet"
           }
          ],
          "heatmap": [
           {
            "colorbar": {
             "outlinewidth": 1,
             "tickcolor": "rgb(36,36,36)",
             "ticks": "outside"
            },
            "colorscale": [
             [
              0,
              "#440154"
             ],
             [
              0.1111111111111111,
              "#482878"
             ],
             [
              0.2222222222222222,
              "#3e4989"
             ],
             [
              0.3333333333333333,
              "#31688e"
             ],
             [
              0.4444444444444444,
              "#26828e"
             ],
             [
              0.5555555555555556,
              "#1f9e89"
             ],
             [
              0.6666666666666666,
              "#35b779"
             ],
             [
              0.7777777777777778,
              "#6ece58"
             ],
             [
              0.8888888888888888,
              "#b5de2b"
             ],
             [
              1,
              "#fde725"
             ]
            ],
            "type": "heatmap"
           }
          ],
          "histogram": [
           {
            "marker": {
             "line": {
              "color": "white",
              "width": 0.6
             }
            },
            "type": "histogram"
           }
          ],
          "histogram2d": [
           {
            "colorbar": {
             "outlinewidth": 1,
             "tickcolor": "rgb(36,36,36)",
             "ticks": "outside"
            },
            "colorscale": [
             [
              0,
              "#440154"
             ],
             [
              0.1111111111111111,
              "#482878"
             ],
             [
              0.2222222222222222,
              "#3e4989"
             ],
             [
              0.3333333333333333,
              "#31688e"
             ],
             [
              0.4444444444444444,
              "#26828e"
             ],
             [
              0.5555555555555556,
              "#1f9e89"
             ],
             [
              0.6666666666666666,
              "#35b779"
             ],
             [
              0.7777777777777778,
              "#6ece58"
             ],
             [
              0.8888888888888888,
              "#b5de2b"
             ],
             [
              1,
              "#fde725"
             ]
            ],
            "type": "histogram2d"
           }
          ],
          "histogram2dcontour": [
           {
            "colorbar": {
             "outlinewidth": 1,
             "tickcolor": "rgb(36,36,36)",
             "ticks": "outside"
            },
            "colorscale": [
             [
              0,
              "#440154"
             ],
             [
              0.1111111111111111,
              "#482878"
             ],
             [
              0.2222222222222222,
              "#3e4989"
             ],
             [
              0.3333333333333333,
              "#31688e"
             ],
             [
              0.4444444444444444,
              "#26828e"
             ],
             [
              0.5555555555555556,
              "#1f9e89"
             ],
             [
              0.6666666666666666,
              "#35b779"
             ],
             [
              0.7777777777777778,
              "#6ece58"
             ],
             [
              0.8888888888888888,
              "#b5de2b"
             ],
             [
              1,
              "#fde725"
             ]
            ],
            "type": "histogram2dcontour"
           }
          ],
          "mesh3d": [
           {
            "colorbar": {
             "outlinewidth": 1,
             "tickcolor": "rgb(36,36,36)",
             "ticks": "outside"
            },
            "type": "mesh3d"
           }
          ],
          "parcoords": [
           {
            "line": {
             "colorbar": {
              "outlinewidth": 1,
              "tickcolor": "rgb(36,36,36)",
              "ticks": "outside"
             }
            },
            "type": "parcoords"
           }
          ],
          "pie": [
           {
            "automargin": true,
            "type": "pie"
           }
          ],
          "scatter": [
           {
            "fillpattern": {
             "fillmode": "overlay",
             "size": 10,
             "solidity": 0.2
            },
            "type": "scatter"
           }
          ],
          "scatter3d": [
           {
            "line": {
             "colorbar": {
              "outlinewidth": 1,
              "tickcolor": "rgb(36,36,36)",
              "ticks": "outside"
             }
            },
            "marker": {
             "colorbar": {
              "outlinewidth": 1,
              "tickcolor": "rgb(36,36,36)",
              "ticks": "outside"
             }
            },
            "type": "scatter3d"
           }
          ],
          "scattercarpet": [
           {
            "marker": {
             "colorbar": {
              "outlinewidth": 1,
              "tickcolor": "rgb(36,36,36)",
              "ticks": "outside"
             }
            },
            "type": "scattercarpet"
           }
          ],
          "scattergeo": [
           {
            "marker": {
             "colorbar": {
              "outlinewidth": 1,
              "tickcolor": "rgb(36,36,36)",
              "ticks": "outside"
             }
            },
            "type": "scattergeo"
           }
          ],
          "scattergl": [
           {
            "marker": {
             "colorbar": {
              "outlinewidth": 1,
              "tickcolor": "rgb(36,36,36)",
              "ticks": "outside"
             }
            },
            "type": "scattergl"
           }
          ],
          "scattermap": [
           {
            "marker": {
             "colorbar": {
              "outlinewidth": 1,
              "tickcolor": "rgb(36,36,36)",
              "ticks": "outside"
             }
            },
            "type": "scattermap"
           }
          ],
          "scattermapbox": [
           {
            "marker": {
             "colorbar": {
              "outlinewidth": 1,
              "tickcolor": "rgb(36,36,36)",
              "ticks": "outside"
             }
            },
            "type": "scattermapbox"
           }
          ],
          "scatterpolar": [
           {
            "marker": {
             "colorbar": {
              "outlinewidth": 1,
              "tickcolor": "rgb(36,36,36)",
              "ticks": "outside"
             }
            },
            "type": "scatterpolar"
           }
          ],
          "scatterpolargl": [
           {
            "marker": {
             "colorbar": {
              "outlinewidth": 1,
              "tickcolor": "rgb(36,36,36)",
              "ticks": "outside"
             }
            },
            "type": "scatterpolargl"
           }
          ],
          "scatterternary": [
           {
            "marker": {
             "colorbar": {
              "outlinewidth": 1,
              "tickcolor": "rgb(36,36,36)",
              "ticks": "outside"
             }
            },
            "type": "scatterternary"
           }
          ],
          "surface": [
           {
            "colorbar": {
             "outlinewidth": 1,
             "tickcolor": "rgb(36,36,36)",
             "ticks": "outside"
            },
            "colorscale": [
             [
              0,
              "#440154"
             ],
             [
              0.1111111111111111,
              "#482878"
             ],
             [
              0.2222222222222222,
              "#3e4989"
             ],
             [
              0.3333333333333333,
              "#31688e"
             ],
             [
              0.4444444444444444,
              "#26828e"
             ],
             [
              0.5555555555555556,
              "#1f9e89"
             ],
             [
              0.6666666666666666,
              "#35b779"
             ],
             [
              0.7777777777777778,
              "#6ece58"
             ],
             [
              0.8888888888888888,
              "#b5de2b"
             ],
             [
              1,
              "#fde725"
             ]
            ],
            "type": "surface"
           }
          ],
          "table": [
           {
            "cells": {
             "fill": {
              "color": "rgb(237,237,237)"
             },
             "line": {
              "color": "white"
             }
            },
            "header": {
             "fill": {
              "color": "rgb(217,217,217)"
             },
             "line": {
              "color": "white"
             }
            },
            "type": "table"
           }
          ]
         },
         "layout": {
          "annotationdefaults": {
           "arrowhead": 0,
           "arrowwidth": 1
          },
          "autotypenumbers": "strict",
          "coloraxis": {
           "colorbar": {
            "outlinewidth": 1,
            "tickcolor": "rgb(36,36,36)",
            "ticks": "outside"
           }
          },
          "colorscale": {
           "diverging": [
            [
             0,
             "rgb(103,0,31)"
            ],
            [
             0.1,
             "rgb(178,24,43)"
            ],
            [
             0.2,
             "rgb(214,96,77)"
            ],
            [
             0.3,
             "rgb(244,165,130)"
            ],
            [
             0.4,
             "rgb(253,219,199)"
            ],
            [
             0.5,
             "rgb(247,247,247)"
            ],
            [
             0.6,
             "rgb(209,229,240)"
            ],
            [
             0.7,
             "rgb(146,197,222)"
            ],
            [
             0.8,
             "rgb(67,147,195)"
            ],
            [
             0.9,
             "rgb(33,102,172)"
            ],
            [
             1,
             "rgb(5,48,97)"
            ]
           ],
           "sequential": [
            [
             0,
             "#440154"
            ],
            [
             0.1111111111111111,
             "#482878"
            ],
            [
             0.2222222222222222,
             "#3e4989"
            ],
            [
             0.3333333333333333,
             "#31688e"
            ],
            [
             0.4444444444444444,
             "#26828e"
            ],
            [
             0.5555555555555556,
             "#1f9e89"
            ],
            [
             0.6666666666666666,
             "#35b779"
            ],
            [
             0.7777777777777778,
             "#6ece58"
            ],
            [
             0.8888888888888888,
             "#b5de2b"
            ],
            [
             1,
             "#fde725"
            ]
           ],
           "sequentialminus": [
            [
             0,
             "#440154"
            ],
            [
             0.1111111111111111,
             "#482878"
            ],
            [
             0.2222222222222222,
             "#3e4989"
            ],
            [
             0.3333333333333333,
             "#31688e"
            ],
            [
             0.4444444444444444,
             "#26828e"
            ],
            [
             0.5555555555555556,
             "#1f9e89"
            ],
            [
             0.6666666666666666,
             "#35b779"
            ],
            [
             0.7777777777777778,
             "#6ece58"
            ],
            [
             0.8888888888888888,
             "#b5de2b"
            ],
            [
             1,
             "#fde725"
            ]
           ]
          },
          "colorway": [
           "#1F77B4",
           "#FF7F0E",
           "#2CA02C",
           "#D62728",
           "#9467BD",
           "#8C564B",
           "#E377C2",
           "#7F7F7F",
           "#BCBD22",
           "#17BECF"
          ],
          "font": {
           "color": "rgb(36,36,36)"
          },
          "geo": {
           "bgcolor": "white",
           "lakecolor": "white",
           "landcolor": "white",
           "showlakes": true,
           "showland": true,
           "subunitcolor": "white"
          },
          "hoverlabel": {
           "align": "left"
          },
          "hovermode": "closest",
          "mapbox": {
           "style": "light"
          },
          "paper_bgcolor": "white",
          "plot_bgcolor": "white",
          "polar": {
           "angularaxis": {
            "gridcolor": "rgb(232,232,232)",
            "linecolor": "rgb(36,36,36)",
            "showgrid": false,
            "showline": true,
            "ticks": "outside"
           },
           "bgcolor": "white",
           "radialaxis": {
            "gridcolor": "rgb(232,232,232)",
            "linecolor": "rgb(36,36,36)",
            "showgrid": false,
            "showline": true,
            "ticks": "outside"
           }
          },
          "scene": {
           "xaxis": {
            "backgroundcolor": "white",
            "gridcolor": "rgb(232,232,232)",
            "gridwidth": 2,
            "linecolor": "rgb(36,36,36)",
            "showbackground": true,
            "showgrid": false,
            "showline": true,
            "ticks": "outside",
            "zeroline": false,
            "zerolinecolor": "rgb(36,36,36)"
           },
           "yaxis": {
            "backgroundcolor": "white",
            "gridcolor": "rgb(232,232,232)",
            "gridwidth": 2,
            "linecolor": "rgb(36,36,36)",
            "showbackground": true,
            "showgrid": false,
            "showline": true,
            "ticks": "outside",
            "zeroline": false,
            "zerolinecolor": "rgb(36,36,36)"
           },
           "zaxis": {
            "backgroundcolor": "white",
            "gridcolor": "rgb(232,232,232)",
            "gridwidth": 2,
            "linecolor": "rgb(36,36,36)",
            "showbackground": true,
            "showgrid": false,
            "showline": true,
            "ticks": "outside",
            "zeroline": false,
            "zerolinecolor": "rgb(36,36,36)"
           }
          },
          "shapedefaults": {
           "fillcolor": "black",
           "line": {
            "width": 0
           },
           "opacity": 0.3
          },
          "ternary": {
           "aaxis": {
            "gridcolor": "rgb(232,232,232)",
            "linecolor": "rgb(36,36,36)",
            "showgrid": false,
            "showline": true,
            "ticks": "outside"
           },
           "baxis": {
            "gridcolor": "rgb(232,232,232)",
            "linecolor": "rgb(36,36,36)",
            "showgrid": false,
            "showline": true,
            "ticks": "outside"
           },
           "bgcolor": "white",
           "caxis": {
            "gridcolor": "rgb(232,232,232)",
            "linecolor": "rgb(36,36,36)",
            "showgrid": false,
            "showline": true,
            "ticks": "outside"
           }
          },
          "title": {
           "x": 0.05
          },
          "xaxis": {
           "automargin": true,
           "gridcolor": "rgb(232,232,232)",
           "linecolor": "rgb(36,36,36)",
           "showgrid": false,
           "showline": true,
           "ticks": "outside",
           "title": {
            "standoff": 15
           },
           "zeroline": false,
           "zerolinecolor": "rgb(36,36,36)"
          },
          "yaxis": {
           "automargin": true,
           "gridcolor": "rgb(232,232,232)",
           "linecolor": "rgb(36,36,36)",
           "showgrid": false,
           "showline": true,
           "ticks": "outside",
           "title": {
            "standoff": 15
           },
           "zeroline": false,
           "zerolinecolor": "rgb(36,36,36)"
          }
         }
        },
        "title": {
         "font": {
          "color": "black",
          "family": "Arial",
          "size": 22
         },
         "text": "<b>Engine Emissions by Flight Phase for CFM56-5B4/2P</b><br><sup>Log scale used to highlight variation across pollutants</sup>"
        },
        "xaxis": {
         "title": {
          "text": "Flight Phase"
         }
        },
        "yaxis": {
         "gridcolor": "lightgrey",
         "gridwidth": 1,
         "showgrid": true,
         "tickformat": ",",
         "tickvals": [
          1,
          10,
          100,
          1000,
          10000,
          100000
         ],
         "title": {
          "text": "Emissions (g, log scale)"
         },
         "type": "log"
        }
       }
      }
     },
     "metadata": {},
     "output_type": "display_data"
    }
   ],
   "source": [
    "import plotly.graph_objects as go\n",
    "import pandas as pd\n",
    "\n",
    "phases_df = pd.read_csv(\"output/emissions/summary.csv\")\n",
    "\n",
    "phases = phases_df[\"Phase\"]\n",
    "co_emm = phases_df[\"CO Emissions (g)\"]\n",
    "nox_emm = phases_df[\"NOx Emissions (g)\"]\n",
    "hc_emm = phases_df[\"HC Emissions (g)\"]\n",
    "\n",
    "fig = go.Figure([\n",
    "    go.Bar(\n",
    "           name='HC Emissions', \n",
    "           legendgroup='HC',\n",
    "           x=phases, \n",
    "           y=hc_emm, \n",
    "           text=hc_emm.apply(lambda x: f'{x:.3f}'), \n",
    "           textposition='inside', \n",
    "           textfont=dict(\n",
    "                size=10,              # Font size of the text on bars\n",
    "                color='white'         # Font color (e.g., 'white' if inside bar)\n",
    "            ),\n",
    "           hovertemplate='Pollutant: HC<br>Phase: %{x}<br>Emissions: %{y:.3f} g<extra></extra>',\n",
    "           marker=dict(color='#009E73') \n",
    "           ),\n",
    "    go.Bar(\n",
    "           name='NOx Emissions', \n",
    "           legendgroup='NOx',\n",
    "           x=phases, \n",
    "           y=nox_emm,\n",
    "           text=nox_emm.apply(lambda x: f'{x:.3f}'),\n",
    "           textposition='inside',\n",
    "           textfont=dict(\n",
    "                size=10,              # Font size of the text on bars\n",
    "                color='white'         # Font color (e.g., 'white' if inside bar)\n",
    "            ),\n",
    "           hovertemplate='Pollutant: NOx<br>Phase: %{x}<br>Emissions: %{y:.3f} g<extra></extra>',\n",
    "           marker=dict(color='#E69F00') \n",
    "           ),\n",
    "    go.Bar(\n",
    "           name='CO Emissions', \n",
    "           legendgroup='CO',\n",
    "           x=phases, \n",
    "           y=co_emm,\n",
    "           text=co_emm.apply(lambda x: f'{x:.3f}'),\n",
    "           textposition='inside',\n",
    "           textfont=dict(\n",
    "                size=10,              # Font size of the text on bars\n",
    "                color='white'         # Font color (e.g., 'white' if inside bar)\n",
    "            ),\n",
    "           hovertemplate='Pollutant: CO<br>Phase: %{x}<br>Emissions: %{y:.3f} g<extra></extra>',\n",
    "           marker=dict(color='#56B4E9') \n",
    "           )\n",
    "])\n",
    "\n",
    "fig.update_layout(\n",
    "    barmode='group',\n",
    "    yaxis_type='log', \n",
    "    template='simple_white',\n",
    "    title='<b>Engine Emissions by Flight Phase for CFM56-5B4/2P</b><br><sup>Log scale used to highlight variation across pollutants</sup>',\n",
    "\n",
    "    bargap=0.15,         # Space between groups\n",
    "    bargroupgap=0.05,    # Space between bars within a group\n",
    "\n",
    "    # Stylistic Formatting\n",
    "    height=650,  # Increase vertical space (good for log scale)\n",
    "    margin=dict(\n",
    "        l=80,   # Left margin (space for y-axis labels)\n",
    "        r=40,   # Right margin\n",
    "        t=100,  # Top margin (space for title + subtitle)\n",
    "        b=80    # Bottom margin (space for x-axis labels)\n",
    "    ),\n",
    "    title_font=dict(\n",
    "        size=22,\n",
    "        family=\"Arial\",\n",
    "        color=\"black\"\n",
    "    ),\n",
    "    font=dict(\n",
    "        size=13, \n",
    "        family=\"Arial\"\n",
    "    ),\n",
    "    legend=dict(\n",
    "        font=dict(size=12),\n",
    "        orientation=\"h\", # horizontal legend\n",
    "        yanchor=\"bottom\",\n",
    "        y=-0.2,\n",
    "        xanchor=\"center\",\n",
    "        x=0.5\n",
    "    ),\n",
    "\n",
    "    # Formatting x-axis\n",
    "    xaxis=dict(\n",
    "        title='Flight Phase'\n",
    "    ),\n",
    "    \n",
    "    # Formatting y-axis\n",
    "    yaxis=dict(\n",
    "        type='log',\n",
    "        title='Emissions (g, log scale)',\n",
    "        tickvals=[1, 10, 100, 1000, 10000, 100000],\n",
    "        tickformat=',',\n",
    "        showgrid=True,\n",
    "        gridcolor='lightgrey',\n",
    "        gridwidth=1\n",
    "    )\n",
    ")\n",
    "\n",
    "fig.show()\n",
    "fig.write_html('fig.html')"
   ]
  },
  {
   "cell_type": "code",
   "execution_count": null,
   "id": "13e355f7",
   "metadata": {},
   "outputs": [],
   "source": []
  }
 ],
 "metadata": {
  "kernelspec": {
   "display_name": "Python 3",
   "language": "python",
   "name": "python3"
  },
  "language_info": {
   "codemirror_mode": {
    "name": "ipython",
    "version": 3
   },
   "file_extension": ".py",
   "mimetype": "text/x-python",
   "name": "python",
   "nbconvert_exporter": "python",
   "pygments_lexer": "ipython3",
   "version": "3.12.4"
  }
 },
 "nbformat": 4,
 "nbformat_minor": 5
}
