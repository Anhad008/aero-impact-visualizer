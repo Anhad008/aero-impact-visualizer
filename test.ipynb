{
 "cells": [
  {
   "cell_type": "code",
   "execution_count": 7,
   "id": "52284f06",
   "metadata": {},
   "outputs": [],
   "source": [
    "import pandas as pd"
   ]
  },
  {
   "cell_type": "code",
   "execution_count": 8,
   "id": "d9cc65ba",
   "metadata": {},
   "outputs": [
    {
     "data": {
      "text/html": [
       "<div>\n",
       "<style scoped>\n",
       "    .dataframe tbody tr th:only-of-type {\n",
       "        vertical-align: middle;\n",
       "    }\n",
       "\n",
       "    .dataframe tbody tr th {\n",
       "        vertical-align: top;\n",
       "    }\n",
       "\n",
       "    .dataframe thead th {\n",
       "        text-align: right;\n",
       "    }\n",
       "</style>\n",
       "<table border=\"1\" class=\"dataframe\">\n",
       "  <thead>\n",
       "    <tr style=\"text-align: right;\">\n",
       "      <th></th>\n",
       "      <th>Phase</th>\n",
       "      <th>Duration (min)</th>\n",
       "      <th>Altitude (ft)</th>\n",
       "      <th>Speed (kts)</th>\n",
       "      <th>Thrust (%)</th>\n",
       "    </tr>\n",
       "  </thead>\n",
       "  <tbody>\n",
       "    <tr>\n",
       "      <th>0</th>\n",
       "      <td>taxi</td>\n",
       "      <td>5.0</td>\n",
       "      <td>0</td>\n",
       "      <td>0</td>\n",
       "      <td>7</td>\n",
       "    </tr>\n",
       "    <tr>\n",
       "      <th>1</th>\n",
       "      <td>takeoff</td>\n",
       "      <td>0.5</td>\n",
       "      <td>1500</td>\n",
       "      <td>200</td>\n",
       "      <td>100</td>\n",
       "    </tr>\n",
       "    <tr>\n",
       "      <th>2</th>\n",
       "      <td>climb</td>\n",
       "      <td>15.0</td>\n",
       "      <td>35000</td>\n",
       "      <td>280</td>\n",
       "      <td>85</td>\n",
       "    </tr>\n",
       "    <tr>\n",
       "      <th>3</th>\n",
       "      <td>cruise</td>\n",
       "      <td>60.0</td>\n",
       "      <td>35000</td>\n",
       "      <td>470</td>\n",
       "      <td>60</td>\n",
       "    </tr>\n",
       "    <tr>\n",
       "      <th>4</th>\n",
       "      <td>descent</td>\n",
       "      <td>20.0</td>\n",
       "      <td>0</td>\n",
       "      <td>250</td>\n",
       "      <td>30</td>\n",
       "    </tr>\n",
       "  </tbody>\n",
       "</table>\n",
       "</div>"
      ],
      "text/plain": [
       "     Phase  Duration (min)  Altitude (ft)  Speed (kts)  Thrust (%)\n",
       "0     taxi             5.0              0            0           7\n",
       "1  takeoff             0.5           1500          200         100\n",
       "2    climb            15.0          35000          280          85\n",
       "3   cruise            60.0          35000          470          60\n",
       "4  descent            20.0              0          250          30"
      ]
     },
     "execution_count": 8,
     "metadata": {},
     "output_type": "execute_result"
    }
   ],
   "source": [
    "test_flight_profile = pd.read_csv(\"flight-profiles/test-flight-profile.csv\")\n",
    "test_flight_profile"
   ]
  },
  {
   "cell_type": "code",
   "execution_count": 9,
   "id": "77bdb2a6",
   "metadata": {},
   "outputs": [
    {
     "data": {
      "text/html": [
       "<div>\n",
       "<style scoped>\n",
       "    .dataframe tbody tr th:only-of-type {\n",
       "        vertical-align: middle;\n",
       "    }\n",
       "\n",
       "    .dataframe tbody tr th {\n",
       "        vertical-align: top;\n",
       "    }\n",
       "\n",
       "    .dataframe thead th {\n",
       "        text-align: right;\n",
       "    }\n",
       "</style>\n",
       "<table border=\"1\" class=\"dataframe\">\n",
       "  <thead>\n",
       "    <tr style=\"text-align: right;\">\n",
       "      <th></th>\n",
       "      <th>Engine Family</th>\n",
       "      <th>Engine Model</th>\n",
       "      <th>Combustor</th>\n",
       "      <th>Fuel</th>\n",
       "      <th>Bypass Ratio</th>\n",
       "      <th>Pressure Ratio</th>\n",
       "      <th>Rated Thrust (kN)</th>\n",
       "      <th>Phase</th>\n",
       "      <th>Power Setting (%)</th>\n",
       "      <th>Fuel Flow (kg/s)</th>\n",
       "      <th>Emission Index HC (g / kg fuel)</th>\n",
       "      <th>Emission Index CO (g / kg fuel)</th>\n",
       "      <th>Emission Index NOx (g / kg fuel)</th>\n",
       "    </tr>\n",
       "  </thead>\n",
       "  <tbody>\n",
       "    <tr>\n",
       "      <th>0</th>\n",
       "      <td>CFM56</td>\n",
       "      <td>5B4</td>\n",
       "      <td>DAC-II</td>\n",
       "      <td>Jet A</td>\n",
       "      <td>5.9</td>\n",
       "      <td>27.7</td>\n",
       "      <td>120.1</td>\n",
       "      <td>TAKE-OFF</td>\n",
       "      <td>100</td>\n",
       "      <td>1.14</td>\n",
       "      <td>0.1</td>\n",
       "      <td>1.4</td>\n",
       "      <td>18.4</td>\n",
       "    </tr>\n",
       "    <tr>\n",
       "      <th>1</th>\n",
       "      <td>CFM56</td>\n",
       "      <td>5B4</td>\n",
       "      <td>DAC-II</td>\n",
       "      <td>Jet A</td>\n",
       "      <td>5.9</td>\n",
       "      <td>27.7</td>\n",
       "      <td>120.1</td>\n",
       "      <td>CLIMB OUT</td>\n",
       "      <td>85</td>\n",
       "      <td>0.95</td>\n",
       "      <td>0.2</td>\n",
       "      <td>3.6</td>\n",
       "      <td>13.6</td>\n",
       "    </tr>\n",
       "    <tr>\n",
       "      <th>2</th>\n",
       "      <td>CFM56</td>\n",
       "      <td>5B4</td>\n",
       "      <td>DAC-II</td>\n",
       "      <td>Jet A</td>\n",
       "      <td>5.9</td>\n",
       "      <td>27.7</td>\n",
       "      <td>120.1</td>\n",
       "      <td>APPROACH</td>\n",
       "      <td>30</td>\n",
       "      <td>0.34</td>\n",
       "      <td>5.3</td>\n",
       "      <td>29.1</td>\n",
       "      <td>6.5</td>\n",
       "    </tr>\n",
       "    <tr>\n",
       "      <th>3</th>\n",
       "      <td>CFM56</td>\n",
       "      <td>5B4</td>\n",
       "      <td>DAC-II</td>\n",
       "      <td>Jet A</td>\n",
       "      <td>5.9</td>\n",
       "      <td>27.7</td>\n",
       "      <td>120.1</td>\n",
       "      <td>IDLE</td>\n",
       "      <td>7</td>\n",
       "      <td>0.12</td>\n",
       "      <td>3.6</td>\n",
       "      <td>40.1</td>\n",
       "      <td>3.9</td>\n",
       "    </tr>\n",
       "  </tbody>\n",
       "</table>\n",
       "</div>"
      ],
      "text/plain": [
       "  Engine Family Engine Model Combustor   Fuel  Bypass Ratio  Pressure Ratio  \\\n",
       "0         CFM56          5B4    DAC-II  Jet A           5.9            27.7   \n",
       "1         CFM56          5B4    DAC-II  Jet A           5.9            27.7   \n",
       "2         CFM56          5B4    DAC-II  Jet A           5.9            27.7   \n",
       "3         CFM56          5B4    DAC-II  Jet A           5.9            27.7   \n",
       "\n",
       "   Rated Thrust (kN)      Phase  Power Setting (%)  Fuel Flow (kg/s)  \\\n",
       "0              120.1   TAKE-OFF                100              1.14   \n",
       "1              120.1  CLIMB OUT                 85              0.95   \n",
       "2              120.1   APPROACH                 30              0.34   \n",
       "3              120.1       IDLE                  7              0.12   \n",
       "\n",
       "   Emission Index HC (g / kg fuel)  Emission Index CO (g / kg fuel)  \\\n",
       "0                              0.1                              1.4   \n",
       "1                              0.2                              3.6   \n",
       "2                              5.3                             29.1   \n",
       "3                              3.6                             40.1   \n",
       "\n",
       "   Emission Index NOx (g / kg fuel)  \n",
       "0                              18.4  \n",
       "1                              13.6  \n",
       "2                               6.5  \n",
       "3                               3.9  "
      ]
     },
     "execution_count": 9,
     "metadata": {},
     "output_type": "execute_result"
    }
   ],
   "source": [
    "engine_data = pd.read_csv(\"data/engine-data.csv\")\n",
    "engine_data"
   ]
  },
  {
   "cell_type": "code",
   "execution_count": 13,
   "id": "84512684",
   "metadata": {},
   "outputs": [
    {
     "name": "stdout",
     "output_type": "stream",
     "text": [
      "0     300.0\n",
      "1      30.0\n",
      "2     900.0\n",
      "3    3600.0\n",
      "4    1200.0\n",
      "Name: Duration (min), dtype: float64\n"
     ]
    }
   ],
   "source": [
    "profile_duration_min = test_flight_profile['Duration (min)']\n",
    "profile_duration_seconds = profile_duration_min * 60\n",
    "print(profile_duration_seconds)"
   ]
  },
  {
   "cell_type": "code",
   "execution_count": 14,
   "id": "2c9eaa67",
   "metadata": {},
   "outputs": [],
   "source": [
    "import pandas as pd \n",
    "import json\n",
    "import os\n",
    "\n",
    "# ---Reading Data Files---\n",
    "test_flight_profile = pd.read_csv(\"flight-profiles/test-flight-profile.csv\")\n",
    "with open (\"data/engines-data.json\") as f:\n",
    "    data = json.load(f)\n",
    "\n",
    "# ---Extract the phase-wise emission for the CFM56-5B4/2P engine from the JSON datafile---\n",
    "phases = data[\"CFM56-5B4/2P\"][\"Phases\"]\n",
    "\n",
    "# ---Importing Variables from Data---\n",
    "phase_data = []\n",
    "for phase_name, details in phases.items():\n",
    "    ei  = details[\"Emission Indices (g/kg fuel)\"]\n",
    "    phase_data.append({\n",
    "        \"Phase\": phase_name,\n",
    "        \"Fuel Flow (kg/s)\": details[\"Fuel Flow (kg/s)\"],\n",
    "        \"HC (g/kg)\": ei[\"HC\"],\n",
    "        \"CO (g/kg)\": ei[\"CO\"],\n",
    "        \"NOx (g/kg)\": ei[\"NOx\"]\n",
    "    })\n",
    "\n",
    "phases_df = pd.DataFrame(phase_data)     # Dataframe containing data for all phases\n",
    "\n",
    "fuel_flow_rates = phases_df[\"Fuel Flow (kg/s)\"] # Extract the fuel flow rates for All Phases (in kg per second)\n",
    "ei_HC = phases_df[\"HC (g/kg)\"]                  # Extract the Emission Index for Hydrocarbons for All Phases (g/kg of fuel)\n",
    "ei_CO = phases_df[\"CO (g/kg)\"]                  # Extract the Emission Index for Carbon Monoxide for All Phases (g/kg of fuel)\n",
    "ei_NOx = phases_df[\"NOx (g/kg)\"]                # Extract the Emission Index for Nitrogen Oxides for All Phases (g/kg of fuel)\n",
    "\n",
    "phases = test_flight_profile[\"Phase\"] # Extract Phase data from CSV datafile\n",
    "profile_duration_min = test_flight_profile['Duration (min)'] # Duration for All Phases (minutes)\n",
    "\n",
    "\n",
    "# ---Calculations--- \n",
    "profile_duration_seconds = profile_duration_min * 60  # Duration for All Phases (seconds)\n",
    "\n",
    "fuel_burned = fuel_flow_rates * profile_duration_seconds # Fuel burned for All Phases (kg)\n",
    "\n",
    "hc_emissions = ei_HC * fuel_burned      # HC emissions in Fuel Burned\n",
    "co_emissions = ei_CO * fuel_burned      # CO emissions in Fuel Burned\n",
    "nox_emissions = ei_NOx * fuel_burned    # NOx emissions in Fuel Burned\n",
    "\n",
    "total_duration = profile_duration_seconds.sum()     # Total Duration of Flight\n",
    "total_fuel_burned = fuel_burned.sum()               # Total Fuel Burned\n",
    "total_co_emissions = co_emissions.sum()             # Total Carbon Monoxide Emissions\n",
    "total_hc_emissions = hc_emissions.sum()             # Total Hydrocarbon Emissions\n",
    "total_nox_emissions = nox_emissions.sum()           # Total Nitrogen Oxides Emissions\n",
    "\n",
    "# ---Create a DataFrame for Total Emissions Summary---\n",
    "total_data = pd.DataFrame([{\n",
    "    \"Phase\":\"Total\",\n",
    "    \"Duration (s)\":total_duration,\n",
    "    \"Fuel Burned (kg)\":total_fuel_burned,\n",
    "    \"HC emissions (g)\":total_hc_emissions,\n",
    "    \"NOx emissions (g)\":total_nox_emissions,\n",
    "    \"CO emissions (g)\":total_co_emissions,\n",
    "}])\n",
    "\n",
    "# ---Create Phase-wise Emissions Summary DataFrame---\n",
    "phases_summary_df = pd.DataFrame({\n",
    "    \"Phase\":phases,\n",
    "    \"Duration (s)\":profile_duration_seconds,\n",
    "    \"Fuel Flow (kg/s)\":fuel_flow_rates,\n",
    "    \"Fuel Burned (kg)\":fuel_burned,\n",
    "    \"HC emissions (g)\":hc_emissions,\n",
    "    \"NOx emissions (g)\":nox_emissions,\n",
    "    \"CO emissions (g)\":co_emissions,\n",
    "})\n",
    "phases_summary_df = pd.concat([phases_summary_df, total_data], ignore_index=True)\n",
    "\n",
    "\n",
    "# ---Saving Outputs---\n",
    "output_dir = \"output/emissions\"\n",
    "output_file = os.path.join(output_dir, \"summary.csv\")\n",
    "\n",
    "phases_summary_df.to_csv(output_file, index=False)\n",
    "os.makedirs(output_dir, exist_ok=True)\n"
   ]
  },
  {
   "cell_type": "code",
   "execution_count": 15,
   "id": "5535bc2e",
   "metadata": {},
   "outputs": [
    {
     "data": {
      "text/html": [
       "<div>\n",
       "<style scoped>\n",
       "    .dataframe tbody tr th:only-of-type {\n",
       "        vertical-align: middle;\n",
       "    }\n",
       "\n",
       "    .dataframe tbody tr th {\n",
       "        vertical-align: top;\n",
       "    }\n",
       "\n",
       "    .dataframe thead th {\n",
       "        text-align: right;\n",
       "    }\n",
       "</style>\n",
       "<table border=\"1\" class=\"dataframe\">\n",
       "  <thead>\n",
       "    <tr style=\"text-align: right;\">\n",
       "      <th></th>\n",
       "      <th>Phase</th>\n",
       "      <th>Duration (s)</th>\n",
       "      <th>Fuel Flow (kg/s)</th>\n",
       "      <th>Fuel Burned (kg)</th>\n",
       "      <th>HC emissions (g)</th>\n",
       "      <th>NOx emissions (g)</th>\n",
       "      <th>CO emissions (g)</th>\n",
       "    </tr>\n",
       "  </thead>\n",
       "  <tbody>\n",
       "    <tr>\n",
       "      <th>0</th>\n",
       "      <td>taxi</td>\n",
       "      <td>300.0</td>\n",
       "      <td>1.14</td>\n",
       "      <td>342.0</td>\n",
       "      <td>34.2</td>\n",
       "      <td>6292.8</td>\n",
       "      <td>478.8</td>\n",
       "    </tr>\n",
       "    <tr>\n",
       "      <th>1</th>\n",
       "      <td>takeoff</td>\n",
       "      <td>30.0</td>\n",
       "      <td>0.95</td>\n",
       "      <td>28.5</td>\n",
       "      <td>5.7</td>\n",
       "      <td>387.6</td>\n",
       "      <td>102.6</td>\n",
       "    </tr>\n",
       "    <tr>\n",
       "      <th>2</th>\n",
       "      <td>climb</td>\n",
       "      <td>900.0</td>\n",
       "      <td>0.34</td>\n",
       "      <td>306.0</td>\n",
       "      <td>1621.8</td>\n",
       "      <td>1989.0</td>\n",
       "      <td>8904.6</td>\n",
       "    </tr>\n",
       "    <tr>\n",
       "      <th>3</th>\n",
       "      <td>cruise</td>\n",
       "      <td>3600.0</td>\n",
       "      <td>0.12</td>\n",
       "      <td>432.0</td>\n",
       "      <td>1555.2</td>\n",
       "      <td>1684.8</td>\n",
       "      <td>17323.2</td>\n",
       "    </tr>\n",
       "    <tr>\n",
       "      <th>4</th>\n",
       "      <td>descent</td>\n",
       "      <td>1200.0</td>\n",
       "      <td>NaN</td>\n",
       "      <td>NaN</td>\n",
       "      <td>NaN</td>\n",
       "      <td>NaN</td>\n",
       "      <td>NaN</td>\n",
       "    </tr>\n",
       "    <tr>\n",
       "      <th>5</th>\n",
       "      <td>Total</td>\n",
       "      <td>6030.0</td>\n",
       "      <td>NaN</td>\n",
       "      <td>1108.5</td>\n",
       "      <td>3216.9</td>\n",
       "      <td>10354.2</td>\n",
       "      <td>26809.2</td>\n",
       "    </tr>\n",
       "  </tbody>\n",
       "</table>\n",
       "</div>"
      ],
      "text/plain": [
       "     Phase  Duration (s)  Fuel Flow (kg/s)  Fuel Burned (kg)  \\\n",
       "0     taxi         300.0              1.14             342.0   \n",
       "1  takeoff          30.0              0.95              28.5   \n",
       "2    climb         900.0              0.34             306.0   \n",
       "3   cruise        3600.0              0.12             432.0   \n",
       "4  descent        1200.0               NaN               NaN   \n",
       "5    Total        6030.0               NaN            1108.5   \n",
       "\n",
       "   HC emissions (g)  NOx emissions (g)  CO emissions (g)  \n",
       "0              34.2             6292.8             478.8  \n",
       "1               5.7              387.6             102.6  \n",
       "2            1621.8             1989.0            8904.6  \n",
       "3            1555.2             1684.8           17323.2  \n",
       "4               NaN                NaN               NaN  \n",
       "5            3216.9            10354.2           26809.2  "
      ]
     },
     "execution_count": 15,
     "metadata": {},
     "output_type": "execute_result"
    }
   ],
   "source": [
    "phases_summary_df"
   ]
  },
  {
   "cell_type": "code",
   "execution_count": null,
   "id": "b46c39cf",
   "metadata": {},
   "outputs": [
    {
     "data": {
      "application/vnd.plotly.v1+json": {
       "config": {
        "plotlyServerURL": "https://plot.ly"
       },
       "data": [
        {
         "hovertemplate": "Pollutant: HC<br>Phase: %{x}<br>Emissions: %{y:.1f} g<extra></extra>",
         "legendgroup": "HC",
         "marker": {
          "color": "#009E73"
         },
         "name": "HC Emissions",
         "text": [
          "129.600",
          "3.420",
          "117.000",
          "684.000",
          "2162.400",
          "3096.420"
         ],
         "textfont": {
          "color": "white",
          "size": 10
         },
         "textposition": "inside",
         "type": "bar",
         "x": [
          "Idle/Taxi",
          "Take-Off",
          "Climb Out",
          "Cruise",
          "Descent",
          "Total"
         ],
         "y": {
          "bdata": "MzMzMzMzYEBcj8L1KFwLQAAAAAAAQF1AAAAAAABghUDNzMzMzOSgQKRwPQrXMKhA",
          "dtype": "f8"
         }
        },
        {
         "hovertemplate": "Pollutant: NOx<br>Phase: %{x}<br>Emissions: %{y:.1f} g<extra></extra>",
         "legendgroup": "NOx",
         "marker": {
          "color": "#E69F00"
         },
         "name": "NOx Emissions",
         "text": [
          "140.400",
          "629.280",
          "7897.500",
          "46512.000",
          "2652.000",
          "57831.180"
         ],
         "textfont": {
          "color": "white",
          "size": 10
         },
         "textposition": "inside",
         "type": "bar",
         "x": [
          "Idle/Taxi",
          "Take-Off",
          "Climb Out",
          "Cruise",
          "Descent",
          "Total"
         ],
         "y": {
          "bdata": "zczMzMyMYUAK16NwPaqDQAAAAACA2b5AAAAAAAC25kAAAAAAALikQClcj8LlPOxA",
          "dtype": "f8"
         }
        },
        {
         "hovertemplate": "Pollutant: CO<br>Phase: %{x}<br>Emissions: %{y:.1f} g<extra></extra>",
         "legendgroup": "CO",
         "marker": {
          "color": "#56B4E9"
         },
         "name": "CO Emissions",
         "text": [
          "1443.600",
          "47.880",
          "585.000",
          "12312.000",
          "11872.800",
          "26261.280"
         ],
         "textfont": {
          "color": "white",
          "size": 10
         },
         "textposition": "inside",
         "type": "bar",
         "x": [
          "Idle/Taxi",
          "Take-Off",
          "Climb Out",
          "Cruise",
          "Descent",
          "Total"
         ],
         "y": {
          "bdata": "ZmZmZmaOlkBxPQrXo/BHQAAAAAAASIJAAAAAAAAMyEBmZmZmZjDHQLgehetRpdlA",
          "dtype": "f8"
         }
        }
       ],
       "layout": {
        "bargap": 0.15,
        "bargroupgap": 0.05,
        "barmode": "group",
        "font": {
         "family": "Arial",
         "size": 13
        },
        "height": 650,
        "legend": {
         "font": {
          "size": 12
         },
         "orientation": "h",
         "x": 0.5,
         "xanchor": "center",
         "y": -0.2,
         "yanchor": "bottom"
        },
        "margin": {
         "b": 80,
         "l": 80,
         "r": 40,
         "t": 100
        },
        "template": {
         "data": {
          "bar": [
           {
            "error_x": {
             "color": "rgb(36,36,36)"
            },
            "error_y": {
             "color": "rgb(36,36,36)"
            },
            "marker": {
             "line": {
              "color": "white",
              "width": 0.5
             },
             "pattern": {
              "fillmode": "overlay",
              "size": 10,
              "solidity": 0.2
             }
            },
            "type": "bar"
           }
          ],
          "barpolar": [
           {
            "marker": {
             "line": {
              "color": "white",
              "width": 0.5
             },
             "pattern": {
              "fillmode": "overlay",
              "size": 10,
              "solidity": 0.2
             }
            },
            "type": "barpolar"
           }
          ],
          "carpet": [
           {
            "aaxis": {
             "endlinecolor": "rgb(36,36,36)",
             "gridcolor": "white",
             "linecolor": "white",
             "minorgridcolor": "white",
             "startlinecolor": "rgb(36,36,36)"
            },
            "baxis": {
             "endlinecolor": "rgb(36,36,36)",
             "gridcolor": "white",
             "linecolor": "white",
             "minorgridcolor": "white",
             "startlinecolor": "rgb(36,36,36)"
            },
            "type": "carpet"
           }
          ],
          "choropleth": [
           {
            "colorbar": {
             "outlinewidth": 1,
             "tickcolor": "rgb(36,36,36)",
             "ticks": "outside"
            },
            "type": "choropleth"
           }
          ],
          "contour": [
           {
            "colorbar": {
             "outlinewidth": 1,
             "tickcolor": "rgb(36,36,36)",
             "ticks": "outside"
            },
            "colorscale": [
             [
              0,
              "#440154"
             ],
             [
              0.1111111111111111,
              "#482878"
             ],
             [
              0.2222222222222222,
              "#3e4989"
             ],
             [
              0.3333333333333333,
              "#31688e"
             ],
             [
              0.4444444444444444,
              "#26828e"
             ],
             [
              0.5555555555555556,
              "#1f9e89"
             ],
             [
              0.6666666666666666,
              "#35b779"
             ],
             [
              0.7777777777777778,
              "#6ece58"
             ],
             [
              0.8888888888888888,
              "#b5de2b"
             ],
             [
              1,
              "#fde725"
             ]
            ],
            "type": "contour"
           }
          ],
          "contourcarpet": [
           {
            "colorbar": {
             "outlinewidth": 1,
             "tickcolor": "rgb(36,36,36)",
             "ticks": "outside"
            },
            "type": "contourcarpet"
           }
          ],
          "heatmap": [
           {
            "colorbar": {
             "outlinewidth": 1,
             "tickcolor": "rgb(36,36,36)",
             "ticks": "outside"
            },
            "colorscale": [
             [
              0,
              "#440154"
             ],
             [
              0.1111111111111111,
              "#482878"
             ],
             [
              0.2222222222222222,
              "#3e4989"
             ],
             [
              0.3333333333333333,
              "#31688e"
             ],
             [
              0.4444444444444444,
              "#26828e"
             ],
             [
              0.5555555555555556,
              "#1f9e89"
             ],
             [
              0.6666666666666666,
              "#35b779"
             ],
             [
              0.7777777777777778,
              "#6ece58"
             ],
             [
              0.8888888888888888,
              "#b5de2b"
             ],
             [
              1,
              "#fde725"
             ]
            ],
            "type": "heatmap"
           }
          ],
          "histogram": [
           {
            "marker": {
             "line": {
              "color": "white",
              "width": 0.6
             }
            },
            "type": "histogram"
           }
          ],
          "histogram2d": [
           {
            "colorbar": {
             "outlinewidth": 1,
             "tickcolor": "rgb(36,36,36)",
             "ticks": "outside"
            },
            "colorscale": [
             [
              0,
              "#440154"
             ],
             [
              0.1111111111111111,
              "#482878"
             ],
             [
              0.2222222222222222,
              "#3e4989"
             ],
             [
              0.3333333333333333,
              "#31688e"
             ],
             [
              0.4444444444444444,
              "#26828e"
             ],
             [
              0.5555555555555556,
              "#1f9e89"
             ],
             [
              0.6666666666666666,
              "#35b779"
             ],
             [
              0.7777777777777778,
              "#6ece58"
             ],
             [
              0.8888888888888888,
              "#b5de2b"
             ],
             [
              1,
              "#fde725"
             ]
            ],
            "type": "histogram2d"
           }
          ],
          "histogram2dcontour": [
           {
            "colorbar": {
             "outlinewidth": 1,
             "tickcolor": "rgb(36,36,36)",
             "ticks": "outside"
            },
            "colorscale": [
             [
              0,
              "#440154"
             ],
             [
              0.1111111111111111,
              "#482878"
             ],
             [
              0.2222222222222222,
              "#3e4989"
             ],
             [
              0.3333333333333333,
              "#31688e"
             ],
             [
              0.4444444444444444,
              "#26828e"
             ],
             [
              0.5555555555555556,
              "#1f9e89"
             ],
             [
              0.6666666666666666,
              "#35b779"
             ],
             [
              0.7777777777777778,
              "#6ece58"
             ],
             [
              0.8888888888888888,
              "#b5de2b"
             ],
             [
              1,
              "#fde725"
             ]
            ],
            "type": "histogram2dcontour"
           }
          ],
          "mesh3d": [
           {
            "colorbar": {
             "outlinewidth": 1,
             "tickcolor": "rgb(36,36,36)",
             "ticks": "outside"
            },
            "type": "mesh3d"
           }
          ],
          "parcoords": [
           {
            "line": {
             "colorbar": {
              "outlinewidth": 1,
              "tickcolor": "rgb(36,36,36)",
              "ticks": "outside"
             }
            },
            "type": "parcoords"
           }
          ],
          "pie": [
           {
            "automargin": true,
            "type": "pie"
           }
          ],
          "scatter": [
           {
            "fillpattern": {
             "fillmode": "overlay",
             "size": 10,
             "solidity": 0.2
            },
            "type": "scatter"
           }
          ],
          "scatter3d": [
           {
            "line": {
             "colorbar": {
              "outlinewidth": 1,
              "tickcolor": "rgb(36,36,36)",
              "ticks": "outside"
             }
            },
            "marker": {
             "colorbar": {
              "outlinewidth": 1,
              "tickcolor": "rgb(36,36,36)",
              "ticks": "outside"
             }
            },
            "type": "scatter3d"
           }
          ],
          "scattercarpet": [
           {
            "marker": {
             "colorbar": {
              "outlinewidth": 1,
              "tickcolor": "rgb(36,36,36)",
              "ticks": "outside"
             }
            },
            "type": "scattercarpet"
           }
          ],
          "scattergeo": [
           {
            "marker": {
             "colorbar": {
              "outlinewidth": 1,
              "tickcolor": "rgb(36,36,36)",
              "ticks": "outside"
             }
            },
            "type": "scattergeo"
           }
          ],
          "scattergl": [
           {
            "marker": {
             "colorbar": {
              "outlinewidth": 1,
              "tickcolor": "rgb(36,36,36)",
              "ticks": "outside"
             }
            },
            "type": "scattergl"
           }
          ],
          "scattermap": [
           {
            "marker": {
             "colorbar": {
              "outlinewidth": 1,
              "tickcolor": "rgb(36,36,36)",
              "ticks": "outside"
             }
            },
            "type": "scattermap"
           }
          ],
          "scattermapbox": [
           {
            "marker": {
             "colorbar": {
              "outlinewidth": 1,
              "tickcolor": "rgb(36,36,36)",
              "ticks": "outside"
             }
            },
            "type": "scattermapbox"
           }
          ],
          "scatterpolar": [
           {
            "marker": {
             "colorbar": {
              "outlinewidth": 1,
              "tickcolor": "rgb(36,36,36)",
              "ticks": "outside"
             }
            },
            "type": "scatterpolar"
           }
          ],
          "scatterpolargl": [
           {
            "marker": {
             "colorbar": {
              "outlinewidth": 1,
              "tickcolor": "rgb(36,36,36)",
              "ticks": "outside"
             }
            },
            "type": "scatterpolargl"
           }
          ],
          "scatterternary": [
           {
            "marker": {
             "colorbar": {
              "outlinewidth": 1,
              "tickcolor": "rgb(36,36,36)",
              "ticks": "outside"
             }
            },
            "type": "scatterternary"
           }
          ],
          "surface": [
           {
            "colorbar": {
             "outlinewidth": 1,
             "tickcolor": "rgb(36,36,36)",
             "ticks": "outside"
            },
            "colorscale": [
             [
              0,
              "#440154"
             ],
             [
              0.1111111111111111,
              "#482878"
             ],
             [
              0.2222222222222222,
              "#3e4989"
             ],
             [
              0.3333333333333333,
              "#31688e"
             ],
             [
              0.4444444444444444,
              "#26828e"
             ],
             [
              0.5555555555555556,
              "#1f9e89"
             ],
             [
              0.6666666666666666,
              "#35b779"
             ],
             [
              0.7777777777777778,
              "#6ece58"
             ],
             [
              0.8888888888888888,
              "#b5de2b"
             ],
             [
              1,
              "#fde725"
             ]
            ],
            "type": "surface"
           }
          ],
          "table": [
           {
            "cells": {
             "fill": {
              "color": "rgb(237,237,237)"
             },
             "line": {
              "color": "white"
             }
            },
            "header": {
             "fill": {
              "color": "rgb(217,217,217)"
             },
             "line": {
              "color": "white"
             }
            },
            "type": "table"
           }
          ]
         },
         "layout": {
          "annotationdefaults": {
           "arrowhead": 0,
           "arrowwidth": 1
          },
          "autotypenumbers": "strict",
          "coloraxis": {
           "colorbar": {
            "outlinewidth": 1,
            "tickcolor": "rgb(36,36,36)",
            "ticks": "outside"
           }
          },
          "colorscale": {
           "diverging": [
            [
             0,
             "rgb(103,0,31)"
            ],
            [
             0.1,
             "rgb(178,24,43)"
            ],
            [
             0.2,
             "rgb(214,96,77)"
            ],
            [
             0.3,
             "rgb(244,165,130)"
            ],
            [
             0.4,
             "rgb(253,219,199)"
            ],
            [
             0.5,
             "rgb(247,247,247)"
            ],
            [
             0.6,
             "rgb(209,229,240)"
            ],
            [
             0.7,
             "rgb(146,197,222)"
            ],
            [
             0.8,
             "rgb(67,147,195)"
            ],
            [
             0.9,
             "rgb(33,102,172)"
            ],
            [
             1,
             "rgb(5,48,97)"
            ]
           ],
           "sequential": [
            [
             0,
             "#440154"
            ],
            [
             0.1111111111111111,
             "#482878"
            ],
            [
             0.2222222222222222,
             "#3e4989"
            ],
            [
             0.3333333333333333,
             "#31688e"
            ],
            [
             0.4444444444444444,
             "#26828e"
            ],
            [
             0.5555555555555556,
             "#1f9e89"
            ],
            [
             0.6666666666666666,
             "#35b779"
            ],
            [
             0.7777777777777778,
             "#6ece58"
            ],
            [
             0.8888888888888888,
             "#b5de2b"
            ],
            [
             1,
             "#fde725"
            ]
           ],
           "sequentialminus": [
            [
             0,
             "#440154"
            ],
            [
             0.1111111111111111,
             "#482878"
            ],
            [
             0.2222222222222222,
             "#3e4989"
            ],
            [
             0.3333333333333333,
             "#31688e"
            ],
            [
             0.4444444444444444,
             "#26828e"
            ],
            [
             0.5555555555555556,
             "#1f9e89"
            ],
            [
             0.6666666666666666,
             "#35b779"
            ],
            [
             0.7777777777777778,
             "#6ece58"
            ],
            [
             0.8888888888888888,
             "#b5de2b"
            ],
            [
             1,
             "#fde725"
            ]
           ]
          },
          "colorway": [
           "#1F77B4",
           "#FF7F0E",
           "#2CA02C",
           "#D62728",
           "#9467BD",
           "#8C564B",
           "#E377C2",
           "#7F7F7F",
           "#BCBD22",
           "#17BECF"
          ],
          "font": {
           "color": "rgb(36,36,36)"
          },
          "geo": {
           "bgcolor": "white",
           "lakecolor": "white",
           "landcolor": "white",
           "showlakes": true,
           "showland": true,
           "subunitcolor": "white"
          },
          "hoverlabel": {
           "align": "left"
          },
          "hovermode": "closest",
          "mapbox": {
           "style": "light"
          },
          "paper_bgcolor": "white",
          "plot_bgcolor": "white",
          "polar": {
           "angularaxis": {
            "gridcolor": "rgb(232,232,232)",
            "linecolor": "rgb(36,36,36)",
            "showgrid": false,
            "showline": true,
            "ticks": "outside"
           },
           "bgcolor": "white",
           "radialaxis": {
            "gridcolor": "rgb(232,232,232)",
            "linecolor": "rgb(36,36,36)",
            "showgrid": false,
            "showline": true,
            "ticks": "outside"
           }
          },
          "scene": {
           "xaxis": {
            "backgroundcolor": "white",
            "gridcolor": "rgb(232,232,232)",
            "gridwidth": 2,
            "linecolor": "rgb(36,36,36)",
            "showbackground": true,
            "showgrid": false,
            "showline": true,
            "ticks": "outside",
            "zeroline": false,
            "zerolinecolor": "rgb(36,36,36)"
           },
           "yaxis": {
            "backgroundcolor": "white",
            "gridcolor": "rgb(232,232,232)",
            "gridwidth": 2,
            "linecolor": "rgb(36,36,36)",
            "showbackground": true,
            "showgrid": false,
            "showline": true,
            "ticks": "outside",
            "zeroline": false,
            "zerolinecolor": "rgb(36,36,36)"
           },
           "zaxis": {
            "backgroundcolor": "white",
            "gridcolor": "rgb(232,232,232)",
            "gridwidth": 2,
            "linecolor": "rgb(36,36,36)",
            "showbackground": true,
            "showgrid": false,
            "showline": true,
            "ticks": "outside",
            "zeroline": false,
            "zerolinecolor": "rgb(36,36,36)"
           }
          },
          "shapedefaults": {
           "fillcolor": "black",
           "line": {
            "width": 0
           },
           "opacity": 0.3
          },
          "ternary": {
           "aaxis": {
            "gridcolor": "rgb(232,232,232)",
            "linecolor": "rgb(36,36,36)",
            "showgrid": false,
            "showline": true,
            "ticks": "outside"
           },
           "baxis": {
            "gridcolor": "rgb(232,232,232)",
            "linecolor": "rgb(36,36,36)",
            "showgrid": false,
            "showline": true,
            "ticks": "outside"
           },
           "bgcolor": "white",
           "caxis": {
            "gridcolor": "rgb(232,232,232)",
            "linecolor": "rgb(36,36,36)",
            "showgrid": false,
            "showline": true,
            "ticks": "outside"
           }
          },
          "title": {
           "x": 0.05
          },
          "xaxis": {
           "automargin": true,
           "gridcolor": "rgb(232,232,232)",
           "linecolor": "rgb(36,36,36)",
           "showgrid": false,
           "showline": true,
           "ticks": "outside",
           "title": {
            "standoff": 15
           },
           "zeroline": false,
           "zerolinecolor": "rgb(36,36,36)"
          },
          "yaxis": {
           "automargin": true,
           "gridcolor": "rgb(232,232,232)",
           "linecolor": "rgb(36,36,36)",
           "showgrid": false,
           "showline": true,
           "ticks": "outside",
           "title": {
            "standoff": 15
           },
           "zeroline": false,
           "zerolinecolor": "rgb(36,36,36)"
          }
         }
        },
        "title": {
         "font": {
          "color": "black",
          "family": "Arial",
          "size": 22
         },
         "text": "<b>Engine Emissions by Flight Phase for CFM56-5B4/2P</b><br><sup>Log scale used to highlight variation across pollutants</sup>"
        },
        "xaxis": {
         "title": {
          "text": "Flight Phase"
         }
        },
        "yaxis": {
         "gridcolor": "lightgrey",
         "gridwidth": 1,
         "showgrid": true,
         "tickformat": ",",
         "tickvals": [
          1,
          10,
          100,
          1000,
          10000,
          100000
         ],
         "title": {
          "text": "Emissions (g, log scale)"
         },
         "type": "log"
        }
       }
      }
     },
     "metadata": {},
     "output_type": "display_data"
    }
   ],
   "source": [
    "import plotly.graph_objects as go\n",
    "import pandas as pd\n",
    "\n",
    "phases_df = pd.read_csv(\"output/emissions/summary.csv\")\n",
    "\n",
    "phases = phases_df[\"Phase\"]\n",
    "co_em = phases_df[\"CO Emissions (g)\"]\n",
    "nox_em = phases_df[\"NOx Emissions (g)\"]\n",
    "hc_em = phases_df[\"HC Emissions (g)\"]\n",
    "\n",
    "fig = go.Figure([\n",
    "    go.Bar(\n",
    "           name='HC Emissions', \n",
    "           legendgroup='HC',\n",
    "           x=phases, \n",
    "           y=hc_em, \n",
    "           text=hc_em.apply(lambda x: f'{x:.3f}'), \n",
    "           textposition='inside', \n",
    "           textfont=dict(\n",
    "                size=10,              # Font size of the text on bars\n",
    "                color='white'         # Font color (e.g., 'white' if inside bar)\n",
    "            ),\n",
    "           hovertemplate='Pollutant: HC<br>Phase: %{x}<br>Emissions: %{y:.3f} g<extra></extra>',\n",
    "           marker=dict(color='#009E73') \n",
    "           ),\n",
    "    go.Bar(\n",
    "           name='NOx Emissions', \n",
    "           legendgroup='NOx',\n",
    "           x=phases, \n",
    "           y=nox_em,\n",
    "           text=nox_em.apply(lambda x: f'{x:.3f}'),\n",
    "           textposition='inside',\n",
    "           textfont=dict(\n",
    "                size=10,              # Font size of the text on bars\n",
    "                color='white'         # Font color (e.g., 'white' if inside bar)\n",
    "            ),\n",
    "           hovertemplate='Pollutant: NOx<br>Phase: %{x}<br>Emissions: %{y:.3f} g<extra></extra>',\n",
    "           marker=dict(color='#E69F00') \n",
    "           ),\n",
    "    go.Bar(\n",
    "           name='CO Emissions', \n",
    "           legendgroup='CO',\n",
    "           x=phases, \n",
    "           y=co_em,\n",
    "           text=co_em.apply(lambda x: f'{x:.3f}'),\n",
    "           textposition='inside',\n",
    "           textfont=dict(\n",
    "                size=10,              # Font size of the text on bars\n",
    "                color='white'         # Font color (e.g., 'white' if inside bar)\n",
    "            ),\n",
    "           hovertemplate='Pollutant: CO<br>Phase: %{x}<br>Emissions: %{y:.3f} g<extra></extra>',\n",
    "           marker=dict(color='#56B4E9') \n",
    "           )\n",
    "])\n",
    "\n",
    "fig.update_layout(\n",
    "    barmode='group',\n",
    "    yaxis_type='log', \n",
    "    template='simple_white',\n",
    "    title='<b>Engine Emissions by Flight Phase for CFM56-5B4/2P</b><br><sup>Log scale used to highlight variation across pollutants</sup>',\n",
    "\n",
    "    bargap=0.15,         # Space between groups\n",
    "    bargroupgap=0.05,    # Space between bars within a group\n",
    "\n",
    "    # Stylistic Formatting\n",
    "    height=650,  # Increase vertical space (good for log scale)\n",
    "    margin=dict(\n",
    "        l=80,   # Left margin (space for y-axis labels)\n",
    "        r=40,   # Right margin\n",
    "        t=100,  # Top margin (space for title + subtitle)\n",
    "        b=80    # Bottom margin (space for x-axis labels)\n",
    "    ),\n",
    "    title_font=dict(\n",
    "        size=22,\n",
    "        family=\"Arial\",\n",
    "        color=\"black\"\n",
    "    ),\n",
    "    font=dict(\n",
    "        size=13, \n",
    "        family=\"Arial\"\n",
    "    ),\n",
    "    legend=dict(\n",
    "        font=dict(size=12),\n",
    "        orientation=\"h\", # horizontal legend\n",
    "        yanchor=\"bottom\",\n",
    "        y=-0.2,\n",
    "        xanchor=\"center\",\n",
    "        x=0.5\n",
    "    ),\n",
    "\n",
    "    # Formatting x-axis\n",
    "    xaxis=dict(\n",
    "        title='Flight Phase'\n",
    "    ),\n",
    "    \n",
    "    # Formatting y-axis\n",
    "    yaxis=dict(\n",
    "        type='log',\n",
    "        title='Emissions (g, log scale)',\n",
    "        tickvals=[1, 10, 100, 1000, 10000, 100000],\n",
    "        tickformat=',',\n",
    "        showgrid=True,\n",
    "        gridcolor='lightgrey',\n",
    "        gridwidth=1\n",
    "    )\n",
    ")\n",
    "\n",
    "fig.show()\n",
    "fig.write_html('fig.html')"
   ]
  },
  {
   "cell_type": "code",
   "execution_count": 51,
   "id": "13e355f7",
   "metadata": {},
   "outputs": [
    {
     "data": {
      "application/vnd.plotly.v1+json": {
       "config": {
        "plotlyServerURL": "https://plot.ly"
       },
       "data": [
        {
         "direction": "clockwise",
         "domain": {
          "x": [
           0,
           0.2888888888888889
          ],
          "y": [
           0,
           1
          ]
         },
         "hovertemplate": "Phase: %{label}<br>Percentage: %{percent}<br>Emissions: %{value:.1f} g<extra></extra>",
         "labels": [
          "Cruise",
          "Climb Out",
          "Descent",
          "Take-Off",
          "Idle/Taxi"
         ],
         "legendgroup": "NOx",
         "marker": {
          "colors": [
           "#CB8712",
           "#E69F00",
           "#F1B733",
           "#F7CD66",
           "#FCE399"
          ]
         },
         "name": "NOx",
         "pull": [
          0.05
         ],
         "rotation": 0,
         "showlegend": true,
         "sort": false,
         "textinfo": "none",
         "type": "pie",
         "values": [
          46512,
          7897.5,
          2652,
          629.28,
          140.4
         ]
        },
        {
         "direction": "clockwise",
         "domain": {
          "x": [
           0.35555555555555557,
           0.6444444444444445
          ],
          "y": [
           0,
           1
          ]
         },
         "hovertemplate": "Phase: %{label}<br>Percentage: %{percent}<br>Emissions: %{value:.1f} g<extra></extra>",
         "labels": [
          "Cruise",
          "Descent",
          "Idle/Taxi",
          "Climb Out",
          "Take-Off"
         ],
         "legendgroup": "CO",
         "marker": {
          "colors": [
           "#4197CA",
           "#64B6E2",
           "#9AD3F1",
           "#BCE3F6",
           "#DEF2FA"
          ]
         },
         "name": "CO",
         "pull": [
          0.05
         ],
         "rotation": 0,
         "showlegend": true,
         "sort": false,
         "textinfo": "none",
         "type": "pie",
         "values": [
          12312,
          11872.8,
          1443.6,
          585,
          47.88
         ]
        },
        {
         "direction": "clockwise",
         "domain": {
          "x": [
           0.7111111111111111,
           1
          ],
          "y": [
           0,
           1
          ]
         },
         "hovertemplate": "Phase: %{label}<br>Percentage: %{percent}<br>Emissions: %{value:.1f} g<extra></extra>",
         "labels": [
          "Descent",
          "Cruise",
          "Idle/Taxi",
          "Climb Out",
          "Take-Off"
         ],
         "legendgroup": "HC",
         "marker": {
          "colors": [
           "#00664E",
           "#009E73",
           "#33B384",
           "#66C495",
           "#99D6B1"
          ]
         },
         "name": "HC",
         "pull": [
          0.05
         ],
         "rotation": 0,
         "showlegend": true,
         "sort": false,
         "textinfo": "none",
         "type": "pie",
         "values": [
          2162.4,
          684,
          129.6,
          117,
          3.42
         ]
        }
       ],
       "layout": {
        "annotations": [
         {
          "font": {
           "size": 16
          },
          "showarrow": false,
          "text": "<b>NOₓ Emissions (g)</b><br><sup>Emission of NOx tracked across Phases</sup>",
          "x": 0.14444444444444446,
          "xanchor": "center",
          "xref": "paper",
          "y": 1,
          "yanchor": "bottom",
          "yref": "paper"
         },
         {
          "font": {
           "size": 16
          },
          "showarrow": false,
          "text": "<b>CO Emissions (g)</b><br><sup>Emission of CO tracked across Phases</sup>",
          "x": 0.5,
          "xanchor": "center",
          "xref": "paper",
          "y": 1,
          "yanchor": "bottom",
          "yref": "paper"
         },
         {
          "font": {
           "size": 16
          },
          "showarrow": false,
          "text": "<b>HC Emissions (g)</b><br><sup>Emission of HC tracked across Phases</sup>",
          "x": 0.8555555555555556,
          "xanchor": "center",
          "xref": "paper",
          "y": 1,
          "yanchor": "bottom",
          "yref": "paper"
         }
        ],
        "font": {
         "size": 12
        },
        "height": 800,
        "legend": {
         "font": {
          "size": 12
         },
         "orientation": "h",
         "title": {},
         "x": 0.5,
         "xanchor": "center",
         "y": -0.15,
         "yanchor": "bottom"
        },
        "margin": {
         "b": 80,
         "l": 20,
         "r": 20,
         "t": 80
        },
        "template": {
         "data": {
          "bar": [
           {
            "error_x": {
             "color": "rgb(36,36,36)"
            },
            "error_y": {
             "color": "rgb(36,36,36)"
            },
            "marker": {
             "line": {
              "color": "white",
              "width": 0.5
             },
             "pattern": {
              "fillmode": "overlay",
              "size": 10,
              "solidity": 0.2
             }
            },
            "type": "bar"
           }
          ],
          "barpolar": [
           {
            "marker": {
             "line": {
              "color": "white",
              "width": 0.5
             },
             "pattern": {
              "fillmode": "overlay",
              "size": 10,
              "solidity": 0.2
             }
            },
            "type": "barpolar"
           }
          ],
          "carpet": [
           {
            "aaxis": {
             "endlinecolor": "rgb(36,36,36)",
             "gridcolor": "white",
             "linecolor": "white",
             "minorgridcolor": "white",
             "startlinecolor": "rgb(36,36,36)"
            },
            "baxis": {
             "endlinecolor": "rgb(36,36,36)",
             "gridcolor": "white",
             "linecolor": "white",
             "minorgridcolor": "white",
             "startlinecolor": "rgb(36,36,36)"
            },
            "type": "carpet"
           }
          ],
          "choropleth": [
           {
            "colorbar": {
             "outlinewidth": 1,
             "tickcolor": "rgb(36,36,36)",
             "ticks": "outside"
            },
            "type": "choropleth"
           }
          ],
          "contour": [
           {
            "colorbar": {
             "outlinewidth": 1,
             "tickcolor": "rgb(36,36,36)",
             "ticks": "outside"
            },
            "colorscale": [
             [
              0,
              "#440154"
             ],
             [
              0.1111111111111111,
              "#482878"
             ],
             [
              0.2222222222222222,
              "#3e4989"
             ],
             [
              0.3333333333333333,
              "#31688e"
             ],
             [
              0.4444444444444444,
              "#26828e"
             ],
             [
              0.5555555555555556,
              "#1f9e89"
             ],
             [
              0.6666666666666666,
              "#35b779"
             ],
             [
              0.7777777777777778,
              "#6ece58"
             ],
             [
              0.8888888888888888,
              "#b5de2b"
             ],
             [
              1,
              "#fde725"
             ]
            ],
            "type": "contour"
           }
          ],
          "contourcarpet": [
           {
            "colorbar": {
             "outlinewidth": 1,
             "tickcolor": "rgb(36,36,36)",
             "ticks": "outside"
            },
            "type": "contourcarpet"
           }
          ],
          "heatmap": [
           {
            "colorbar": {
             "outlinewidth": 1,
             "tickcolor": "rgb(36,36,36)",
             "ticks": "outside"
            },
            "colorscale": [
             [
              0,
              "#440154"
             ],
             [
              0.1111111111111111,
              "#482878"
             ],
             [
              0.2222222222222222,
              "#3e4989"
             ],
             [
              0.3333333333333333,
              "#31688e"
             ],
             [
              0.4444444444444444,
              "#26828e"
             ],
             [
              0.5555555555555556,
              "#1f9e89"
             ],
             [
              0.6666666666666666,
              "#35b779"
             ],
             [
              0.7777777777777778,
              "#6ece58"
             ],
             [
              0.8888888888888888,
              "#b5de2b"
             ],
             [
              1,
              "#fde725"
             ]
            ],
            "type": "heatmap"
           }
          ],
          "histogram": [
           {
            "marker": {
             "line": {
              "color": "white",
              "width": 0.6
             }
            },
            "type": "histogram"
           }
          ],
          "histogram2d": [
           {
            "colorbar": {
             "outlinewidth": 1,
             "tickcolor": "rgb(36,36,36)",
             "ticks": "outside"
            },
            "colorscale": [
             [
              0,
              "#440154"
             ],
             [
              0.1111111111111111,
              "#482878"
             ],
             [
              0.2222222222222222,
              "#3e4989"
             ],
             [
              0.3333333333333333,
              "#31688e"
             ],
             [
              0.4444444444444444,
              "#26828e"
             ],
             [
              0.5555555555555556,
              "#1f9e89"
             ],
             [
              0.6666666666666666,
              "#35b779"
             ],
             [
              0.7777777777777778,
              "#6ece58"
             ],
             [
              0.8888888888888888,
              "#b5de2b"
             ],
             [
              1,
              "#fde725"
             ]
            ],
            "type": "histogram2d"
           }
          ],
          "histogram2dcontour": [
           {
            "colorbar": {
             "outlinewidth": 1,
             "tickcolor": "rgb(36,36,36)",
             "ticks": "outside"
            },
            "colorscale": [
             [
              0,
              "#440154"
             ],
             [
              0.1111111111111111,
              "#482878"
             ],
             [
              0.2222222222222222,
              "#3e4989"
             ],
             [
              0.3333333333333333,
              "#31688e"
             ],
             [
              0.4444444444444444,
              "#26828e"
             ],
             [
              0.5555555555555556,
              "#1f9e89"
             ],
             [
              0.6666666666666666,
              "#35b779"
             ],
             [
              0.7777777777777778,
              "#6ece58"
             ],
             [
              0.8888888888888888,
              "#b5de2b"
             ],
             [
              1,
              "#fde725"
             ]
            ],
            "type": "histogram2dcontour"
           }
          ],
          "mesh3d": [
           {
            "colorbar": {
             "outlinewidth": 1,
             "tickcolor": "rgb(36,36,36)",
             "ticks": "outside"
            },
            "type": "mesh3d"
           }
          ],
          "parcoords": [
           {
            "line": {
             "colorbar": {
              "outlinewidth": 1,
              "tickcolor": "rgb(36,36,36)",
              "ticks": "outside"
             }
            },
            "type": "parcoords"
           }
          ],
          "pie": [
           {
            "automargin": true,
            "type": "pie"
           }
          ],
          "scatter": [
           {
            "fillpattern": {
             "fillmode": "overlay",
             "size": 10,
             "solidity": 0.2
            },
            "type": "scatter"
           }
          ],
          "scatter3d": [
           {
            "line": {
             "colorbar": {
              "outlinewidth": 1,
              "tickcolor": "rgb(36,36,36)",
              "ticks": "outside"
             }
            },
            "marker": {
             "colorbar": {
              "outlinewidth": 1,
              "tickcolor": "rgb(36,36,36)",
              "ticks": "outside"
             }
            },
            "type": "scatter3d"
           }
          ],
          "scattercarpet": [
           {
            "marker": {
             "colorbar": {
              "outlinewidth": 1,
              "tickcolor": "rgb(36,36,36)",
              "ticks": "outside"
             }
            },
            "type": "scattercarpet"
           }
          ],
          "scattergeo": [
           {
            "marker": {
             "colorbar": {
              "outlinewidth": 1,
              "tickcolor": "rgb(36,36,36)",
              "ticks": "outside"
             }
            },
            "type": "scattergeo"
           }
          ],
          "scattergl": [
           {
            "marker": {
             "colorbar": {
              "outlinewidth": 1,
              "tickcolor": "rgb(36,36,36)",
              "ticks": "outside"
             }
            },
            "type": "scattergl"
           }
          ],
          "scattermap": [
           {
            "marker": {
             "colorbar": {
              "outlinewidth": 1,
              "tickcolor": "rgb(36,36,36)",
              "ticks": "outside"
             }
            },
            "type": "scattermap"
           }
          ],
          "scattermapbox": [
           {
            "marker": {
             "colorbar": {
              "outlinewidth": 1,
              "tickcolor": "rgb(36,36,36)",
              "ticks": "outside"
             }
            },
            "type": "scattermapbox"
           }
          ],
          "scatterpolar": [
           {
            "marker": {
             "colorbar": {
              "outlinewidth": 1,
              "tickcolor": "rgb(36,36,36)",
              "ticks": "outside"
             }
            },
            "type": "scatterpolar"
           }
          ],
          "scatterpolargl": [
           {
            "marker": {
             "colorbar": {
              "outlinewidth": 1,
              "tickcolor": "rgb(36,36,36)",
              "ticks": "outside"
             }
            },
            "type": "scatterpolargl"
           }
          ],
          "scatterternary": [
           {
            "marker": {
             "colorbar": {
              "outlinewidth": 1,
              "tickcolor": "rgb(36,36,36)",
              "ticks": "outside"
             }
            },
            "type": "scatterternary"
           }
          ],
          "surface": [
           {
            "colorbar": {
             "outlinewidth": 1,
             "tickcolor": "rgb(36,36,36)",
             "ticks": "outside"
            },
            "colorscale": [
             [
              0,
              "#440154"
             ],
             [
              0.1111111111111111,
              "#482878"
             ],
             [
              0.2222222222222222,
              "#3e4989"
             ],
             [
              0.3333333333333333,
              "#31688e"
             ],
             [
              0.4444444444444444,
              "#26828e"
             ],
             [
              0.5555555555555556,
              "#1f9e89"
             ],
             [
              0.6666666666666666,
              "#35b779"
             ],
             [
              0.7777777777777778,
              "#6ece58"
             ],
             [
              0.8888888888888888,
              "#b5de2b"
             ],
             [
              1,
              "#fde725"
             ]
            ],
            "type": "surface"
           }
          ],
          "table": [
           {
            "cells": {
             "fill": {
              "color": "rgb(237,237,237)"
             },
             "line": {
              "color": "white"
             }
            },
            "header": {
             "fill": {
              "color": "rgb(217,217,217)"
             },
             "line": {
              "color": "white"
             }
            },
            "type": "table"
           }
          ]
         },
         "layout": {
          "annotationdefaults": {
           "arrowhead": 0,
           "arrowwidth": 1
          },
          "autotypenumbers": "strict",
          "coloraxis": {
           "colorbar": {
            "outlinewidth": 1,
            "tickcolor": "rgb(36,36,36)",
            "ticks": "outside"
           }
          },
          "colorscale": {
           "diverging": [
            [
             0,
             "rgb(103,0,31)"
            ],
            [
             0.1,
             "rgb(178,24,43)"
            ],
            [
             0.2,
             "rgb(214,96,77)"
            ],
            [
             0.3,
             "rgb(244,165,130)"
            ],
            [
             0.4,
             "rgb(253,219,199)"
            ],
            [
             0.5,
             "rgb(247,247,247)"
            ],
            [
             0.6,
             "rgb(209,229,240)"
            ],
            [
             0.7,
             "rgb(146,197,222)"
            ],
            [
             0.8,
             "rgb(67,147,195)"
            ],
            [
             0.9,
             "rgb(33,102,172)"
            ],
            [
             1,
             "rgb(5,48,97)"
            ]
           ],
           "sequential": [
            [
             0,
             "#440154"
            ],
            [
             0.1111111111111111,
             "#482878"
            ],
            [
             0.2222222222222222,
             "#3e4989"
            ],
            [
             0.3333333333333333,
             "#31688e"
            ],
            [
             0.4444444444444444,
             "#26828e"
            ],
            [
             0.5555555555555556,
             "#1f9e89"
            ],
            [
             0.6666666666666666,
             "#35b779"
            ],
            [
             0.7777777777777778,
             "#6ece58"
            ],
            [
             0.8888888888888888,
             "#b5de2b"
            ],
            [
             1,
             "#fde725"
            ]
           ],
           "sequentialminus": [
            [
             0,
             "#440154"
            ],
            [
             0.1111111111111111,
             "#482878"
            ],
            [
             0.2222222222222222,
             "#3e4989"
            ],
            [
             0.3333333333333333,
             "#31688e"
            ],
            [
             0.4444444444444444,
             "#26828e"
            ],
            [
             0.5555555555555556,
             "#1f9e89"
            ],
            [
             0.6666666666666666,
             "#35b779"
            ],
            [
             0.7777777777777778,
             "#6ece58"
            ],
            [
             0.8888888888888888,
             "#b5de2b"
            ],
            [
             1,
             "#fde725"
            ]
           ]
          },
          "colorway": [
           "#1F77B4",
           "#FF7F0E",
           "#2CA02C",
           "#D62728",
           "#9467BD",
           "#8C564B",
           "#E377C2",
           "#7F7F7F",
           "#BCBD22",
           "#17BECF"
          ],
          "font": {
           "color": "rgb(36,36,36)"
          },
          "geo": {
           "bgcolor": "white",
           "lakecolor": "white",
           "landcolor": "white",
           "showlakes": true,
           "showland": true,
           "subunitcolor": "white"
          },
          "hoverlabel": {
           "align": "left"
          },
          "hovermode": "closest",
          "mapbox": {
           "style": "light"
          },
          "paper_bgcolor": "white",
          "plot_bgcolor": "white",
          "polar": {
           "angularaxis": {
            "gridcolor": "rgb(232,232,232)",
            "linecolor": "rgb(36,36,36)",
            "showgrid": false,
            "showline": true,
            "ticks": "outside"
           },
           "bgcolor": "white",
           "radialaxis": {
            "gridcolor": "rgb(232,232,232)",
            "linecolor": "rgb(36,36,36)",
            "showgrid": false,
            "showline": true,
            "ticks": "outside"
           }
          },
          "scene": {
           "xaxis": {
            "backgroundcolor": "white",
            "gridcolor": "rgb(232,232,232)",
            "gridwidth": 2,
            "linecolor": "rgb(36,36,36)",
            "showbackground": true,
            "showgrid": false,
            "showline": true,
            "ticks": "outside",
            "zeroline": false,
            "zerolinecolor": "rgb(36,36,36)"
           },
           "yaxis": {
            "backgroundcolor": "white",
            "gridcolor": "rgb(232,232,232)",
            "gridwidth": 2,
            "linecolor": "rgb(36,36,36)",
            "showbackground": true,
            "showgrid": false,
            "showline": true,
            "ticks": "outside",
            "zeroline": false,
            "zerolinecolor": "rgb(36,36,36)"
           },
           "zaxis": {
            "backgroundcolor": "white",
            "gridcolor": "rgb(232,232,232)",
            "gridwidth": 2,
            "linecolor": "rgb(36,36,36)",
            "showbackground": true,
            "showgrid": false,
            "showline": true,
            "ticks": "outside",
            "zeroline": false,
            "zerolinecolor": "rgb(36,36,36)"
           }
          },
          "shapedefaults": {
           "fillcolor": "black",
           "line": {
            "width": 0
           },
           "opacity": 0.3
          },
          "ternary": {
           "aaxis": {
            "gridcolor": "rgb(232,232,232)",
            "linecolor": "rgb(36,36,36)",
            "showgrid": false,
            "showline": true,
            "ticks": "outside"
           },
           "baxis": {
            "gridcolor": "rgb(232,232,232)",
            "linecolor": "rgb(36,36,36)",
            "showgrid": false,
            "showline": true,
            "ticks": "outside"
           },
           "bgcolor": "white",
           "caxis": {
            "gridcolor": "rgb(232,232,232)",
            "linecolor": "rgb(36,36,36)",
            "showgrid": false,
            "showline": true,
            "ticks": "outside"
           }
          },
          "title": {
           "x": 0.05
          },
          "xaxis": {
           "automargin": true,
           "gridcolor": "rgb(232,232,232)",
           "linecolor": "rgb(36,36,36)",
           "showgrid": false,
           "showline": true,
           "ticks": "outside",
           "title": {
            "standoff": 15
           },
           "zeroline": false,
           "zerolinecolor": "rgb(36,36,36)"
          },
          "yaxis": {
           "automargin": true,
           "gridcolor": "rgb(232,232,232)",
           "linecolor": "rgb(36,36,36)",
           "showgrid": false,
           "showline": true,
           "ticks": "outside",
           "title": {
            "standoff": 15
           },
           "zeroline": false,
           "zerolinecolor": "rgb(36,36,36)"
          }
         }
        },
        "title": {
         "font": {
          "size": 20
         }
        }
       }
      }
     },
     "metadata": {},
     "output_type": "display_data"
    }
   ],
   "source": [
    "import plotly.graph_objects as go\n",
    "from plotly.subplots import make_subplots\n",
    "import pandas as pd\n",
    "\n",
    "# Load and filter data\n",
    "summary_df = pd.read_csv(\"output/emissions/summary.csv\")\n",
    "summary_df_excl_total = summary_df[summary_df[\"Phase\"] != \"Total\"]\n",
    "\n",
    "# Extract values\n",
    "phases = summary_df_excl_total[\"Phase\"]\n",
    "co_em = summary_df_excl_total[\"CO Emissions (g)\"]\n",
    "nox_em = summary_df_excl_total[\"NOx Emissions (g)\"]\n",
    "hc_em = summary_df_excl_total[\"HC Emissions (g)\"]\n",
    "\n",
    "\n",
    "# Sort by value descending\n",
    "sorted_co_data = sorted(zip(phases, co_em), key=lambda x: x[1], reverse=True)\n",
    "sorted_nox_data = sorted(zip(phases, nox_em), key=lambda x: x[1], reverse=True)\n",
    "sorted_hc_data = sorted(zip(phases, hc_em), key=lambda x: x[1], reverse=True)\n",
    "\n",
    "# Your color palette from largest to smallest\n",
    "color_palette_co = [\"#4197CA\", \"#64B6E2\", \"#9AD3F1\", \"#BCE3F6\", \"#DEF2FA\"]\n",
    "color_palette_nox = [\"#CB8712\", \"#E69F00\", \"#F1B733\", \"#F7CD66\", \"#FCE399\"]\n",
    "color_palette_hc = [\"#00664E\", \"#009E73\", \"#33B384\", \"#66C495\", \"#99D6B1\"]\n",
    "\n",
    "\n",
    "# Unzip\n",
    "sorted_co_phases, sorted_co_em = zip(*sorted_co_data)\n",
    "sorted_nox_phases, sorted_nox_em = zip(*sorted_nox_data)\n",
    "sorted_hc_phases, sorted_hc_em = zip(*sorted_hc_data)\n",
    "\n",
    "# Assign colors\n",
    "sorted_colors_co = color_palette_co[:len(sorted_co_em)]\n",
    "sorted_colors_nox = color_palette_nox[:len(sorted_co_em)]\n",
    "sorted_colors_hc = color_palette_hc[:len(sorted_co_em)]\n",
    "\n",
    "# Create subplot layout\n",
    "fig = make_subplots(\n",
    "    rows=1, cols=3,\n",
    "    column_widths=[0.33, 0.33, 0.33],\n",
    "    specs=[\n",
    "        [{\"type\": \"domain\"}, {\"type\": \"domain\"}, {\"type\": \"domain\"}]\n",
    "    ],\n",
    "    subplot_titles=(\n",
    "        \"<b>NOₓ Emissions (g)</b><br><sup>Emission of NOx tracked across Phases</sup>\", \n",
    "        \"<b>CO Emissions (g)</b><br><sup>Emission of CO tracked across Phases</sup>\", \n",
    "        \"<b>HC Emissions (g)</b><br><sup>Emission of HC tracked across Phases</sup>\"\n",
    "    )\n",
    ")\n",
    "\n",
    "fig.add_trace(\n",
    "    go.Pie(\n",
    "        labels=sorted_nox_phases,\n",
    "        values=sorted_nox_em,\n",
    "        name=\"NOx\",\n",
    "        pull=[0.05],\n",
    "        textinfo='none',\n",
    "        legendgroup=\"NOx\",\n",
    "        showlegend=True,\n",
    "        marker=dict(colors=sorted_colors_nox),\n",
    "        hovertemplate='Phase: %{label}<br>Percentage: %{percent}<br>Emissions: %{value:.1f} g<extra></extra>',\n",
    "        domain=dict(y=[0.66, 0.86]),  # Shifted further down\n",
    "        sort=False,\n",
    "        direction=\"clockwise\",\n",
    "        rotation=0\n",
    "    ),\n",
    "    row=1, col=1\n",
    ")\n",
    "\n",
    "fig.add_trace(\n",
    "    go.Pie(\n",
    "        labels=sorted_co_phases,\n",
    "        values=sorted_co_em,\n",
    "        name=\"CO\",\n",
    "        pull=[0.05],\n",
    "        textinfo='none',\n",
    "        legendgroup=\"CO\",\n",
    "        showlegend=True,\n",
    "        marker=dict(colors=sorted_colors_co),\n",
    "        hovertemplate='Phase: %{label}<br>Percentage: %{percent}<br>Emissions: %{value:.1f} g<extra></extra>',\n",
    "        domain=dict(y=[0.36, 0.56]),  # Shifted further down\n",
    "        sort=False,\n",
    "        direction=\"clockwise\",\n",
    "        rotation=0\n",
    "    ),\n",
    "    row=1, col=2\n",
    ")\n",
    "\n",
    "fig.add_trace(\n",
    "    go.Pie(\n",
    "        labels=sorted_hc_phases,\n",
    "        values=sorted_hc_em,\n",
    "        name=\"HC\",\n",
    "        pull=[0.05],\n",
    "        textinfo='none',\n",
    "        legendgroup=\"HC\",\n",
    "        showlegend=True,\n",
    "        marker=dict(colors=sorted_colors_hc),\n",
    "        hovertemplate='Phase: %{label}<br>Percentage: %{percent}<br>Emissions: %{value:.1f} g<extra></extra>',\n",
    "        domain=dict(y=[0.06, 0.26]),  # Shifted further down\n",
    "        sort=False,\n",
    "        direction=\"clockwise\",\n",
    "        rotation=0\n",
    "    ),\n",
    "    row=1, col=3\n",
    ")\n",
    "\n",
    "# Layout settings\n",
    "fig.update_layout(\n",
    "    height=800,\n",
    "    template='simple_white',\n",
    "    title_font=dict(size=20),\n",
    "    legend=dict(\n",
    "        orientation='h',\n",
    "        yanchor='bottom',\n",
    "        y=-0.15, \n",
    "        xanchor='center',\n",
    "        x=0.5,\n",
    "        title=None,\n",
    "        font=dict(size=12)\n",
    "    ),\n",
    "    margin=dict(l=20, r=20, t=80, b=80),\n",
    "    font=dict(size=12)\n",
    ")\n",
    "\n",
    "fig.show()"
   ]
  },
  {
   "cell_type": "code",
   "execution_count": null,
   "id": "e58e3720",
   "metadata": {},
   "outputs": [
    {
     "data": {
      "application/vnd.plotly.v1+json": {
       "config": {
        "plotlyServerURL": "https://plot.ly"
       },
       "data": [
        {
         "direction": "clockwise",
         "domain": {
          "x": [
           0,
           0.5
          ]
         },
         "hole": 0.35,
         "hovertemplate": "Pollutant: %{label}<br>Percentage: %{percent}<br>Emissions: %{value:.1f} g<extra></extra>",
         "labels": [
          "NOx",
          "CO",
          "HC"
         ],
         "marker": {
          "colors": [
           "#E69F00",
           "#64B6E2",
           "#009E73"
          ],
          "line": {
           "color": "white",
           "width": 0.5
          }
         },
         "rotation": 0,
         "showlegend": false,
         "sort": false,
         "textinfo": "none",
         "type": "pie",
         "values": {
          "bdata": "KVyPwuU87EC4HoXrUaXZQKRwPQrXMKhA",
          "dtype": "f8"
         }
        },
        {
         "direction": "clockwise",
         "domain": {
          "x": [
           0,
           0.5
          ]
         },
         "hole": 0.8,
         "hovertemplate": "Pollutant / Phase: %{label}<br>Percentage: %{percent}<br>Emissions: %{value:.1f} g<extra></extra>",
         "labels": [
          "NOx / Cruise",
          "NOx / Climb Out",
          "NOx / Descent",
          "NOx / Take-Off",
          "NOx / Idle/Taxi",
          "CO / Cruise",
          "CO / Descent",
          "CO / Idle/Taxi",
          "CO / Climb Out",
          "CO / Take-Off",
          "HC / Descent",
          "HC / Cruise",
          "HC / Idle/Taxi",
          "HC / Climb Out",
          "HC / Take-Off"
         ],
         "marker": {
          "colors": [
           "#CB8712",
           "#E69F00",
           "#F1B733",
           "#F7CD66",
           "#FCE399",
           "#4197CA",
           "#64B6E2",
           "#9AD3F1",
           "#BCE3F6",
           "#DEF2FA",
           "#00664E",
           "#009E73",
           "#33B384",
           "#66C495",
           "#99D6B1"
          ],
          "line": {
           "color": "white",
           "width": 0.5
          }
         },
         "rotation": 0,
         "showlegend": true,
         "sort": false,
         "textinfo": "none",
         "type": "pie",
         "values": [
          46512,
          7897.5,
          2652,
          629.28,
          140.4,
          12312,
          11872.8,
          1443.6,
          585,
          47.88,
          2162.4,
          684,
          129.6,
          117,
          3.42
         ]
        }
       ],
       "layout": {
        "height": 800,
        "legend": {
         "font": {
          "color": "black",
          "family": "Arial",
          "size": 10
         },
         "orientation": "v",
         "title": {
          "text": "<b>Phase-wise Breakdown by Pollutant Type</b>"
         },
         "x": 0.75,
         "xanchor": "right",
         "y": 0.5,
         "yanchor": "middle"
        },
        "template": {
         "data": {
          "bar": [
           {
            "error_x": {
             "color": "rgb(36,36,36)"
            },
            "error_y": {
             "color": "rgb(36,36,36)"
            },
            "marker": {
             "line": {
              "color": "white",
              "width": 0.5
             },
             "pattern": {
              "fillmode": "overlay",
              "size": 10,
              "solidity": 0.2
             }
            },
            "type": "bar"
           }
          ],
          "barpolar": [
           {
            "marker": {
             "line": {
              "color": "white",
              "width": 0.5
             },
             "pattern": {
              "fillmode": "overlay",
              "size": 10,
              "solidity": 0.2
             }
            },
            "type": "barpolar"
           }
          ],
          "carpet": [
           {
            "aaxis": {
             "endlinecolor": "rgb(36,36,36)",
             "gridcolor": "white",
             "linecolor": "white",
             "minorgridcolor": "white",
             "startlinecolor": "rgb(36,36,36)"
            },
            "baxis": {
             "endlinecolor": "rgb(36,36,36)",
             "gridcolor": "white",
             "linecolor": "white",
             "minorgridcolor": "white",
             "startlinecolor": "rgb(36,36,36)"
            },
            "type": "carpet"
           }
          ],
          "choropleth": [
           {
            "colorbar": {
             "outlinewidth": 1,
             "tickcolor": "rgb(36,36,36)",
             "ticks": "outside"
            },
            "type": "choropleth"
           }
          ],
          "contour": [
           {
            "colorbar": {
             "outlinewidth": 1,
             "tickcolor": "rgb(36,36,36)",
             "ticks": "outside"
            },
            "colorscale": [
             [
              0,
              "#440154"
             ],
             [
              0.1111111111111111,
              "#482878"
             ],
             [
              0.2222222222222222,
              "#3e4989"
             ],
             [
              0.3333333333333333,
              "#31688e"
             ],
             [
              0.4444444444444444,
              "#26828e"
             ],
             [
              0.5555555555555556,
              "#1f9e89"
             ],
             [
              0.6666666666666666,
              "#35b779"
             ],
             [
              0.7777777777777778,
              "#6ece58"
             ],
             [
              0.8888888888888888,
              "#b5de2b"
             ],
             [
              1,
              "#fde725"
             ]
            ],
            "type": "contour"
           }
          ],
          "contourcarpet": [
           {
            "colorbar": {
             "outlinewidth": 1,
             "tickcolor": "rgb(36,36,36)",
             "ticks": "outside"
            },
            "type": "contourcarpet"
           }
          ],
          "heatmap": [
           {
            "colorbar": {
             "outlinewidth": 1,
             "tickcolor": "rgb(36,36,36)",
             "ticks": "outside"
            },
            "colorscale": [
             [
              0,
              "#440154"
             ],
             [
              0.1111111111111111,
              "#482878"
             ],
             [
              0.2222222222222222,
              "#3e4989"
             ],
             [
              0.3333333333333333,
              "#31688e"
             ],
             [
              0.4444444444444444,
              "#26828e"
             ],
             [
              0.5555555555555556,
              "#1f9e89"
             ],
             [
              0.6666666666666666,
              "#35b779"
             ],
             [
              0.7777777777777778,
              "#6ece58"
             ],
             [
              0.8888888888888888,
              "#b5de2b"
             ],
             [
              1,
              "#fde725"
             ]
            ],
            "type": "heatmap"
           }
          ],
          "histogram": [
           {
            "marker": {
             "line": {
              "color": "white",
              "width": 0.6
             }
            },
            "type": "histogram"
           }
          ],
          "histogram2d": [
           {
            "colorbar": {
             "outlinewidth": 1,
             "tickcolor": "rgb(36,36,36)",
             "ticks": "outside"
            },
            "colorscale": [
             [
              0,
              "#440154"
             ],
             [
              0.1111111111111111,
              "#482878"
             ],
             [
              0.2222222222222222,
              "#3e4989"
             ],
             [
              0.3333333333333333,
              "#31688e"
             ],
             [
              0.4444444444444444,
              "#26828e"
             ],
             [
              0.5555555555555556,
              "#1f9e89"
             ],
             [
              0.6666666666666666,
              "#35b779"
             ],
             [
              0.7777777777777778,
              "#6ece58"
             ],
             [
              0.8888888888888888,
              "#b5de2b"
             ],
             [
              1,
              "#fde725"
             ]
            ],
            "type": "histogram2d"
           }
          ],
          "histogram2dcontour": [
           {
            "colorbar": {
             "outlinewidth": 1,
             "tickcolor": "rgb(36,36,36)",
             "ticks": "outside"
            },
            "colorscale": [
             [
              0,
              "#440154"
             ],
             [
              0.1111111111111111,
              "#482878"
             ],
             [
              0.2222222222222222,
              "#3e4989"
             ],
             [
              0.3333333333333333,
              "#31688e"
             ],
             [
              0.4444444444444444,
              "#26828e"
             ],
             [
              0.5555555555555556,
              "#1f9e89"
             ],
             [
              0.6666666666666666,
              "#35b779"
             ],
             [
              0.7777777777777778,
              "#6ece58"
             ],
             [
              0.8888888888888888,
              "#b5de2b"
             ],
             [
              1,
              "#fde725"
             ]
            ],
            "type": "histogram2dcontour"
           }
          ],
          "mesh3d": [
           {
            "colorbar": {
             "outlinewidth": 1,
             "tickcolor": "rgb(36,36,36)",
             "ticks": "outside"
            },
            "type": "mesh3d"
           }
          ],
          "parcoords": [
           {
            "line": {
             "colorbar": {
              "outlinewidth": 1,
              "tickcolor": "rgb(36,36,36)",
              "ticks": "outside"
             }
            },
            "type": "parcoords"
           }
          ],
          "pie": [
           {
            "automargin": true,
            "type": "pie"
           }
          ],
          "scatter": [
           {
            "fillpattern": {
             "fillmode": "overlay",
             "size": 10,
             "solidity": 0.2
            },
            "type": "scatter"
           }
          ],
          "scatter3d": [
           {
            "line": {
             "colorbar": {
              "outlinewidth": 1,
              "tickcolor": "rgb(36,36,36)",
              "ticks": "outside"
             }
            },
            "marker": {
             "colorbar": {
              "outlinewidth": 1,
              "tickcolor": "rgb(36,36,36)",
              "ticks": "outside"
             }
            },
            "type": "scatter3d"
           }
          ],
          "scattercarpet": [
           {
            "marker": {
             "colorbar": {
              "outlinewidth": 1,
              "tickcolor": "rgb(36,36,36)",
              "ticks": "outside"
             }
            },
            "type": "scattercarpet"
           }
          ],
          "scattergeo": [
           {
            "marker": {
             "colorbar": {
              "outlinewidth": 1,
              "tickcolor": "rgb(36,36,36)",
              "ticks": "outside"
             }
            },
            "type": "scattergeo"
           }
          ],
          "scattergl": [
           {
            "marker": {
             "colorbar": {
              "outlinewidth": 1,
              "tickcolor": "rgb(36,36,36)",
              "ticks": "outside"
             }
            },
            "type": "scattergl"
           }
          ],
          "scattermap": [
           {
            "marker": {
             "colorbar": {
              "outlinewidth": 1,
              "tickcolor": "rgb(36,36,36)",
              "ticks": "outside"
             }
            },
            "type": "scattermap"
           }
          ],
          "scattermapbox": [
           {
            "marker": {
             "colorbar": {
              "outlinewidth": 1,
              "tickcolor": "rgb(36,36,36)",
              "ticks": "outside"
             }
            },
            "type": "scattermapbox"
           }
          ],
          "scatterpolar": [
           {
            "marker": {
             "colorbar": {
              "outlinewidth": 1,
              "tickcolor": "rgb(36,36,36)",
              "ticks": "outside"
             }
            },
            "type": "scatterpolar"
           }
          ],
          "scatterpolargl": [
           {
            "marker": {
             "colorbar": {
              "outlinewidth": 1,
              "tickcolor": "rgb(36,36,36)",
              "ticks": "outside"
             }
            },
            "type": "scatterpolargl"
           }
          ],
          "scatterternary": [
           {
            "marker": {
             "colorbar": {
              "outlinewidth": 1,
              "tickcolor": "rgb(36,36,36)",
              "ticks": "outside"
             }
            },
            "type": "scatterternary"
           }
          ],
          "surface": [
           {
            "colorbar": {
             "outlinewidth": 1,
             "tickcolor": "rgb(36,36,36)",
             "ticks": "outside"
            },
            "colorscale": [
             [
              0,
              "#440154"
             ],
             [
              0.1111111111111111,
              "#482878"
             ],
             [
              0.2222222222222222,
              "#3e4989"
             ],
             [
              0.3333333333333333,
              "#31688e"
             ],
             [
              0.4444444444444444,
              "#26828e"
             ],
             [
              0.5555555555555556,
              "#1f9e89"
             ],
             [
              0.6666666666666666,
              "#35b779"
             ],
             [
              0.7777777777777778,
              "#6ece58"
             ],
             [
              0.8888888888888888,
              "#b5de2b"
             ],
             [
              1,
              "#fde725"
             ]
            ],
            "type": "surface"
           }
          ],
          "table": [
           {
            "cells": {
             "fill": {
              "color": "rgb(237,237,237)"
             },
             "line": {
              "color": "white"
             }
            },
            "header": {
             "fill": {
              "color": "rgb(217,217,217)"
             },
             "line": {
              "color": "white"
             }
            },
            "type": "table"
           }
          ]
         },
         "layout": {
          "annotationdefaults": {
           "arrowhead": 0,
           "arrowwidth": 1
          },
          "autotypenumbers": "strict",
          "coloraxis": {
           "colorbar": {
            "outlinewidth": 1,
            "tickcolor": "rgb(36,36,36)",
            "ticks": "outside"
           }
          },
          "colorscale": {
           "diverging": [
            [
             0,
             "rgb(103,0,31)"
            ],
            [
             0.1,
             "rgb(178,24,43)"
            ],
            [
             0.2,
             "rgb(214,96,77)"
            ],
            [
             0.3,
             "rgb(244,165,130)"
            ],
            [
             0.4,
             "rgb(253,219,199)"
            ],
            [
             0.5,
             "rgb(247,247,247)"
            ],
            [
             0.6,
             "rgb(209,229,240)"
            ],
            [
             0.7,
             "rgb(146,197,222)"
            ],
            [
             0.8,
             "rgb(67,147,195)"
            ],
            [
             0.9,
             "rgb(33,102,172)"
            ],
            [
             1,
             "rgb(5,48,97)"
            ]
           ],
           "sequential": [
            [
             0,
             "#440154"
            ],
            [
             0.1111111111111111,
             "#482878"
            ],
            [
             0.2222222222222222,
             "#3e4989"
            ],
            [
             0.3333333333333333,
             "#31688e"
            ],
            [
             0.4444444444444444,
             "#26828e"
            ],
            [
             0.5555555555555556,
             "#1f9e89"
            ],
            [
             0.6666666666666666,
             "#35b779"
            ],
            [
             0.7777777777777778,
             "#6ece58"
            ],
            [
             0.8888888888888888,
             "#b5de2b"
            ],
            [
             1,
             "#fde725"
            ]
           ],
           "sequentialminus": [
            [
             0,
             "#440154"
            ],
            [
             0.1111111111111111,
             "#482878"
            ],
            [
             0.2222222222222222,
             "#3e4989"
            ],
            [
             0.3333333333333333,
             "#31688e"
            ],
            [
             0.4444444444444444,
             "#26828e"
            ],
            [
             0.5555555555555556,
             "#1f9e89"
            ],
            [
             0.6666666666666666,
             "#35b779"
            ],
            [
             0.7777777777777778,
             "#6ece58"
            ],
            [
             0.8888888888888888,
             "#b5de2b"
            ],
            [
             1,
             "#fde725"
            ]
           ]
          },
          "colorway": [
           "#1F77B4",
           "#FF7F0E",
           "#2CA02C",
           "#D62728",
           "#9467BD",
           "#8C564B",
           "#E377C2",
           "#7F7F7F",
           "#BCBD22",
           "#17BECF"
          ],
          "font": {
           "color": "rgb(36,36,36)"
          },
          "geo": {
           "bgcolor": "white",
           "lakecolor": "white",
           "landcolor": "white",
           "showlakes": true,
           "showland": true,
           "subunitcolor": "white"
          },
          "hoverlabel": {
           "align": "left"
          },
          "hovermode": "closest",
          "mapbox": {
           "style": "light"
          },
          "paper_bgcolor": "white",
          "plot_bgcolor": "white",
          "polar": {
           "angularaxis": {
            "gridcolor": "rgb(232,232,232)",
            "linecolor": "rgb(36,36,36)",
            "showgrid": false,
            "showline": true,
            "ticks": "outside"
           },
           "bgcolor": "white",
           "radialaxis": {
            "gridcolor": "rgb(232,232,232)",
            "linecolor": "rgb(36,36,36)",
            "showgrid": false,
            "showline": true,
            "ticks": "outside"
           }
          },
          "scene": {
           "xaxis": {
            "backgroundcolor": "white",
            "gridcolor": "rgb(232,232,232)",
            "gridwidth": 2,
            "linecolor": "rgb(36,36,36)",
            "showbackground": true,
            "showgrid": false,
            "showline": true,
            "ticks": "outside",
            "zeroline": false,
            "zerolinecolor": "rgb(36,36,36)"
           },
           "yaxis": {
            "backgroundcolor": "white",
            "gridcolor": "rgb(232,232,232)",
            "gridwidth": 2,
            "linecolor": "rgb(36,36,36)",
            "showbackground": true,
            "showgrid": false,
            "showline": true,
            "ticks": "outside",
            "zeroline": false,
            "zerolinecolor": "rgb(36,36,36)"
           },
           "zaxis": {
            "backgroundcolor": "white",
            "gridcolor": "rgb(232,232,232)",
            "gridwidth": 2,
            "linecolor": "rgb(36,36,36)",
            "showbackground": true,
            "showgrid": false,
            "showline": true,
            "ticks": "outside",
            "zeroline": false,
            "zerolinecolor": "rgb(36,36,36)"
           }
          },
          "shapedefaults": {
           "fillcolor": "black",
           "line": {
            "width": 0
           },
           "opacity": 0.3
          },
          "ternary": {
           "aaxis": {
            "gridcolor": "rgb(232,232,232)",
            "linecolor": "rgb(36,36,36)",
            "showgrid": false,
            "showline": true,
            "ticks": "outside"
           },
           "baxis": {
            "gridcolor": "rgb(232,232,232)",
            "linecolor": "rgb(36,36,36)",
            "showgrid": false,
            "showline": true,
            "ticks": "outside"
           },
           "bgcolor": "white",
           "caxis": {
            "gridcolor": "rgb(232,232,232)",
            "linecolor": "rgb(36,36,36)",
            "showgrid": false,
            "showline": true,
            "ticks": "outside"
           }
          },
          "title": {
           "x": 0.05
          },
          "xaxis": {
           "automargin": true,
           "gridcolor": "rgb(232,232,232)",
           "linecolor": "rgb(36,36,36)",
           "showgrid": false,
           "showline": true,
           "ticks": "outside",
           "title": {
            "standoff": 15
           },
           "zeroline": false,
           "zerolinecolor": "rgb(36,36,36)"
          },
          "yaxis": {
           "automargin": true,
           "gridcolor": "rgb(232,232,232)",
           "linecolor": "rgb(36,36,36)",
           "showgrid": false,
           "showline": true,
           "ticks": "outside",
           "title": {
            "standoff": 15
           },
           "zeroline": false,
           "zerolinecolor": "rgb(36,36,36)"
          }
         }
        },
        "title": {
         "font": {
          "color": "black",
          "family": "Arial",
          "size": 22
         },
         "text": "<b>Aircraft Engine Emissions Breakdown</b><br><sup>Outer Ring shows emission contributions by Flight Phase; Inner Ring summarizes total emissions by Pollutant type</sup>"
        }
       }
      }
     },
     "metadata": {},
     "output_type": "display_data"
    }
   ],
   "source": [
    "import plotly.graph_objects as go\n",
    "import pandas as pd\n",
    "\n",
    "# Load and filter data\n",
    "summary_df = pd.read_csv(\"output/emissions/summary.csv\")\n",
    "summary_df_excl_total = summary_df[summary_df[\"Phase\"] != \"Total\"]\n",
    "summary_df_total = summary_df[summary_df[\"Phase\"] == \"Total\"]\n",
    "\n",
    "# Extract values\n",
    "phases = summary_df_excl_total[\"Phase\"]\n",
    "co_em = summary_df_excl_total[\"CO Emissions (g)\"]\n",
    "nox_em = summary_df_excl_total[\"NOx Emissions (g)\"]\n",
    "hc_em = summary_df_excl_total[\"HC Emissions (g)\"]\n",
    "\n",
    "# Sort by value descending\n",
    "sorted_co_data = sorted(zip(phases, co_em), key=lambda x: x[1], reverse=True)\n",
    "sorted_nox_data = sorted(zip(phases, nox_em), key=lambda x: x[1], reverse=True)\n",
    "sorted_hc_data = sorted(zip(phases, hc_em), key=lambda x: x[1], reverse=True)\n",
    "\n",
    "# Your color palette from largest to smallest\n",
    "color_palette_co = [\"#4197CA\", \"#64B6E2\", \"#9AD3F1\", \"#BCE3F6\", \"#DEF2FA\"]\n",
    "color_palette_nox = [\"#CB8712\", \"#E69F00\", \"#F1B733\", \"#F7CD66\", \"#FCE399\"]\n",
    "color_palette_hc = [\"#00664E\", \"#009E73\", \"#33B384\", \"#66C495\", \"#99D6B1\"]\n",
    "\n",
    "# Unzip\n",
    "sorted_co_phases, sorted_co_em = zip(*sorted_co_data)\n",
    "sorted_nox_phases, sorted_nox_em = zip(*sorted_nox_data)\n",
    "sorted_hc_phases, sorted_hc_em = zip(*sorted_hc_data)\n",
    "\n",
    "# Assign colors\n",
    "sorted_colors_co = color_palette_co[:len(sorted_co_em)]\n",
    "sorted_colors_nox = color_palette_nox[:len(sorted_co_em)]\n",
    "sorted_colors_hc = color_palette_hc[:len(sorted_co_em)]\n",
    "\n",
    "em_data = sorted_nox_em + sorted_co_em + sorted_hc_em\n",
    "em_phases = (\n",
    "    [f\"NOx / {phase}\" for phase in sorted_nox_phases] +\n",
    "    [f\"CO / {phase}\" for phase in sorted_co_phases] +\n",
    "    [f\"HC / {phase}\" for phase in sorted_hc_phases]\n",
    ")\n",
    "em_colors = color_palette_nox + color_palette_co + color_palette_hc\n",
    "\n",
    "\n",
    "total_co = summary_df_total[\"CO Emissions (g)\"]\n",
    "total_nox = summary_df_total[\"NOx Emissions (g)\"]\n",
    "total_hc = summary_df_total[\"HC Emissions (g)\"]\n",
    "\n",
    "total_em = pd.concat([total_nox, total_co, total_hc])\n",
    "\n",
    "fig=go.Figure()\n",
    "\n",
    "# INNER - TOTAL\n",
    "fig.add_trace(\n",
    "    go.Pie(\n",
    "        domain=dict(x=[0.0, 0.5]), \n",
    "        labels=[\"NOx\", \"CO\", \"HC\"],\n",
    "        textinfo='none',\n",
    "        values=total_em,\n",
    "        hole=0.35,\n",
    "        sort=False,\n",
    "        direction='clockwise',\n",
    "        rotation=0,\n",
    "        showlegend=False,\n",
    "        hovertemplate='Pollutant: %{label}<br>Percentage: %{percent}<br>Emissions: %{value:.1f} g<extra></extra>',\n",
    "        marker=dict(\n",
    "            colors=(\"#E69F00\",\"#64B6E2\",\"#009E73\"),\n",
    "            line=dict(\n",
    "                color='white',\n",
    "                width=0.5\n",
    "            )\n",
    "        )\n",
    "    )\n",
    ")\n",
    "\n",
    "# OUTER - PHASES\n",
    "fig.add_trace(\n",
    "    go.Pie(\n",
    "        domain=dict(x=[0.0, 0.5]),\n",
    "        labels=em_phases,\n",
    "        values=em_data,\n",
    "        textinfo='none',\n",
    "        hole=0.8,\n",
    "        sort=False,\n",
    "        direction='clockwise',\n",
    "        rotation=0,\n",
    "        showlegend=True,\n",
    "        hovertemplate='Pollutant / Phase: %{label}<br>Percentage: %{percent}<br>Emissions: %{value:.1f} g<extra></extra>',\n",
    "        marker=dict(\n",
    "            colors=em_colors,\n",
    "            line=dict(\n",
    "                color='white',\n",
    "                width=0.5 \n",
    "            )\n",
    "        )\n",
    "    )\n",
    ")\n",
    "\n",
    "fig.update_layout(\n",
    "    height=800,\n",
    "    template='simple_white',\n",
    "    title='<b>Aircraft Engine Emissions Breakdown (in grams)</b><br><sup>Outer Ring shows emission contributions by Flight Phase; Inner Ring summarizes total emissions by Pollutant type</sup>',\n",
    "    legend_title_text='<b>Phase-wise Breakdown by Pollutant Type</b>',\n",
    "    legend=dict(\n",
    "        x=0.75,\n",
    "        y=0.5,\n",
    "        xanchor='right',\n",
    "        yanchor='middle',\n",
    "        orientation='v',\n",
    "        font=dict(\n",
    "            family=\"Arial\",\n",
    "            size=10,\n",
    "            color=\"black\"\n",
    "        )\n",
    "    ),\n",
    "    title_font=dict(\n",
    "        size=22,\n",
    "        family=\"Arial\",\n",
    "        color=\"black\"\n",
    "    )\n",
    ")\n",
    "\n",
    "fig.show()"
   ]
  },
  {
   "cell_type": "code",
   "execution_count": 103,
   "id": "7e9f6db7",
   "metadata": {},
   "outputs": [
    {
     "data": {
      "application/vnd.plotly.v1+json": {
       "config": {
        "plotlyServerURL": "https://plot.ly"
       },
       "data": [
        {
         "direction": "clockwise",
         "domain": {
          "x": [
           0.7875,
           1
          ],
          "y": [
           0,
           1
          ]
         },
         "hole": 0.3,
         "hovertemplate": "Pollutant: %{label}<br>Percentage: %{percent}<br>Emissions: %{value:.1f} g<extra></extra>",
         "labels": [
          "NOx",
          "CO",
          "HC"
         ],
         "marker": {
          "colors": [
           "#E69F00",
           "#64B6E2",
           "#009E73"
          ],
          "line": {
           "color": "white",
           "width": 0.5
          }
         },
         "rotation": 0,
         "showlegend": false,
         "sort": false,
         "textinfo": "none",
         "type": "pie",
         "values": {
          "bdata": "KVyPwuU87EC4HoXrUaXZQKRwPQrXMKhA",
          "dtype": "f8"
         }
        },
        {
         "direction": "clockwise",
         "domain": {
          "x": [
           0.7875,
           1
          ],
          "y": [
           0,
           1
          ]
         },
         "hole": 0.75,
         "hovertemplate": "Pollutant / Phase: %{label}<br>Percentage: %{percent}<br>Emissions: %{value:.1f} g<extra></extra>",
         "labels": [
          "NOx / Cruise",
          "NOx / Climb Out",
          "NOx / Descent",
          "NOx / Take-Off",
          "NOx / Idle/Taxi",
          "CO / Cruise",
          "CO / Descent",
          "CO / Idle/Taxi",
          "CO / Climb Out",
          "CO / Take-Off",
          "HC / Descent",
          "HC / Cruise",
          "HC / Idle/Taxi",
          "HC / Climb Out",
          "HC / Take-Off"
         ],
         "marker": {
          "colors": [
           "#CB8712",
           "#E69F00",
           "#F1B733",
           "#F7CD66",
           "#FCE399",
           "#4197CA",
           "#64B6E2",
           "#9AD3F1",
           "#BCE3F6",
           "#DEF2FA",
           "#00664E",
           "#009E73",
           "#33B384",
           "#66C495",
           "#99D6B1"
          ],
          "line": {
           "color": "white",
           "width": 0.5
          }
         },
         "rotation": 0,
         "showlegend": false,
         "sort": false,
         "textinfo": "none",
         "type": "pie",
         "values": [
          46512,
          7897.5,
          2652,
          629.28,
          140.4,
          12312,
          11872.8,
          1443.6,
          585,
          47.88,
          2162.4,
          684,
          129.6,
          117,
          3.42
         ]
        },
        {
         "direction": "clockwise",
         "domain": {
          "x": [
           0,
           0.2125
          ],
          "y": [
           0,
           1
          ]
         },
         "hovertemplate": "Phase: %{label}<br>Percentage: %{percent}<br>Emissions: %{value:.1f} g<extra></extra>",
         "labels": [
          "NOx / Cruise",
          "NOx / Climb Out",
          "NOx / Descent",
          "NOx / Take-Off",
          "NOx / Idle/Taxi"
         ],
         "legendgroup": "NOx",
         "marker": {
          "colors": [
           "#CB8712",
           "#E69F00",
           "#F1B733",
           "#F7CD66",
           "#FCE399"
          ]
         },
         "name": "NOx",
         "pull": [
          0.05
         ],
         "rotation": 0,
         "showlegend": true,
         "sort": false,
         "textinfo": "none",
         "type": "pie",
         "values": [
          46512,
          7897.5,
          2652,
          629.28,
          140.4
         ]
        },
        {
         "direction": "clockwise",
         "domain": {
          "x": [
           0.2625,
           0.475
          ],
          "y": [
           0,
           1
          ]
         },
         "hovertemplate": "Phase: %{label}<br>Percentage: %{percent}<br>Emissions: %{value:.1f} g<extra></extra>",
         "labels": [
          "CO / Cruise",
          "CO / Descent",
          "CO / Idle/Taxi",
          "CO / Climb Out",
          "CO / Take-Off"
         ],
         "legendgroup": "CO",
         "marker": {
          "colors": [
           "#4197CA",
           "#64B6E2",
           "#9AD3F1",
           "#BCE3F6",
           "#DEF2FA"
          ]
         },
         "name": "CO",
         "pull": [
          0.05
         ],
         "rotation": 0,
         "showlegend": true,
         "sort": false,
         "textinfo": "none",
         "type": "pie",
         "values": [
          12312,
          11872.8,
          1443.6,
          585,
          47.88
         ]
        },
        {
         "direction": "clockwise",
         "domain": {
          "x": [
           0.525,
           0.7375
          ],
          "y": [
           0,
           1
          ]
         },
         "hovertemplate": "Phase: %{label}<br>Percentage: %{percent}<br>Emissions: %{value:.1f} g<extra></extra>",
         "labels": [
          "HC / Descent",
          "HC / Cruise",
          "HC / Idle/Taxi",
          "HC / Climb Out",
          "HC / Take-Off"
         ],
         "legendgroup": "HC",
         "marker": {
          "colors": [
           "#00664E",
           "#009E73",
           "#33B384",
           "#66C495",
           "#99D6B1"
          ]
         },
         "name": "HC",
         "pull": [
          0.05
         ],
         "rotation": 0,
         "showlegend": true,
         "sort": false,
         "textinfo": "none",
         "type": "pie",
         "values": [
          2162.4,
          684,
          129.6,
          117,
          3.42
         ]
        }
       ],
       "layout": {
        "annotations": [
         {
          "font": {
           "size": 16
          },
          "showarrow": false,
          "text": "<b>NOₓ Emissions (g)</b><br><sup>Emission of NOx tracked across Phases</sup>",
          "x": 0.10625,
          "xanchor": "center",
          "xref": "paper",
          "y": 1,
          "yanchor": "bottom",
          "yref": "paper"
         },
         {
          "font": {
           "size": 16
          },
          "showarrow": false,
          "text": "<b>CO Emissions (g)</b><br><sup>Emission of CO tracked across Phases</sup>",
          "x": 0.36875,
          "xanchor": "center",
          "xref": "paper",
          "y": 1,
          "yanchor": "bottom",
          "yref": "paper"
         },
         {
          "font": {
           "size": 16
          },
          "showarrow": false,
          "text": "<b>HC Emissions (g)</b><br><sup>Emission of HC tracked across Phases</sup>",
          "x": 0.6312500000000001,
          "xanchor": "center",
          "xref": "paper",
          "y": 1,
          "yanchor": "bottom",
          "yref": "paper"
         },
         {
          "font": {
           "size": 16
          },
          "showarrow": false,
          "text": "<b>Engine Emissions Breakdown (g)</b><br><sup>Outer Ring: Total Data; Inner Ring: Phase-Wise Data</sup>",
          "x": 0.89375,
          "xanchor": "center",
          "xref": "paper",
          "y": 1,
          "yanchor": "bottom",
          "yref": "paper"
         }
        ],
        "font": {
         "size": 12
        },
        "height": 700,
        "legend": {
         "font": {
          "size": 12
         },
         "orientation": "h",
         "title": {},
         "x": 0.5,
         "xanchor": "center",
         "y": -0.15,
         "yanchor": "bottom"
        },
        "margin": {
         "b": 80,
         "l": 20,
         "r": 20,
         "t": 80
        },
        "template": {
         "data": {
          "bar": [
           {
            "error_x": {
             "color": "rgb(36,36,36)"
            },
            "error_y": {
             "color": "rgb(36,36,36)"
            },
            "marker": {
             "line": {
              "color": "white",
              "width": 0.5
             },
             "pattern": {
              "fillmode": "overlay",
              "size": 10,
              "solidity": 0.2
             }
            },
            "type": "bar"
           }
          ],
          "barpolar": [
           {
            "marker": {
             "line": {
              "color": "white",
              "width": 0.5
             },
             "pattern": {
              "fillmode": "overlay",
              "size": 10,
              "solidity": 0.2
             }
            },
            "type": "barpolar"
           }
          ],
          "carpet": [
           {
            "aaxis": {
             "endlinecolor": "rgb(36,36,36)",
             "gridcolor": "white",
             "linecolor": "white",
             "minorgridcolor": "white",
             "startlinecolor": "rgb(36,36,36)"
            },
            "baxis": {
             "endlinecolor": "rgb(36,36,36)",
             "gridcolor": "white",
             "linecolor": "white",
             "minorgridcolor": "white",
             "startlinecolor": "rgb(36,36,36)"
            },
            "type": "carpet"
           }
          ],
          "choropleth": [
           {
            "colorbar": {
             "outlinewidth": 1,
             "tickcolor": "rgb(36,36,36)",
             "ticks": "outside"
            },
            "type": "choropleth"
           }
          ],
          "contour": [
           {
            "colorbar": {
             "outlinewidth": 1,
             "tickcolor": "rgb(36,36,36)",
             "ticks": "outside"
            },
            "colorscale": [
             [
              0,
              "#440154"
             ],
             [
              0.1111111111111111,
              "#482878"
             ],
             [
              0.2222222222222222,
              "#3e4989"
             ],
             [
              0.3333333333333333,
              "#31688e"
             ],
             [
              0.4444444444444444,
              "#26828e"
             ],
             [
              0.5555555555555556,
              "#1f9e89"
             ],
             [
              0.6666666666666666,
              "#35b779"
             ],
             [
              0.7777777777777778,
              "#6ece58"
             ],
             [
              0.8888888888888888,
              "#b5de2b"
             ],
             [
              1,
              "#fde725"
             ]
            ],
            "type": "contour"
           }
          ],
          "contourcarpet": [
           {
            "colorbar": {
             "outlinewidth": 1,
             "tickcolor": "rgb(36,36,36)",
             "ticks": "outside"
            },
            "type": "contourcarpet"
           }
          ],
          "heatmap": [
           {
            "colorbar": {
             "outlinewidth": 1,
             "tickcolor": "rgb(36,36,36)",
             "ticks": "outside"
            },
            "colorscale": [
             [
              0,
              "#440154"
             ],
             [
              0.1111111111111111,
              "#482878"
             ],
             [
              0.2222222222222222,
              "#3e4989"
             ],
             [
              0.3333333333333333,
              "#31688e"
             ],
             [
              0.4444444444444444,
              "#26828e"
             ],
             [
              0.5555555555555556,
              "#1f9e89"
             ],
             [
              0.6666666666666666,
              "#35b779"
             ],
             [
              0.7777777777777778,
              "#6ece58"
             ],
             [
              0.8888888888888888,
              "#b5de2b"
             ],
             [
              1,
              "#fde725"
             ]
            ],
            "type": "heatmap"
           }
          ],
          "histogram": [
           {
            "marker": {
             "line": {
              "color": "white",
              "width": 0.6
             }
            },
            "type": "histogram"
           }
          ],
          "histogram2d": [
           {
            "colorbar": {
             "outlinewidth": 1,
             "tickcolor": "rgb(36,36,36)",
             "ticks": "outside"
            },
            "colorscale": [
             [
              0,
              "#440154"
             ],
             [
              0.1111111111111111,
              "#482878"
             ],
             [
              0.2222222222222222,
              "#3e4989"
             ],
             [
              0.3333333333333333,
              "#31688e"
             ],
             [
              0.4444444444444444,
              "#26828e"
             ],
             [
              0.5555555555555556,
              "#1f9e89"
             ],
             [
              0.6666666666666666,
              "#35b779"
             ],
             [
              0.7777777777777778,
              "#6ece58"
             ],
             [
              0.8888888888888888,
              "#b5de2b"
             ],
             [
              1,
              "#fde725"
             ]
            ],
            "type": "histogram2d"
           }
          ],
          "histogram2dcontour": [
           {
            "colorbar": {
             "outlinewidth": 1,
             "tickcolor": "rgb(36,36,36)",
             "ticks": "outside"
            },
            "colorscale": [
             [
              0,
              "#440154"
             ],
             [
              0.1111111111111111,
              "#482878"
             ],
             [
              0.2222222222222222,
              "#3e4989"
             ],
             [
              0.3333333333333333,
              "#31688e"
             ],
             [
              0.4444444444444444,
              "#26828e"
             ],
             [
              0.5555555555555556,
              "#1f9e89"
             ],
             [
              0.6666666666666666,
              "#35b779"
             ],
             [
              0.7777777777777778,
              "#6ece58"
             ],
             [
              0.8888888888888888,
              "#b5de2b"
             ],
             [
              1,
              "#fde725"
             ]
            ],
            "type": "histogram2dcontour"
           }
          ],
          "mesh3d": [
           {
            "colorbar": {
             "outlinewidth": 1,
             "tickcolor": "rgb(36,36,36)",
             "ticks": "outside"
            },
            "type": "mesh3d"
           }
          ],
          "parcoords": [
           {
            "line": {
             "colorbar": {
              "outlinewidth": 1,
              "tickcolor": "rgb(36,36,36)",
              "ticks": "outside"
             }
            },
            "type": "parcoords"
           }
          ],
          "pie": [
           {
            "automargin": true,
            "type": "pie"
           }
          ],
          "scatter": [
           {
            "fillpattern": {
             "fillmode": "overlay",
             "size": 10,
             "solidity": 0.2
            },
            "type": "scatter"
           }
          ],
          "scatter3d": [
           {
            "line": {
             "colorbar": {
              "outlinewidth": 1,
              "tickcolor": "rgb(36,36,36)",
              "ticks": "outside"
             }
            },
            "marker": {
             "colorbar": {
              "outlinewidth": 1,
              "tickcolor": "rgb(36,36,36)",
              "ticks": "outside"
             }
            },
            "type": "scatter3d"
           }
          ],
          "scattercarpet": [
           {
            "marker": {
             "colorbar": {
              "outlinewidth": 1,
              "tickcolor": "rgb(36,36,36)",
              "ticks": "outside"
             }
            },
            "type": "scattercarpet"
           }
          ],
          "scattergeo": [
           {
            "marker": {
             "colorbar": {
              "outlinewidth": 1,
              "tickcolor": "rgb(36,36,36)",
              "ticks": "outside"
             }
            },
            "type": "scattergeo"
           }
          ],
          "scattergl": [
           {
            "marker": {
             "colorbar": {
              "outlinewidth": 1,
              "tickcolor": "rgb(36,36,36)",
              "ticks": "outside"
             }
            },
            "type": "scattergl"
           }
          ],
          "scattermap": [
           {
            "marker": {
             "colorbar": {
              "outlinewidth": 1,
              "tickcolor": "rgb(36,36,36)",
              "ticks": "outside"
             }
            },
            "type": "scattermap"
           }
          ],
          "scattermapbox": [
           {
            "marker": {
             "colorbar": {
              "outlinewidth": 1,
              "tickcolor": "rgb(36,36,36)",
              "ticks": "outside"
             }
            },
            "type": "scattermapbox"
           }
          ],
          "scatterpolar": [
           {
            "marker": {
             "colorbar": {
              "outlinewidth": 1,
              "tickcolor": "rgb(36,36,36)",
              "ticks": "outside"
             }
            },
            "type": "scatterpolar"
           }
          ],
          "scatterpolargl": [
           {
            "marker": {
             "colorbar": {
              "outlinewidth": 1,
              "tickcolor": "rgb(36,36,36)",
              "ticks": "outside"
             }
            },
            "type": "scatterpolargl"
           }
          ],
          "scatterternary": [
           {
            "marker": {
             "colorbar": {
              "outlinewidth": 1,
              "tickcolor": "rgb(36,36,36)",
              "ticks": "outside"
             }
            },
            "type": "scatterternary"
           }
          ],
          "surface": [
           {
            "colorbar": {
             "outlinewidth": 1,
             "tickcolor": "rgb(36,36,36)",
             "ticks": "outside"
            },
            "colorscale": [
             [
              0,
              "#440154"
             ],
             [
              0.1111111111111111,
              "#482878"
             ],
             [
              0.2222222222222222,
              "#3e4989"
             ],
             [
              0.3333333333333333,
              "#31688e"
             ],
             [
              0.4444444444444444,
              "#26828e"
             ],
             [
              0.5555555555555556,
              "#1f9e89"
             ],
             [
              0.6666666666666666,
              "#35b779"
             ],
             [
              0.7777777777777778,
              "#6ece58"
             ],
             [
              0.8888888888888888,
              "#b5de2b"
             ],
             [
              1,
              "#fde725"
             ]
            ],
            "type": "surface"
           }
          ],
          "table": [
           {
            "cells": {
             "fill": {
              "color": "rgb(237,237,237)"
             },
             "line": {
              "color": "white"
             }
            },
            "header": {
             "fill": {
              "color": "rgb(217,217,217)"
             },
             "line": {
              "color": "white"
             }
            },
            "type": "table"
           }
          ]
         },
         "layout": {
          "annotationdefaults": {
           "arrowhead": 0,
           "arrowwidth": 1
          },
          "autotypenumbers": "strict",
          "coloraxis": {
           "colorbar": {
            "outlinewidth": 1,
            "tickcolor": "rgb(36,36,36)",
            "ticks": "outside"
           }
          },
          "colorscale": {
           "diverging": [
            [
             0,
             "rgb(103,0,31)"
            ],
            [
             0.1,
             "rgb(178,24,43)"
            ],
            [
             0.2,
             "rgb(214,96,77)"
            ],
            [
             0.3,
             "rgb(244,165,130)"
            ],
            [
             0.4,
             "rgb(253,219,199)"
            ],
            [
             0.5,
             "rgb(247,247,247)"
            ],
            [
             0.6,
             "rgb(209,229,240)"
            ],
            [
             0.7,
             "rgb(146,197,222)"
            ],
            [
             0.8,
             "rgb(67,147,195)"
            ],
            [
             0.9,
             "rgb(33,102,172)"
            ],
            [
             1,
             "rgb(5,48,97)"
            ]
           ],
           "sequential": [
            [
             0,
             "#440154"
            ],
            [
             0.1111111111111111,
             "#482878"
            ],
            [
             0.2222222222222222,
             "#3e4989"
            ],
            [
             0.3333333333333333,
             "#31688e"
            ],
            [
             0.4444444444444444,
             "#26828e"
            ],
            [
             0.5555555555555556,
             "#1f9e89"
            ],
            [
             0.6666666666666666,
             "#35b779"
            ],
            [
             0.7777777777777778,
             "#6ece58"
            ],
            [
             0.8888888888888888,
             "#b5de2b"
            ],
            [
             1,
             "#fde725"
            ]
           ],
           "sequentialminus": [
            [
             0,
             "#440154"
            ],
            [
             0.1111111111111111,
             "#482878"
            ],
            [
             0.2222222222222222,
             "#3e4989"
            ],
            [
             0.3333333333333333,
             "#31688e"
            ],
            [
             0.4444444444444444,
             "#26828e"
            ],
            [
             0.5555555555555556,
             "#1f9e89"
            ],
            [
             0.6666666666666666,
             "#35b779"
            ],
            [
             0.7777777777777778,
             "#6ece58"
            ],
            [
             0.8888888888888888,
             "#b5de2b"
            ],
            [
             1,
             "#fde725"
            ]
           ]
          },
          "colorway": [
           "#1F77B4",
           "#FF7F0E",
           "#2CA02C",
           "#D62728",
           "#9467BD",
           "#8C564B",
           "#E377C2",
           "#7F7F7F",
           "#BCBD22",
           "#17BECF"
          ],
          "font": {
           "color": "rgb(36,36,36)"
          },
          "geo": {
           "bgcolor": "white",
           "lakecolor": "white",
           "landcolor": "white",
           "showlakes": true,
           "showland": true,
           "subunitcolor": "white"
          },
          "hoverlabel": {
           "align": "left"
          },
          "hovermode": "closest",
          "mapbox": {
           "style": "light"
          },
          "paper_bgcolor": "white",
          "plot_bgcolor": "white",
          "polar": {
           "angularaxis": {
            "gridcolor": "rgb(232,232,232)",
            "linecolor": "rgb(36,36,36)",
            "showgrid": false,
            "showline": true,
            "ticks": "outside"
           },
           "bgcolor": "white",
           "radialaxis": {
            "gridcolor": "rgb(232,232,232)",
            "linecolor": "rgb(36,36,36)",
            "showgrid": false,
            "showline": true,
            "ticks": "outside"
           }
          },
          "scene": {
           "xaxis": {
            "backgroundcolor": "white",
            "gridcolor": "rgb(232,232,232)",
            "gridwidth": 2,
            "linecolor": "rgb(36,36,36)",
            "showbackground": true,
            "showgrid": false,
            "showline": true,
            "ticks": "outside",
            "zeroline": false,
            "zerolinecolor": "rgb(36,36,36)"
           },
           "yaxis": {
            "backgroundcolor": "white",
            "gridcolor": "rgb(232,232,232)",
            "gridwidth": 2,
            "linecolor": "rgb(36,36,36)",
            "showbackground": true,
            "showgrid": false,
            "showline": true,
            "ticks": "outside",
            "zeroline": false,
            "zerolinecolor": "rgb(36,36,36)"
           },
           "zaxis": {
            "backgroundcolor": "white",
            "gridcolor": "rgb(232,232,232)",
            "gridwidth": 2,
            "linecolor": "rgb(36,36,36)",
            "showbackground": true,
            "showgrid": false,
            "showline": true,
            "ticks": "outside",
            "zeroline": false,
            "zerolinecolor": "rgb(36,36,36)"
           }
          },
          "shapedefaults": {
           "fillcolor": "black",
           "line": {
            "width": 0
           },
           "opacity": 0.3
          },
          "ternary": {
           "aaxis": {
            "gridcolor": "rgb(232,232,232)",
            "linecolor": "rgb(36,36,36)",
            "showgrid": false,
            "showline": true,
            "ticks": "outside"
           },
           "baxis": {
            "gridcolor": "rgb(232,232,232)",
            "linecolor": "rgb(36,36,36)",
            "showgrid": false,
            "showline": true,
            "ticks": "outside"
           },
           "bgcolor": "white",
           "caxis": {
            "gridcolor": "rgb(232,232,232)",
            "linecolor": "rgb(36,36,36)",
            "showgrid": false,
            "showline": true,
            "ticks": "outside"
           }
          },
          "title": {
           "x": 0.05
          },
          "xaxis": {
           "automargin": true,
           "gridcolor": "rgb(232,232,232)",
           "linecolor": "rgb(36,36,36)",
           "showgrid": false,
           "showline": true,
           "ticks": "outside",
           "title": {
            "standoff": 15
           },
           "zeroline": false,
           "zerolinecolor": "rgb(36,36,36)"
          },
          "yaxis": {
           "automargin": true,
           "gridcolor": "rgb(232,232,232)",
           "linecolor": "rgb(36,36,36)",
           "showgrid": false,
           "showline": true,
           "ticks": "outside",
           "title": {
            "standoff": 15
           },
           "zeroline": false,
           "zerolinecolor": "rgb(36,36,36)"
          }
         }
        },
        "title": {
         "font": {
          "size": 20
         }
        }
       }
      }
     },
     "metadata": {},
     "output_type": "display_data"
    }
   ],
   "source": [
    "import plotly.graph_objects as go\n",
    "from plotly.subplots import make_subplots\n",
    "import pandas as pd\n",
    "\n",
    "# Load and filter data\n",
    "summary_df = pd.read_csv(\"output/emissions/summary.csv\")\n",
    "summary_df_excl_total = summary_df[summary_df[\"Phase\"] != \"Total\"]\n",
    "\n",
    "# Extract values\n",
    "phases = summary_df_excl_total[\"Phase\"]\n",
    "co_em = summary_df_excl_total[\"CO Emissions (g)\"]\n",
    "nox_em = summary_df_excl_total[\"NOx Emissions (g)\"]\n",
    "hc_em = summary_df_excl_total[\"HC Emissions (g)\"]\n",
    "\n",
    "\n",
    "# Sort by value descending\n",
    "sorted_co_data = sorted(zip(phases, co_em), key=lambda x: x[1], reverse=True)\n",
    "sorted_nox_data = sorted(zip(phases, nox_em), key=lambda x: x[1], reverse=True)\n",
    "sorted_hc_data = sorted(zip(phases, hc_em), key=lambda x: x[1], reverse=True)\n",
    "\n",
    "# Your color palette from largest to smallest\n",
    "color_palette_co = [\"#4197CA\", \"#64B6E2\", \"#9AD3F1\", \"#BCE3F6\", \"#DEF2FA\"]\n",
    "color_palette_nox = [\"#CB8712\", \"#E69F00\", \"#F1B733\", \"#F7CD66\", \"#FCE399\"]\n",
    "color_palette_hc = [\"#00664E\", \"#009E73\", \"#33B384\", \"#66C495\", \"#99D6B1\"]\n",
    "\n",
    "# Unzip\n",
    "sorted_co_phases, sorted_co_em = zip(*sorted_co_data)\n",
    "sorted_nox_phases, sorted_nox_em = zip(*sorted_nox_data)\n",
    "sorted_hc_phases, sorted_hc_em = zip(*sorted_hc_data)\n",
    "\n",
    "# Assign colors\n",
    "sorted_colors_co = color_palette_co[:len(sorted_co_em)]\n",
    "sorted_colors_nox = color_palette_nox[:len(sorted_co_em)]\n",
    "sorted_colors_hc = color_palette_hc[:len(sorted_co_em)]\n",
    "\n",
    "sorted_nox_phases = [f\"NOx / {phase}\" for phase in sorted_nox_phases]\n",
    "sorted_co_phases = [f\"CO / {phase}\" for phase in sorted_co_phases]\n",
    "sorted_hc_phases = [f\"HC / {phase}\" for phase in sorted_hc_phases]\n",
    "\n",
    "em_data = sorted_nox_em + sorted_co_em + sorted_hc_em\n",
    "em_phases = sorted_nox_phases + sorted_co_phases + sorted_hc_phases\n",
    "em_colors = color_palette_nox + color_palette_co + color_palette_hc\n",
    "\n",
    "total_co = summary_df_total[\"CO Emissions (g)\"]\n",
    "total_nox = summary_df_total[\"NOx Emissions (g)\"]\n",
    "total_hc = summary_df_total[\"HC Emissions (g)\"]\n",
    "\n",
    "total_em = pd.concat([total_nox, total_co, total_hc])\n",
    "\n",
    "fig=go.Figure()\n",
    "\n",
    "# Create subplot layout\n",
    "fig = make_subplots(\n",
    "    rows=1, cols=4,\n",
    "    column_widths=[0.25, 0.25, 0.25, 0.25],\n",
    "    specs=[\n",
    "        [{\"type\": \"domain\"}, {\"type\": \"domain\"}, {\"type\": \"domain\"}, {\"type\": \"domain\"}]\n",
    "    ],\n",
    "    subplot_titles=(\n",
    "        \"<b>NOₓ Emissions (g)</b><br><sup>Emission of NOx tracked across Phases</sup>\", \n",
    "        \"<b>CO Emissions (g)</b><br><sup>Emission of CO tracked across Phases</sup>\", \n",
    "        \"<b>HC Emissions (g)</b><br><sup>Emission of HC tracked across Phases</sup>\",\n",
    "        '<b>Engine Emissions Breakdown (g)</b><br><sup>Outer Ring: Total Data; Inner Ring: Phase-Wise Data</sup>'\n",
    "    )\n",
    ")\n",
    "\n",
    "# INNER - TOTAL\n",
    "fig.add_trace(\n",
    "    go.Pie(\n",
    "        domain=dict(x=[0.0, 0.5]), \n",
    "        labels=[\"NOx\", \"CO\", \"HC\"],\n",
    "        textinfo='none',\n",
    "        values=total_em,\n",
    "        hole=0.3,\n",
    "        sort=False,\n",
    "        direction='clockwise',\n",
    "        rotation=0,\n",
    "        showlegend=False,\n",
    "        hovertemplate='Pollutant: %{label}<br>Percentage: %{percent}<br>Emissions: %{value:.1f} g<extra></extra>',\n",
    "        marker=dict(\n",
    "            colors=(\"#E69F00\",\"#64B6E2\",\"#009E73\"),\n",
    "            line=dict(\n",
    "                color='white',\n",
    "                width=0.5\n",
    "            )\n",
    "        )\n",
    "    ),\n",
    "    row=1, col=4\n",
    ")\n",
    "\n",
    "# OUTER - PHASES\n",
    "fig.add_trace(\n",
    "    go.Pie(\n",
    "        domain=dict(x=[0.0, 0.5]),\n",
    "        labels=em_phases,\n",
    "        values=em_data,\n",
    "        textinfo='none',\n",
    "        hole=0.75,\n",
    "        sort=False,\n",
    "        direction='clockwise',\n",
    "        rotation=0,\n",
    "        showlegend=False,\n",
    "        hovertemplate='Pollutant / Phase: %{label}<br>Percentage: %{percent}<br>Emissions: %{value:.1f} g<extra></extra>',\n",
    "        marker=dict(\n",
    "            colors=em_colors,\n",
    "            line=dict(\n",
    "                color='white',\n",
    "                width=0.5 \n",
    "            )\n",
    "        )\n",
    "    ),\n",
    "    row=1, col=4\n",
    ")\n",
    "\n",
    "fig.add_trace(\n",
    "    go.Pie(\n",
    "        labels=sorted_nox_phases,\n",
    "        values=sorted_nox_em,\n",
    "        name=\"NOx\",\n",
    "        pull=[0.05],\n",
    "        textinfo='none',\n",
    "        legendgroup=\"NOx\",\n",
    "        showlegend=True,\n",
    "        marker=dict(colors=sorted_colors_nox),\n",
    "        hovertemplate='Phase: %{label}<br>Percentage: %{percent}<br>Emissions: %{value:.1f} g<extra></extra>',\n",
    "        domain=dict(y=[0.66, 0.86]),  # Shifted further down\n",
    "        sort=False,\n",
    "        direction=\"clockwise\",\n",
    "        rotation=0\n",
    "    ),\n",
    "    row=1, col=1\n",
    ")\n",
    "\n",
    "fig.add_trace(\n",
    "    go.Pie(\n",
    "        labels=sorted_co_phases,\n",
    "        values=sorted_co_em,\n",
    "        name=\"CO\",\n",
    "        pull=[0.05],\n",
    "        textinfo='none',\n",
    "        legendgroup=\"CO\",\n",
    "        showlegend=True,\n",
    "        marker=dict(colors=sorted_colors_co),\n",
    "        hovertemplate='Phase: %{label}<br>Percentage: %{percent}<br>Emissions: %{value:.1f} g<extra></extra>',\n",
    "        domain=dict(y=[0.36, 0.56]),  # Shifted further down\n",
    "        sort=False,\n",
    "        direction=\"clockwise\",\n",
    "        rotation=0\n",
    "    ),\n",
    "    row=1, col=2\n",
    ")\n",
    "\n",
    "fig.add_trace(\n",
    "    go.Pie(\n",
    "        labels=sorted_hc_phases,\n",
    "        values=sorted_hc_em,\n",
    "        name=\"HC\",\n",
    "        pull=[0.05],\n",
    "        textinfo='none',\n",
    "        legendgroup=\"HC\",\n",
    "        showlegend=True,\n",
    "        marker=dict(colors=sorted_colors_hc),\n",
    "        hovertemplate='Phase: %{label}<br>Percentage: %{percent}<br>Emissions: %{value:.1f} g<extra></extra>',\n",
    "        domain=dict(y=[0.06, 0.26]),  # Shifted further down\n",
    "        sort=False,\n",
    "        direction=\"clockwise\",\n",
    "        rotation=0\n",
    "    ),\n",
    "    row=1, col=3\n",
    ")\n",
    "\n",
    "# Layout settings\n",
    "fig.update_layout(\n",
    "    height=700,\n",
    "    template='simple_white',\n",
    "    title_font=dict(size=20),\n",
    "    legend=dict(\n",
    "        orientation='h',\n",
    "        yanchor='bottom',\n",
    "        y=-0.15, \n",
    "        xanchor='center',\n",
    "        x=0.5,\n",
    "        title=None,\n",
    "        font=dict(size=12)\n",
    "    ),\n",
    "    margin=dict(l=20, r=20, t=80, b=80),\n",
    "    font=dict(size=12),\n",
    ")\n",
    "\n",
    "fig.show()"
   ]
  },
  {
   "cell_type": "code",
   "execution_count": 346,
   "id": "ed0b06ab",
   "metadata": {},
   "outputs": [
    {
     "data": {
      "application/vnd.plotly.v1+json": {
       "config": {
        "plotlyServerURL": "https://plot.ly"
       },
       "data": [
        {
         "fill": "tozeroy",
         "hoverinfo": "skip",
         "hovertemplate": "Fuel Flow: %{y} kg/s<br>Time: %{x} s<extra></extra>",
         "line": {
          "color": "rgba(255,0,0,0.3)"
         },
         "marker": {
          "color": "#C44E52"
         },
         "mode": "lines+markers",
         "name": "Fuel Used",
         "text": [
          "Idle/Taxi",
          "Take-Off",
          "Climb Out",
          "Cruise",
          "Descent"
         ],
         "type": "scatter",
         "x": {
          "bdata": "AAAAAADAYkAAAAAAALBzQAAAAAAAYIhAAAAAAACsp0AAAAAAADa1QA==",
          "dtype": "f8"
         },
         "y": {
          "bdata": "uB6F61G4vj89CtejcD3yP83MzMzMzOQ/ZmZmZmZm7j/D9Shcj8LVPw==",
          "dtype": "f8"
         }
        }
       ],
       "layout": {
        "showlegend": true,
        "template": {
         "data": {
          "bar": [
           {
            "error_x": {
             "color": "rgb(36,36,36)"
            },
            "error_y": {
             "color": "rgb(36,36,36)"
            },
            "marker": {
             "line": {
              "color": "white",
              "width": 0.5
             },
             "pattern": {
              "fillmode": "overlay",
              "size": 10,
              "solidity": 0.2
             }
            },
            "type": "bar"
           }
          ],
          "barpolar": [
           {
            "marker": {
             "line": {
              "color": "white",
              "width": 0.5
             },
             "pattern": {
              "fillmode": "overlay",
              "size": 10,
              "solidity": 0.2
             }
            },
            "type": "barpolar"
           }
          ],
          "carpet": [
           {
            "aaxis": {
             "endlinecolor": "rgb(36,36,36)",
             "gridcolor": "white",
             "linecolor": "white",
             "minorgridcolor": "white",
             "startlinecolor": "rgb(36,36,36)"
            },
            "baxis": {
             "endlinecolor": "rgb(36,36,36)",
             "gridcolor": "white",
             "linecolor": "white",
             "minorgridcolor": "white",
             "startlinecolor": "rgb(36,36,36)"
            },
            "type": "carpet"
           }
          ],
          "choropleth": [
           {
            "colorbar": {
             "outlinewidth": 1,
             "tickcolor": "rgb(36,36,36)",
             "ticks": "outside"
            },
            "type": "choropleth"
           }
          ],
          "contour": [
           {
            "colorbar": {
             "outlinewidth": 1,
             "tickcolor": "rgb(36,36,36)",
             "ticks": "outside"
            },
            "colorscale": [
             [
              0,
              "#440154"
             ],
             [
              0.1111111111111111,
              "#482878"
             ],
             [
              0.2222222222222222,
              "#3e4989"
             ],
             [
              0.3333333333333333,
              "#31688e"
             ],
             [
              0.4444444444444444,
              "#26828e"
             ],
             [
              0.5555555555555556,
              "#1f9e89"
             ],
             [
              0.6666666666666666,
              "#35b779"
             ],
             [
              0.7777777777777778,
              "#6ece58"
             ],
             [
              0.8888888888888888,
              "#b5de2b"
             ],
             [
              1,
              "#fde725"
             ]
            ],
            "type": "contour"
           }
          ],
          "contourcarpet": [
           {
            "colorbar": {
             "outlinewidth": 1,
             "tickcolor": "rgb(36,36,36)",
             "ticks": "outside"
            },
            "type": "contourcarpet"
           }
          ],
          "heatmap": [
           {
            "colorbar": {
             "outlinewidth": 1,
             "tickcolor": "rgb(36,36,36)",
             "ticks": "outside"
            },
            "colorscale": [
             [
              0,
              "#440154"
             ],
             [
              0.1111111111111111,
              "#482878"
             ],
             [
              0.2222222222222222,
              "#3e4989"
             ],
             [
              0.3333333333333333,
              "#31688e"
             ],
             [
              0.4444444444444444,
              "#26828e"
             ],
             [
              0.5555555555555556,
              "#1f9e89"
             ],
             [
              0.6666666666666666,
              "#35b779"
             ],
             [
              0.7777777777777778,
              "#6ece58"
             ],
             [
              0.8888888888888888,
              "#b5de2b"
             ],
             [
              1,
              "#fde725"
             ]
            ],
            "type": "heatmap"
           }
          ],
          "histogram": [
           {
            "marker": {
             "line": {
              "color": "white",
              "width": 0.6
             }
            },
            "type": "histogram"
           }
          ],
          "histogram2d": [
           {
            "colorbar": {
             "outlinewidth": 1,
             "tickcolor": "rgb(36,36,36)",
             "ticks": "outside"
            },
            "colorscale": [
             [
              0,
              "#440154"
             ],
             [
              0.1111111111111111,
              "#482878"
             ],
             [
              0.2222222222222222,
              "#3e4989"
             ],
             [
              0.3333333333333333,
              "#31688e"
             ],
             [
              0.4444444444444444,
              "#26828e"
             ],
             [
              0.5555555555555556,
              "#1f9e89"
             ],
             [
              0.6666666666666666,
              "#35b779"
             ],
             [
              0.7777777777777778,
              "#6ece58"
             ],
             [
              0.8888888888888888,
              "#b5de2b"
             ],
             [
              1,
              "#fde725"
             ]
            ],
            "type": "histogram2d"
           }
          ],
          "histogram2dcontour": [
           {
            "colorbar": {
             "outlinewidth": 1,
             "tickcolor": "rgb(36,36,36)",
             "ticks": "outside"
            },
            "colorscale": [
             [
              0,
              "#440154"
             ],
             [
              0.1111111111111111,
              "#482878"
             ],
             [
              0.2222222222222222,
              "#3e4989"
             ],
             [
              0.3333333333333333,
              "#31688e"
             ],
             [
              0.4444444444444444,
              "#26828e"
             ],
             [
              0.5555555555555556,
              "#1f9e89"
             ],
             [
              0.6666666666666666,
              "#35b779"
             ],
             [
              0.7777777777777778,
              "#6ece58"
             ],
             [
              0.8888888888888888,
              "#b5de2b"
             ],
             [
              1,
              "#fde725"
             ]
            ],
            "type": "histogram2dcontour"
           }
          ],
          "mesh3d": [
           {
            "colorbar": {
             "outlinewidth": 1,
             "tickcolor": "rgb(36,36,36)",
             "ticks": "outside"
            },
            "type": "mesh3d"
           }
          ],
          "parcoords": [
           {
            "line": {
             "colorbar": {
              "outlinewidth": 1,
              "tickcolor": "rgb(36,36,36)",
              "ticks": "outside"
             }
            },
            "type": "parcoords"
           }
          ],
          "pie": [
           {
            "automargin": true,
            "type": "pie"
           }
          ],
          "scatter": [
           {
            "fillpattern": {
             "fillmode": "overlay",
             "size": 10,
             "solidity": 0.2
            },
            "type": "scatter"
           }
          ],
          "scatter3d": [
           {
            "line": {
             "colorbar": {
              "outlinewidth": 1,
              "tickcolor": "rgb(36,36,36)",
              "ticks": "outside"
             }
            },
            "marker": {
             "colorbar": {
              "outlinewidth": 1,
              "tickcolor": "rgb(36,36,36)",
              "ticks": "outside"
             }
            },
            "type": "scatter3d"
           }
          ],
          "scattercarpet": [
           {
            "marker": {
             "colorbar": {
              "outlinewidth": 1,
              "tickcolor": "rgb(36,36,36)",
              "ticks": "outside"
             }
            },
            "type": "scattercarpet"
           }
          ],
          "scattergeo": [
           {
            "marker": {
             "colorbar": {
              "outlinewidth": 1,
              "tickcolor": "rgb(36,36,36)",
              "ticks": "outside"
             }
            },
            "type": "scattergeo"
           }
          ],
          "scattergl": [
           {
            "marker": {
             "colorbar": {
              "outlinewidth": 1,
              "tickcolor": "rgb(36,36,36)",
              "ticks": "outside"
             }
            },
            "type": "scattergl"
           }
          ],
          "scattermap": [
           {
            "marker": {
             "colorbar": {
              "outlinewidth": 1,
              "tickcolor": "rgb(36,36,36)",
              "ticks": "outside"
             }
            },
            "type": "scattermap"
           }
          ],
          "scattermapbox": [
           {
            "marker": {
             "colorbar": {
              "outlinewidth": 1,
              "tickcolor": "rgb(36,36,36)",
              "ticks": "outside"
             }
            },
            "type": "scattermapbox"
           }
          ],
          "scatterpolar": [
           {
            "marker": {
             "colorbar": {
              "outlinewidth": 1,
              "tickcolor": "rgb(36,36,36)",
              "ticks": "outside"
             }
            },
            "type": "scatterpolar"
           }
          ],
          "scatterpolargl": [
           {
            "marker": {
             "colorbar": {
              "outlinewidth": 1,
              "tickcolor": "rgb(36,36,36)",
              "ticks": "outside"
             }
            },
            "type": "scatterpolargl"
           }
          ],
          "scatterternary": [
           {
            "marker": {
             "colorbar": {
              "outlinewidth": 1,
              "tickcolor": "rgb(36,36,36)",
              "ticks": "outside"
             }
            },
            "type": "scatterternary"
           }
          ],
          "surface": [
           {
            "colorbar": {
             "outlinewidth": 1,
             "tickcolor": "rgb(36,36,36)",
             "ticks": "outside"
            },
            "colorscale": [
             [
              0,
              "#440154"
             ],
             [
              0.1111111111111111,
              "#482878"
             ],
             [
              0.2222222222222222,
              "#3e4989"
             ],
             [
              0.3333333333333333,
              "#31688e"
             ],
             [
              0.4444444444444444,
              "#26828e"
             ],
             [
              0.5555555555555556,
              "#1f9e89"
             ],
             [
              0.6666666666666666,
              "#35b779"
             ],
             [
              0.7777777777777778,
              "#6ece58"
             ],
             [
              0.8888888888888888,
              "#b5de2b"
             ],
             [
              1,
              "#fde725"
             ]
            ],
            "type": "surface"
           }
          ],
          "table": [
           {
            "cells": {
             "fill": {
              "color": "rgb(237,237,237)"
             },
             "line": {
              "color": "white"
             }
            },
            "header": {
             "fill": {
              "color": "rgb(217,217,217)"
             },
             "line": {
              "color": "white"
             }
            },
            "type": "table"
           }
          ]
         },
         "layout": {
          "annotationdefaults": {
           "arrowhead": 0,
           "arrowwidth": 1
          },
          "autotypenumbers": "strict",
          "coloraxis": {
           "colorbar": {
            "outlinewidth": 1,
            "tickcolor": "rgb(36,36,36)",
            "ticks": "outside"
           }
          },
          "colorscale": {
           "diverging": [
            [
             0,
             "rgb(103,0,31)"
            ],
            [
             0.1,
             "rgb(178,24,43)"
            ],
            [
             0.2,
             "rgb(214,96,77)"
            ],
            [
             0.3,
             "rgb(244,165,130)"
            ],
            [
             0.4,
             "rgb(253,219,199)"
            ],
            [
             0.5,
             "rgb(247,247,247)"
            ],
            [
             0.6,
             "rgb(209,229,240)"
            ],
            [
             0.7,
             "rgb(146,197,222)"
            ],
            [
             0.8,
             "rgb(67,147,195)"
            ],
            [
             0.9,
             "rgb(33,102,172)"
            ],
            [
             1,
             "rgb(5,48,97)"
            ]
           ],
           "sequential": [
            [
             0,
             "#440154"
            ],
            [
             0.1111111111111111,
             "#482878"
            ],
            [
             0.2222222222222222,
             "#3e4989"
            ],
            [
             0.3333333333333333,
             "#31688e"
            ],
            [
             0.4444444444444444,
             "#26828e"
            ],
            [
             0.5555555555555556,
             "#1f9e89"
            ],
            [
             0.6666666666666666,
             "#35b779"
            ],
            [
             0.7777777777777778,
             "#6ece58"
            ],
            [
             0.8888888888888888,
             "#b5de2b"
            ],
            [
             1,
             "#fde725"
            ]
           ],
           "sequentialminus": [
            [
             0,
             "#440154"
            ],
            [
             0.1111111111111111,
             "#482878"
            ],
            [
             0.2222222222222222,
             "#3e4989"
            ],
            [
             0.3333333333333333,
             "#31688e"
            ],
            [
             0.4444444444444444,
             "#26828e"
            ],
            [
             0.5555555555555556,
             "#1f9e89"
            ],
            [
             0.6666666666666666,
             "#35b779"
            ],
            [
             0.7777777777777778,
             "#6ece58"
            ],
            [
             0.8888888888888888,
             "#b5de2b"
            ],
            [
             1,
             "#fde725"
            ]
           ]
          },
          "colorway": [
           "#1F77B4",
           "#FF7F0E",
           "#2CA02C",
           "#D62728",
           "#9467BD",
           "#8C564B",
           "#E377C2",
           "#7F7F7F",
           "#BCBD22",
           "#17BECF"
          ],
          "font": {
           "color": "rgb(36,36,36)"
          },
          "geo": {
           "bgcolor": "white",
           "lakecolor": "white",
           "landcolor": "white",
           "showlakes": true,
           "showland": true,
           "subunitcolor": "white"
          },
          "hoverlabel": {
           "align": "left"
          },
          "hovermode": "closest",
          "mapbox": {
           "style": "light"
          },
          "paper_bgcolor": "white",
          "plot_bgcolor": "white",
          "polar": {
           "angularaxis": {
            "gridcolor": "rgb(232,232,232)",
            "linecolor": "rgb(36,36,36)",
            "showgrid": false,
            "showline": true,
            "ticks": "outside"
           },
           "bgcolor": "white",
           "radialaxis": {
            "gridcolor": "rgb(232,232,232)",
            "linecolor": "rgb(36,36,36)",
            "showgrid": false,
            "showline": true,
            "ticks": "outside"
           }
          },
          "scene": {
           "xaxis": {
            "backgroundcolor": "white",
            "gridcolor": "rgb(232,232,232)",
            "gridwidth": 2,
            "linecolor": "rgb(36,36,36)",
            "showbackground": true,
            "showgrid": false,
            "showline": true,
            "ticks": "outside",
            "zeroline": false,
            "zerolinecolor": "rgb(36,36,36)"
           },
           "yaxis": {
            "backgroundcolor": "white",
            "gridcolor": "rgb(232,232,232)",
            "gridwidth": 2,
            "linecolor": "rgb(36,36,36)",
            "showbackground": true,
            "showgrid": false,
            "showline": true,
            "ticks": "outside",
            "zeroline": false,
            "zerolinecolor": "rgb(36,36,36)"
           },
           "zaxis": {
            "backgroundcolor": "white",
            "gridcolor": "rgb(232,232,232)",
            "gridwidth": 2,
            "linecolor": "rgb(36,36,36)",
            "showbackground": true,
            "showgrid": false,
            "showline": true,
            "ticks": "outside",
            "zeroline": false,
            "zerolinecolor": "rgb(36,36,36)"
           }
          },
          "shapedefaults": {
           "fillcolor": "black",
           "line": {
            "width": 0
           },
           "opacity": 0.3
          },
          "ternary": {
           "aaxis": {
            "gridcolor": "rgb(232,232,232)",
            "linecolor": "rgb(36,36,36)",
            "showgrid": false,
            "showline": true,
            "ticks": "outside"
           },
           "baxis": {
            "gridcolor": "rgb(232,232,232)",
            "linecolor": "rgb(36,36,36)",
            "showgrid": false,
            "showline": true,
            "ticks": "outside"
           },
           "bgcolor": "white",
           "caxis": {
            "gridcolor": "rgb(232,232,232)",
            "linecolor": "rgb(36,36,36)",
            "showgrid": false,
            "showline": true,
            "ticks": "outside"
           }
          },
          "title": {
           "x": 0.05
          },
          "xaxis": {
           "automargin": true,
           "gridcolor": "rgb(232,232,232)",
           "linecolor": "rgb(36,36,36)",
           "showgrid": false,
           "showline": true,
           "ticks": "outside",
           "title": {
            "standoff": 15
           },
           "zeroline": false,
           "zerolinecolor": "rgb(36,36,36)"
          },
          "yaxis": {
           "automargin": true,
           "gridcolor": "rgb(232,232,232)",
           "linecolor": "rgb(36,36,36)",
           "showgrid": false,
           "showline": true,
           "ticks": "outside",
           "title": {
            "standoff": 15
           },
           "zeroline": false,
           "zerolinecolor": "rgb(36,36,36)"
          }
         }
        },
        "title": {
         "text": "<b>Fuel Flow (kg/s) over Time (s)</b><br><sup>Time series plotted using midpoint timestamps of each phase to represent average fuel flow trends accurately.</sup>"
        },
        "xaxis": {
         "gridcolor": "lightgrey",
         "gridwidth": 1,
         "showgrid": true,
         "title": {
          "text": "Time (s)"
         }
        },
        "yaxis": {
         "gridcolor": "lightgrey",
         "gridwidth": 1,
         "showgrid": true,
         "title": {
          "text": "Fuel Flow (kg/s)"
         }
        }
       }
      }
     },
     "metadata": {},
     "output_type": "display_data"
    }
   ],
   "source": [
    "import plotly.graph_objects as go \n",
    "import pandas as pd\n",
    "\n",
    "summary_df = pd.read_csv(\"output/emissions/summary.csv\")\n",
    "summary_df = pd.DataFrame(summary_df)\n",
    "\n",
    "phases_df = summary_df[summary_df['Phase'] != 'Total'].copy()\n",
    "\n",
    "phases_df['Start Time (s)'] = phases_df['Duration (s)'].cumsum() - phases_df['Duration (s)']\n",
    "phases_df['End Time (s)'] = phases_df['Duration (s)'].cumsum()\n",
    "phases_df['Mid Time (s)'] = (phases_df['Start Time (s)'] + phases_df['End Time (s)']) / 2\n",
    "\n",
    "fig = go.Figure()\n",
    "\n",
    "fig.add_trace(go.Scatter(\n",
    "    x=phases_df['Mid Time (s)'],\n",
    "    y=phases_df['Fuel Flow (kg/s)'],\n",
    "    mode='lines+markers',\n",
    "    fill='tozeroy',\n",
    "    name='Fuel Used',\n",
    "    line=dict(color='rgba(255,0,0,0.3)'),\n",
    "    hoverinfo='skip',\n",
    "    marker= dict(color=\"#C44E52\"),\n",
    "    text=phases_df['Phase'],\n",
    "    hovertemplate= \"Fuel Flow: %{y} kg/s<br>Time: %{x} s<extra></extra>\"\n",
    "))\n",
    "\n",
    "fig.update_layout(\n",
    "    xaxis_title = 'Time (s)',\n",
    "    yaxis_title = 'Fuel Flow (kg/s)',\n",
    "    title='<b>Fuel Flow (kg/s) over Time (s)</b><br><sup>Time series plotted using midpoint' \\\n",
    "    ' timestamps of each phase to represent average fuel flow trends accurately.</sup>',\n",
    "    template='simple_white',\n",
    "    showlegend=True,\n",
    "    xaxis= dict(\n",
    "        showgrid= True,\n",
    "        gridwidth= 1,\n",
    "        gridcolor= 'lightgrey'\n",
    "    ),\n",
    "    yaxis= dict(\n",
    "        showgrid= True,\n",
    "        gridwidth= 1,\n",
    "        gridcolor= 'lightgrey'\n",
    "    )\n",
    ")\n",
    "\n",
    "fig.show()"
   ]
  },
  {
   "cell_type": "code",
   "execution_count": 347,
   "id": "aa989146",
   "metadata": {},
   "outputs": [
    {
     "data": {
      "application/vnd.plotly.v1+json": {
       "config": {
        "plotlyServerURL": "https://plot.ly"
       },
       "data": [
        {
         "fill": "tozeroy",
         "hovertemplate": "Fuel Flow: %{y:.2f} kg/s<br>Time: %{x:.0f} s<extra></extra>",
         "line": {
          "color": "rgba(255,0,0,0.3)"
         },
         "marker": {
          "color": "#C44E52"
         },
         "mode": "lines+markers",
         "name": "Fuel Used",
         "text": [
          "Extrapolated Start",
          "Idle/Taxi",
          "Take-Off",
          "Climb Out",
          "Cruise",
          "Descent",
          "Extrapolated End"
         ],
         "type": "scatter",
         "x": [
          0,
          150,
          315,
          780,
          3030,
          5430,
          6030
         ],
         "y": [
          -0.8072727272727273,
          0.12,
          1.14,
          0.65,
          0.95,
          0.34,
          0.18750000000000006
         ]
        }
       ],
       "layout": {
        "showlegend": true,
        "template": {
         "data": {
          "bar": [
           {
            "error_x": {
             "color": "rgb(36,36,36)"
            },
            "error_y": {
             "color": "rgb(36,36,36)"
            },
            "marker": {
             "line": {
              "color": "white",
              "width": 0.5
             },
             "pattern": {
              "fillmode": "overlay",
              "size": 10,
              "solidity": 0.2
             }
            },
            "type": "bar"
           }
          ],
          "barpolar": [
           {
            "marker": {
             "line": {
              "color": "white",
              "width": 0.5
             },
             "pattern": {
              "fillmode": "overlay",
              "size": 10,
              "solidity": 0.2
             }
            },
            "type": "barpolar"
           }
          ],
          "carpet": [
           {
            "aaxis": {
             "endlinecolor": "rgb(36,36,36)",
             "gridcolor": "white",
             "linecolor": "white",
             "minorgridcolor": "white",
             "startlinecolor": "rgb(36,36,36)"
            },
            "baxis": {
             "endlinecolor": "rgb(36,36,36)",
             "gridcolor": "white",
             "linecolor": "white",
             "minorgridcolor": "white",
             "startlinecolor": "rgb(36,36,36)"
            },
            "type": "carpet"
           }
          ],
          "choropleth": [
           {
            "colorbar": {
             "outlinewidth": 1,
             "tickcolor": "rgb(36,36,36)",
             "ticks": "outside"
            },
            "type": "choropleth"
           }
          ],
          "contour": [
           {
            "colorbar": {
             "outlinewidth": 1,
             "tickcolor": "rgb(36,36,36)",
             "ticks": "outside"
            },
            "colorscale": [
             [
              0,
              "#440154"
             ],
             [
              0.1111111111111111,
              "#482878"
             ],
             [
              0.2222222222222222,
              "#3e4989"
             ],
             [
              0.3333333333333333,
              "#31688e"
             ],
             [
              0.4444444444444444,
              "#26828e"
             ],
             [
              0.5555555555555556,
              "#1f9e89"
             ],
             [
              0.6666666666666666,
              "#35b779"
             ],
             [
              0.7777777777777778,
              "#6ece58"
             ],
             [
              0.8888888888888888,
              "#b5de2b"
             ],
             [
              1,
              "#fde725"
             ]
            ],
            "type": "contour"
           }
          ],
          "contourcarpet": [
           {
            "colorbar": {
             "outlinewidth": 1,
             "tickcolor": "rgb(36,36,36)",
             "ticks": "outside"
            },
            "type": "contourcarpet"
           }
          ],
          "heatmap": [
           {
            "colorbar": {
             "outlinewidth": 1,
             "tickcolor": "rgb(36,36,36)",
             "ticks": "outside"
            },
            "colorscale": [
             [
              0,
              "#440154"
             ],
             [
              0.1111111111111111,
              "#482878"
             ],
             [
              0.2222222222222222,
              "#3e4989"
             ],
             [
              0.3333333333333333,
              "#31688e"
             ],
             [
              0.4444444444444444,
              "#26828e"
             ],
             [
              0.5555555555555556,
              "#1f9e89"
             ],
             [
              0.6666666666666666,
              "#35b779"
             ],
             [
              0.7777777777777778,
              "#6ece58"
             ],
             [
              0.8888888888888888,
              "#b5de2b"
             ],
             [
              1,
              "#fde725"
             ]
            ],
            "type": "heatmap"
           }
          ],
          "histogram": [
           {
            "marker": {
             "line": {
              "color": "white",
              "width": 0.6
             }
            },
            "type": "histogram"
           }
          ],
          "histogram2d": [
           {
            "colorbar": {
             "outlinewidth": 1,
             "tickcolor": "rgb(36,36,36)",
             "ticks": "outside"
            },
            "colorscale": [
             [
              0,
              "#440154"
             ],
             [
              0.1111111111111111,
              "#482878"
             ],
             [
              0.2222222222222222,
              "#3e4989"
             ],
             [
              0.3333333333333333,
              "#31688e"
             ],
             [
              0.4444444444444444,
              "#26828e"
             ],
             [
              0.5555555555555556,
              "#1f9e89"
             ],
             [
              0.6666666666666666,
              "#35b779"
             ],
             [
              0.7777777777777778,
              "#6ece58"
             ],
             [
              0.8888888888888888,
              "#b5de2b"
             ],
             [
              1,
              "#fde725"
             ]
            ],
            "type": "histogram2d"
           }
          ],
          "histogram2dcontour": [
           {
            "colorbar": {
             "outlinewidth": 1,
             "tickcolor": "rgb(36,36,36)",
             "ticks": "outside"
            },
            "colorscale": [
             [
              0,
              "#440154"
             ],
             [
              0.1111111111111111,
              "#482878"
             ],
             [
              0.2222222222222222,
              "#3e4989"
             ],
             [
              0.3333333333333333,
              "#31688e"
             ],
             [
              0.4444444444444444,
              "#26828e"
             ],
             [
              0.5555555555555556,
              "#1f9e89"
             ],
             [
              0.6666666666666666,
              "#35b779"
             ],
             [
              0.7777777777777778,
              "#6ece58"
             ],
             [
              0.8888888888888888,
              "#b5de2b"
             ],
             [
              1,
              "#fde725"
             ]
            ],
            "type": "histogram2dcontour"
           }
          ],
          "mesh3d": [
           {
            "colorbar": {
             "outlinewidth": 1,
             "tickcolor": "rgb(36,36,36)",
             "ticks": "outside"
            },
            "type": "mesh3d"
           }
          ],
          "parcoords": [
           {
            "line": {
             "colorbar": {
              "outlinewidth": 1,
              "tickcolor": "rgb(36,36,36)",
              "ticks": "outside"
             }
            },
            "type": "parcoords"
           }
          ],
          "pie": [
           {
            "automargin": true,
            "type": "pie"
           }
          ],
          "scatter": [
           {
            "fillpattern": {
             "fillmode": "overlay",
             "size": 10,
             "solidity": 0.2
            },
            "type": "scatter"
           }
          ],
          "scatter3d": [
           {
            "line": {
             "colorbar": {
              "outlinewidth": 1,
              "tickcolor": "rgb(36,36,36)",
              "ticks": "outside"
             }
            },
            "marker": {
             "colorbar": {
              "outlinewidth": 1,
              "tickcolor": "rgb(36,36,36)",
              "ticks": "outside"
             }
            },
            "type": "scatter3d"
           }
          ],
          "scattercarpet": [
           {
            "marker": {
             "colorbar": {
              "outlinewidth": 1,
              "tickcolor": "rgb(36,36,36)",
              "ticks": "outside"
             }
            },
            "type": "scattercarpet"
           }
          ],
          "scattergeo": [
           {
            "marker": {
             "colorbar": {
              "outlinewidth": 1,
              "tickcolor": "rgb(36,36,36)",
              "ticks": "outside"
             }
            },
            "type": "scattergeo"
           }
          ],
          "scattergl": [
           {
            "marker": {
             "colorbar": {
              "outlinewidth": 1,
              "tickcolor": "rgb(36,36,36)",
              "ticks": "outside"
             }
            },
            "type": "scattergl"
           }
          ],
          "scattermap": [
           {
            "marker": {
             "colorbar": {
              "outlinewidth": 1,
              "tickcolor": "rgb(36,36,36)",
              "ticks": "outside"
             }
            },
            "type": "scattermap"
           }
          ],
          "scattermapbox": [
           {
            "marker": {
             "colorbar": {
              "outlinewidth": 1,
              "tickcolor": "rgb(36,36,36)",
              "ticks": "outside"
             }
            },
            "type": "scattermapbox"
           }
          ],
          "scatterpolar": [
           {
            "marker": {
             "colorbar": {
              "outlinewidth": 1,
              "tickcolor": "rgb(36,36,36)",
              "ticks": "outside"
             }
            },
            "type": "scatterpolar"
           }
          ],
          "scatterpolargl": [
           {
            "marker": {
             "colorbar": {
              "outlinewidth": 1,
              "tickcolor": "rgb(36,36,36)",
              "ticks": "outside"
             }
            },
            "type": "scatterpolargl"
           }
          ],
          "scatterternary": [
           {
            "marker": {
             "colorbar": {
              "outlinewidth": 1,
              "tickcolor": "rgb(36,36,36)",
              "ticks": "outside"
             }
            },
            "type": "scatterternary"
           }
          ],
          "surface": [
           {
            "colorbar": {
             "outlinewidth": 1,
             "tickcolor": "rgb(36,36,36)",
             "ticks": "outside"
            },
            "colorscale": [
             [
              0,
              "#440154"
             ],
             [
              0.1111111111111111,
              "#482878"
             ],
             [
              0.2222222222222222,
              "#3e4989"
             ],
             [
              0.3333333333333333,
              "#31688e"
             ],
             [
              0.4444444444444444,
              "#26828e"
             ],
             [
              0.5555555555555556,
              "#1f9e89"
             ],
             [
              0.6666666666666666,
              "#35b779"
             ],
             [
              0.7777777777777778,
              "#6ece58"
             ],
             [
              0.8888888888888888,
              "#b5de2b"
             ],
             [
              1,
              "#fde725"
             ]
            ],
            "type": "surface"
           }
          ],
          "table": [
           {
            "cells": {
             "fill": {
              "color": "rgb(237,237,237)"
             },
             "line": {
              "color": "white"
             }
            },
            "header": {
             "fill": {
              "color": "rgb(217,217,217)"
             },
             "line": {
              "color": "white"
             }
            },
            "type": "table"
           }
          ]
         },
         "layout": {
          "annotationdefaults": {
           "arrowhead": 0,
           "arrowwidth": 1
          },
          "autotypenumbers": "strict",
          "coloraxis": {
           "colorbar": {
            "outlinewidth": 1,
            "tickcolor": "rgb(36,36,36)",
            "ticks": "outside"
           }
          },
          "colorscale": {
           "diverging": [
            [
             0,
             "rgb(103,0,31)"
            ],
            [
             0.1,
             "rgb(178,24,43)"
            ],
            [
             0.2,
             "rgb(214,96,77)"
            ],
            [
             0.3,
             "rgb(244,165,130)"
            ],
            [
             0.4,
             "rgb(253,219,199)"
            ],
            [
             0.5,
             "rgb(247,247,247)"
            ],
            [
             0.6,
             "rgb(209,229,240)"
            ],
            [
             0.7,
             "rgb(146,197,222)"
            ],
            [
             0.8,
             "rgb(67,147,195)"
            ],
            [
             0.9,
             "rgb(33,102,172)"
            ],
            [
             1,
             "rgb(5,48,97)"
            ]
           ],
           "sequential": [
            [
             0,
             "#440154"
            ],
            [
             0.1111111111111111,
             "#482878"
            ],
            [
             0.2222222222222222,
             "#3e4989"
            ],
            [
             0.3333333333333333,
             "#31688e"
            ],
            [
             0.4444444444444444,
             "#26828e"
            ],
            [
             0.5555555555555556,
             "#1f9e89"
            ],
            [
             0.6666666666666666,
             "#35b779"
            ],
            [
             0.7777777777777778,
             "#6ece58"
            ],
            [
             0.8888888888888888,
             "#b5de2b"
            ],
            [
             1,
             "#fde725"
            ]
           ],
           "sequentialminus": [
            [
             0,
             "#440154"
            ],
            [
             0.1111111111111111,
             "#482878"
            ],
            [
             0.2222222222222222,
             "#3e4989"
            ],
            [
             0.3333333333333333,
             "#31688e"
            ],
            [
             0.4444444444444444,
             "#26828e"
            ],
            [
             0.5555555555555556,
             "#1f9e89"
            ],
            [
             0.6666666666666666,
             "#35b779"
            ],
            [
             0.7777777777777778,
             "#6ece58"
            ],
            [
             0.8888888888888888,
             "#b5de2b"
            ],
            [
             1,
             "#fde725"
            ]
           ]
          },
          "colorway": [
           "#1F77B4",
           "#FF7F0E",
           "#2CA02C",
           "#D62728",
           "#9467BD",
           "#8C564B",
           "#E377C2",
           "#7F7F7F",
           "#BCBD22",
           "#17BECF"
          ],
          "font": {
           "color": "rgb(36,36,36)"
          },
          "geo": {
           "bgcolor": "white",
           "lakecolor": "white",
           "landcolor": "white",
           "showlakes": true,
           "showland": true,
           "subunitcolor": "white"
          },
          "hoverlabel": {
           "align": "left"
          },
          "hovermode": "closest",
          "mapbox": {
           "style": "light"
          },
          "paper_bgcolor": "white",
          "plot_bgcolor": "white",
          "polar": {
           "angularaxis": {
            "gridcolor": "rgb(232,232,232)",
            "linecolor": "rgb(36,36,36)",
            "showgrid": false,
            "showline": true,
            "ticks": "outside"
           },
           "bgcolor": "white",
           "radialaxis": {
            "gridcolor": "rgb(232,232,232)",
            "linecolor": "rgb(36,36,36)",
            "showgrid": false,
            "showline": true,
            "ticks": "outside"
           }
          },
          "scene": {
           "xaxis": {
            "backgroundcolor": "white",
            "gridcolor": "rgb(232,232,232)",
            "gridwidth": 2,
            "linecolor": "rgb(36,36,36)",
            "showbackground": true,
            "showgrid": false,
            "showline": true,
            "ticks": "outside",
            "zeroline": false,
            "zerolinecolor": "rgb(36,36,36)"
           },
           "yaxis": {
            "backgroundcolor": "white",
            "gridcolor": "rgb(232,232,232)",
            "gridwidth": 2,
            "linecolor": "rgb(36,36,36)",
            "showbackground": true,
            "showgrid": false,
            "showline": true,
            "ticks": "outside",
            "zeroline": false,
            "zerolinecolor": "rgb(36,36,36)"
           },
           "zaxis": {
            "backgroundcolor": "white",
            "gridcolor": "rgb(232,232,232)",
            "gridwidth": 2,
            "linecolor": "rgb(36,36,36)",
            "showbackground": true,
            "showgrid": false,
            "showline": true,
            "ticks": "outside",
            "zeroline": false,
            "zerolinecolor": "rgb(36,36,36)"
           }
          },
          "shapedefaults": {
           "fillcolor": "black",
           "line": {
            "width": 0
           },
           "opacity": 0.3
          },
          "ternary": {
           "aaxis": {
            "gridcolor": "rgb(232,232,232)",
            "linecolor": "rgb(36,36,36)",
            "showgrid": false,
            "showline": true,
            "ticks": "outside"
           },
           "baxis": {
            "gridcolor": "rgb(232,232,232)",
            "linecolor": "rgb(36,36,36)",
            "showgrid": false,
            "showline": true,
            "ticks": "outside"
           },
           "bgcolor": "white",
           "caxis": {
            "gridcolor": "rgb(232,232,232)",
            "linecolor": "rgb(36,36,36)",
            "showgrid": false,
            "showline": true,
            "ticks": "outside"
           }
          },
          "title": {
           "x": 0.05
          },
          "xaxis": {
           "automargin": true,
           "gridcolor": "rgb(232,232,232)",
           "linecolor": "rgb(36,36,36)",
           "showgrid": false,
           "showline": true,
           "ticks": "outside",
           "title": {
            "standoff": 15
           },
           "zeroline": false,
           "zerolinecolor": "rgb(36,36,36)"
          },
          "yaxis": {
           "automargin": true,
           "gridcolor": "rgb(232,232,232)",
           "linecolor": "rgb(36,36,36)",
           "showgrid": false,
           "showline": true,
           "ticks": "outside",
           "title": {
            "standoff": 15
           },
           "zeroline": false,
           "zerolinecolor": "rgb(36,36,36)"
          }
         }
        },
        "title": {
         "text": "<b>Fuel Flow (kg/s) over Time (s)</b><br><sup>Midpoints used for phase-level fuel flow; slope extended to span full mission time</sup>"
        },
        "xaxis": {
         "gridcolor": "lightgrey",
         "gridwidth": 1,
         "showgrid": true,
         "title": {
          "text": "Time (s)"
         }
        },
        "yaxis": {
         "gridcolor": "lightgrey",
         "gridwidth": 1,
         "showgrid": true,
         "title": {
          "text": "Fuel Flow (kg/s)"
         }
        }
       }
      }
     },
     "metadata": {},
     "output_type": "display_data"
    }
   ],
   "source": [
    "import plotly.graph_objects as go\n",
    "import pandas as pd\n",
    "\n",
    "# Load and prepare data\n",
    "summary_df = pd.read_csv(\"output/emissions/summary.csv\")\n",
    "phases_df = summary_df[summary_df['Phase'] != 'Total'].copy()\n",
    "\n",
    "# Compute time points\n",
    "phases_df['Start Time (s)'] = phases_df['Duration (s)'].cumsum() - phases_df['Duration (s)']\n",
    "phases_df['End Time (s)'] = phases_df['Duration (s)'].cumsum()\n",
    "phases_df['Mid Time (s)'] = (phases_df['Start Time (s)'] + phases_df['End Time (s)']) / 2\n",
    "\n",
    "# Extrapolate first and last slopes\n",
    "first_mid = phases_df['Mid Time (s)'].iloc[0]\n",
    "second_mid = phases_df['Mid Time (s)'].iloc[1]\n",
    "first_flow = phases_df['Fuel Flow (kg/s)'].iloc[0]\n",
    "second_flow = phases_df['Fuel Flow (kg/s)'].iloc[1]\n",
    "\n",
    "last_mid = phases_df['Mid Time (s)'].iloc[-1]\n",
    "second_last_mid = phases_df['Mid Time (s)'].iloc[-2]\n",
    "last_flow = phases_df['Fuel Flow (kg/s)'].iloc[-1]\n",
    "second_last_flow = phases_df['Fuel Flow (kg/s)'].iloc[-2]\n",
    "\n",
    "start_time = phases_df['Start Time (s)'].iloc[0]\n",
    "end_time = phases_df['End Time (s)'].iloc[-1]\n",
    "\n",
    "# Calculate slopes and extrapolate\n",
    "slope_start = (second_flow - first_flow) / (second_mid - first_mid)\n",
    "extrapolated_start_flow = first_flow - slope_start * (first_mid - start_time)\n",
    "\n",
    "slope_end = (last_flow - second_last_flow) / (last_mid - second_last_mid)\n",
    "extrapolated_end_flow = last_flow + slope_end * (end_time - last_mid)\n",
    "\n",
    "# Prepare extended x and y\n",
    "x_extended = [start_time] + phases_df['Mid Time (s)'].tolist() + [end_time]\n",
    "y_extended = [extrapolated_start_flow] + phases_df['Fuel Flow (kg/s)'].tolist() + [extrapolated_end_flow]\n",
    "\n",
    "# Create plot\n",
    "fig = go.Figure()\n",
    "\n",
    "fig.add_trace(go.Scatter(\n",
    "    x=x_extended,\n",
    "    y=y_extended,\n",
    "    mode='lines+markers',\n",
    "    fill='tozeroy',\n",
    "    name='Fuel Used',\n",
    "    line=dict(color='rgba(255,0,0,0.3)'),\n",
    "    marker=dict(color=\"#C44E52\"),\n",
    "    text=[\"Extrapolated Start\"] + phases_df['Phase'].tolist() + [\"Extrapolated End\"],\n",
    "    hovertemplate=\"Fuel Flow: %{y:.2f} kg/s<br>Time: %{x:.0f} s<extra></extra>\"\n",
    "))\n",
    "\n",
    "fig.update_layout(\n",
    "    xaxis_title='Time (s)',\n",
    "    yaxis_title='Fuel Flow (kg/s)',\n",
    "    title='<b>Fuel Flow (kg/s) over Time (s)</b><br><sup>Midpoints used for phase-level fuel flow; slope extended to span full mission time</sup>',\n",
    "    template='simple_white',\n",
    "    showlegend=True,\n",
    "    xaxis=dict(showgrid=True, gridwidth=1, gridcolor='lightgrey'),\n",
    "    yaxis=dict(showgrid=True, gridwidth=1, gridcolor='lightgrey')\n",
    ")\n",
    "\n",
    "fig.show()\n"
   ]
  },
  {
   "cell_type": "code",
   "execution_count": 367,
   "id": "3bdbb2de",
   "metadata": {},
   "outputs": [
    {
     "data": {
      "application/vnd.plotly.v1+json": {
       "config": {
        "plotlyServerURL": "https://plot.ly"
       },
       "data": [
        {
         "hovertemplate": "Fuel Flow: %{y:.2f} kg/s<br>Time: %{x:.0f} s<extra></extra>",
         "line": {
          "color": "rgba(255,0,0,0.3)"
         },
         "marker": {
          "color": "#C44E52"
         },
         "mode": "lines+markers",
         "name": "Fuel Flow (kg/s)",
         "text": [
          "Flat Start",
          "Idle/Taxi",
          "Take-Off",
          "Climb Out",
          "Cruise",
          "Descent",
          "Flat End"
         ],
         "type": "scatter",
         "x": [
          0,
          150,
          315,
          780,
          3030,
          5430,
          6030
         ],
         "y": [
          0.12,
          0.12,
          1.14,
          0.65,
          0.95,
          0.34,
          0.34
         ]
        },
        {
         "fill": "tozeroy",
         "hovertemplate": "Fuel Flow: %{y:.2f} kg/s<br>Phase: %{text} s<extra></extra>",
         "line": {
          "color": "rgba(255,0,0,0.3)"
         },
         "marker": {
          "color": "#C44E52"
         },
         "mode": "lines",
         "name": "Fuel Used (kg)",
         "text": [
          "Flat Start",
          "Idle/Taxi",
          "Take-Off",
          "Climb Out",
          "Cruise",
          "Descent",
          "Flat End"
         ],
         "type": "scatter",
         "x": [
          0,
          150,
          315,
          780,
          3030,
          5430,
          6030
         ],
         "y": [
          0.12,
          0.12,
          1.14,
          0.65,
          0.95,
          0.34,
          0.34
         ]
        }
       ],
       "layout": {
        "showlegend": true,
        "template": {
         "data": {
          "bar": [
           {
            "error_x": {
             "color": "rgb(36,36,36)"
            },
            "error_y": {
             "color": "rgb(36,36,36)"
            },
            "marker": {
             "line": {
              "color": "white",
              "width": 0.5
             },
             "pattern": {
              "fillmode": "overlay",
              "size": 10,
              "solidity": 0.2
             }
            },
            "type": "bar"
           }
          ],
          "barpolar": [
           {
            "marker": {
             "line": {
              "color": "white",
              "width": 0.5
             },
             "pattern": {
              "fillmode": "overlay",
              "size": 10,
              "solidity": 0.2
             }
            },
            "type": "barpolar"
           }
          ],
          "carpet": [
           {
            "aaxis": {
             "endlinecolor": "rgb(36,36,36)",
             "gridcolor": "white",
             "linecolor": "white",
             "minorgridcolor": "white",
             "startlinecolor": "rgb(36,36,36)"
            },
            "baxis": {
             "endlinecolor": "rgb(36,36,36)",
             "gridcolor": "white",
             "linecolor": "white",
             "minorgridcolor": "white",
             "startlinecolor": "rgb(36,36,36)"
            },
            "type": "carpet"
           }
          ],
          "choropleth": [
           {
            "colorbar": {
             "outlinewidth": 1,
             "tickcolor": "rgb(36,36,36)",
             "ticks": "outside"
            },
            "type": "choropleth"
           }
          ],
          "contour": [
           {
            "colorbar": {
             "outlinewidth": 1,
             "tickcolor": "rgb(36,36,36)",
             "ticks": "outside"
            },
            "colorscale": [
             [
              0,
              "#440154"
             ],
             [
              0.1111111111111111,
              "#482878"
             ],
             [
              0.2222222222222222,
              "#3e4989"
             ],
             [
              0.3333333333333333,
              "#31688e"
             ],
             [
              0.4444444444444444,
              "#26828e"
             ],
             [
              0.5555555555555556,
              "#1f9e89"
             ],
             [
              0.6666666666666666,
              "#35b779"
             ],
             [
              0.7777777777777778,
              "#6ece58"
             ],
             [
              0.8888888888888888,
              "#b5de2b"
             ],
             [
              1,
              "#fde725"
             ]
            ],
            "type": "contour"
           }
          ],
          "contourcarpet": [
           {
            "colorbar": {
             "outlinewidth": 1,
             "tickcolor": "rgb(36,36,36)",
             "ticks": "outside"
            },
            "type": "contourcarpet"
           }
          ],
          "heatmap": [
           {
            "colorbar": {
             "outlinewidth": 1,
             "tickcolor": "rgb(36,36,36)",
             "ticks": "outside"
            },
            "colorscale": [
             [
              0,
              "#440154"
             ],
             [
              0.1111111111111111,
              "#482878"
             ],
             [
              0.2222222222222222,
              "#3e4989"
             ],
             [
              0.3333333333333333,
              "#31688e"
             ],
             [
              0.4444444444444444,
              "#26828e"
             ],
             [
              0.5555555555555556,
              "#1f9e89"
             ],
             [
              0.6666666666666666,
              "#35b779"
             ],
             [
              0.7777777777777778,
              "#6ece58"
             ],
             [
              0.8888888888888888,
              "#b5de2b"
             ],
             [
              1,
              "#fde725"
             ]
            ],
            "type": "heatmap"
           }
          ],
          "histogram": [
           {
            "marker": {
             "line": {
              "color": "white",
              "width": 0.6
             }
            },
            "type": "histogram"
           }
          ],
          "histogram2d": [
           {
            "colorbar": {
             "outlinewidth": 1,
             "tickcolor": "rgb(36,36,36)",
             "ticks": "outside"
            },
            "colorscale": [
             [
              0,
              "#440154"
             ],
             [
              0.1111111111111111,
              "#482878"
             ],
             [
              0.2222222222222222,
              "#3e4989"
             ],
             [
              0.3333333333333333,
              "#31688e"
             ],
             [
              0.4444444444444444,
              "#26828e"
             ],
             [
              0.5555555555555556,
              "#1f9e89"
             ],
             [
              0.6666666666666666,
              "#35b779"
             ],
             [
              0.7777777777777778,
              "#6ece58"
             ],
             [
              0.8888888888888888,
              "#b5de2b"
             ],
             [
              1,
              "#fde725"
             ]
            ],
            "type": "histogram2d"
           }
          ],
          "histogram2dcontour": [
           {
            "colorbar": {
             "outlinewidth": 1,
             "tickcolor": "rgb(36,36,36)",
             "ticks": "outside"
            },
            "colorscale": [
             [
              0,
              "#440154"
             ],
             [
              0.1111111111111111,
              "#482878"
             ],
             [
              0.2222222222222222,
              "#3e4989"
             ],
             [
              0.3333333333333333,
              "#31688e"
             ],
             [
              0.4444444444444444,
              "#26828e"
             ],
             [
              0.5555555555555556,
              "#1f9e89"
             ],
             [
              0.6666666666666666,
              "#35b779"
             ],
             [
              0.7777777777777778,
              "#6ece58"
             ],
             [
              0.8888888888888888,
              "#b5de2b"
             ],
             [
              1,
              "#fde725"
             ]
            ],
            "type": "histogram2dcontour"
           }
          ],
          "mesh3d": [
           {
            "colorbar": {
             "outlinewidth": 1,
             "tickcolor": "rgb(36,36,36)",
             "ticks": "outside"
            },
            "type": "mesh3d"
           }
          ],
          "parcoords": [
           {
            "line": {
             "colorbar": {
              "outlinewidth": 1,
              "tickcolor": "rgb(36,36,36)",
              "ticks": "outside"
             }
            },
            "type": "parcoords"
           }
          ],
          "pie": [
           {
            "automargin": true,
            "type": "pie"
           }
          ],
          "scatter": [
           {
            "fillpattern": {
             "fillmode": "overlay",
             "size": 10,
             "solidity": 0.2
            },
            "type": "scatter"
           }
          ],
          "scatter3d": [
           {
            "line": {
             "colorbar": {
              "outlinewidth": 1,
              "tickcolor": "rgb(36,36,36)",
              "ticks": "outside"
             }
            },
            "marker": {
             "colorbar": {
              "outlinewidth": 1,
              "tickcolor": "rgb(36,36,36)",
              "ticks": "outside"
             }
            },
            "type": "scatter3d"
           }
          ],
          "scattercarpet": [
           {
            "marker": {
             "colorbar": {
              "outlinewidth": 1,
              "tickcolor": "rgb(36,36,36)",
              "ticks": "outside"
             }
            },
            "type": "scattercarpet"
           }
          ],
          "scattergeo": [
           {
            "marker": {
             "colorbar": {
              "outlinewidth": 1,
              "tickcolor": "rgb(36,36,36)",
              "ticks": "outside"
             }
            },
            "type": "scattergeo"
           }
          ],
          "scattergl": [
           {
            "marker": {
             "colorbar": {
              "outlinewidth": 1,
              "tickcolor": "rgb(36,36,36)",
              "ticks": "outside"
             }
            },
            "type": "scattergl"
           }
          ],
          "scattermap": [
           {
            "marker": {
             "colorbar": {
              "outlinewidth": 1,
              "tickcolor": "rgb(36,36,36)",
              "ticks": "outside"
             }
            },
            "type": "scattermap"
           }
          ],
          "scattermapbox": [
           {
            "marker": {
             "colorbar": {
              "outlinewidth": 1,
              "tickcolor": "rgb(36,36,36)",
              "ticks": "outside"
             }
            },
            "type": "scattermapbox"
           }
          ],
          "scatterpolar": [
           {
            "marker": {
             "colorbar": {
              "outlinewidth": 1,
              "tickcolor": "rgb(36,36,36)",
              "ticks": "outside"
             }
            },
            "type": "scatterpolar"
           }
          ],
          "scatterpolargl": [
           {
            "marker": {
             "colorbar": {
              "outlinewidth": 1,
              "tickcolor": "rgb(36,36,36)",
              "ticks": "outside"
             }
            },
            "type": "scatterpolargl"
           }
          ],
          "scatterternary": [
           {
            "marker": {
             "colorbar": {
              "outlinewidth": 1,
              "tickcolor": "rgb(36,36,36)",
              "ticks": "outside"
             }
            },
            "type": "scatterternary"
           }
          ],
          "surface": [
           {
            "colorbar": {
             "outlinewidth": 1,
             "tickcolor": "rgb(36,36,36)",
             "ticks": "outside"
            },
            "colorscale": [
             [
              0,
              "#440154"
             ],
             [
              0.1111111111111111,
              "#482878"
             ],
             [
              0.2222222222222222,
              "#3e4989"
             ],
             [
              0.3333333333333333,
              "#31688e"
             ],
             [
              0.4444444444444444,
              "#26828e"
             ],
             [
              0.5555555555555556,
              "#1f9e89"
             ],
             [
              0.6666666666666666,
              "#35b779"
             ],
             [
              0.7777777777777778,
              "#6ece58"
             ],
             [
              0.8888888888888888,
              "#b5de2b"
             ],
             [
              1,
              "#fde725"
             ]
            ],
            "type": "surface"
           }
          ],
          "table": [
           {
            "cells": {
             "fill": {
              "color": "rgb(237,237,237)"
             },
             "line": {
              "color": "white"
             }
            },
            "header": {
             "fill": {
              "color": "rgb(217,217,217)"
             },
             "line": {
              "color": "white"
             }
            },
            "type": "table"
           }
          ]
         },
         "layout": {
          "annotationdefaults": {
           "arrowhead": 0,
           "arrowwidth": 1
          },
          "autotypenumbers": "strict",
          "coloraxis": {
           "colorbar": {
            "outlinewidth": 1,
            "tickcolor": "rgb(36,36,36)",
            "ticks": "outside"
           }
          },
          "colorscale": {
           "diverging": [
            [
             0,
             "rgb(103,0,31)"
            ],
            [
             0.1,
             "rgb(178,24,43)"
            ],
            [
             0.2,
             "rgb(214,96,77)"
            ],
            [
             0.3,
             "rgb(244,165,130)"
            ],
            [
             0.4,
             "rgb(253,219,199)"
            ],
            [
             0.5,
             "rgb(247,247,247)"
            ],
            [
             0.6,
             "rgb(209,229,240)"
            ],
            [
             0.7,
             "rgb(146,197,222)"
            ],
            [
             0.8,
             "rgb(67,147,195)"
            ],
            [
             0.9,
             "rgb(33,102,172)"
            ],
            [
             1,
             "rgb(5,48,97)"
            ]
           ],
           "sequential": [
            [
             0,
             "#440154"
            ],
            [
             0.1111111111111111,
             "#482878"
            ],
            [
             0.2222222222222222,
             "#3e4989"
            ],
            [
             0.3333333333333333,
             "#31688e"
            ],
            [
             0.4444444444444444,
             "#26828e"
            ],
            [
             0.5555555555555556,
             "#1f9e89"
            ],
            [
             0.6666666666666666,
             "#35b779"
            ],
            [
             0.7777777777777778,
             "#6ece58"
            ],
            [
             0.8888888888888888,
             "#b5de2b"
            ],
            [
             1,
             "#fde725"
            ]
           ],
           "sequentialminus": [
            [
             0,
             "#440154"
            ],
            [
             0.1111111111111111,
             "#482878"
            ],
            [
             0.2222222222222222,
             "#3e4989"
            ],
            [
             0.3333333333333333,
             "#31688e"
            ],
            [
             0.4444444444444444,
             "#26828e"
            ],
            [
             0.5555555555555556,
             "#1f9e89"
            ],
            [
             0.6666666666666666,
             "#35b779"
            ],
            [
             0.7777777777777778,
             "#6ece58"
            ],
            [
             0.8888888888888888,
             "#b5de2b"
            ],
            [
             1,
             "#fde725"
            ]
           ]
          },
          "colorway": [
           "#1F77B4",
           "#FF7F0E",
           "#2CA02C",
           "#D62728",
           "#9467BD",
           "#8C564B",
           "#E377C2",
           "#7F7F7F",
           "#BCBD22",
           "#17BECF"
          ],
          "font": {
           "color": "rgb(36,36,36)"
          },
          "geo": {
           "bgcolor": "white",
           "lakecolor": "white",
           "landcolor": "white",
           "showlakes": true,
           "showland": true,
           "subunitcolor": "white"
          },
          "hoverlabel": {
           "align": "left"
          },
          "hovermode": "closest",
          "mapbox": {
           "style": "light"
          },
          "paper_bgcolor": "white",
          "plot_bgcolor": "white",
          "polar": {
           "angularaxis": {
            "gridcolor": "rgb(232,232,232)",
            "linecolor": "rgb(36,36,36)",
            "showgrid": false,
            "showline": true,
            "ticks": "outside"
           },
           "bgcolor": "white",
           "radialaxis": {
            "gridcolor": "rgb(232,232,232)",
            "linecolor": "rgb(36,36,36)",
            "showgrid": false,
            "showline": true,
            "ticks": "outside"
           }
          },
          "scene": {
           "xaxis": {
            "backgroundcolor": "white",
            "gridcolor": "rgb(232,232,232)",
            "gridwidth": 2,
            "linecolor": "rgb(36,36,36)",
            "showbackground": true,
            "showgrid": false,
            "showline": true,
            "ticks": "outside",
            "zeroline": false,
            "zerolinecolor": "rgb(36,36,36)"
           },
           "yaxis": {
            "backgroundcolor": "white",
            "gridcolor": "rgb(232,232,232)",
            "gridwidth": 2,
            "linecolor": "rgb(36,36,36)",
            "showbackground": true,
            "showgrid": false,
            "showline": true,
            "ticks": "outside",
            "zeroline": false,
            "zerolinecolor": "rgb(36,36,36)"
           },
           "zaxis": {
            "backgroundcolor": "white",
            "gridcolor": "rgb(232,232,232)",
            "gridwidth": 2,
            "linecolor": "rgb(36,36,36)",
            "showbackground": true,
            "showgrid": false,
            "showline": true,
            "ticks": "outside",
            "zeroline": false,
            "zerolinecolor": "rgb(36,36,36)"
           }
          },
          "shapedefaults": {
           "fillcolor": "black",
           "line": {
            "width": 0
           },
           "opacity": 0.3
          },
          "ternary": {
           "aaxis": {
            "gridcolor": "rgb(232,232,232)",
            "linecolor": "rgb(36,36,36)",
            "showgrid": false,
            "showline": true,
            "ticks": "outside"
           },
           "baxis": {
            "gridcolor": "rgb(232,232,232)",
            "linecolor": "rgb(36,36,36)",
            "showgrid": false,
            "showline": true,
            "ticks": "outside"
           },
           "bgcolor": "white",
           "caxis": {
            "gridcolor": "rgb(232,232,232)",
            "linecolor": "rgb(36,36,36)",
            "showgrid": false,
            "showline": true,
            "ticks": "outside"
           }
          },
          "title": {
           "x": 0.05
          },
          "xaxis": {
           "automargin": true,
           "gridcolor": "rgb(232,232,232)",
           "linecolor": "rgb(36,36,36)",
           "showgrid": false,
           "showline": true,
           "ticks": "outside",
           "title": {
            "standoff": 15
           },
           "zeroline": false,
           "zerolinecolor": "rgb(36,36,36)"
          },
          "yaxis": {
           "automargin": true,
           "gridcolor": "rgb(232,232,232)",
           "linecolor": "rgb(36,36,36)",
           "showgrid": false,
           "showline": true,
           "ticks": "outside",
           "title": {
            "standoff": 15
           },
           "zeroline": false,
           "zerolinecolor": "rgb(36,36,36)"
          }
         }
        },
        "title": {
         "text": "<b>Fuel Flow (kg/s) over Time (s)</b><br><sup>Midpoints used for phase-level fuel flow; extended flat to full mission time</sup>"
        },
        "xaxis": {
         "gridcolor": "lightgrey",
         "gridwidth": 1,
         "range": [
          0,
          6030
         ],
         "showgrid": true,
         "title": {
          "text": "Time (s)"
         }
        },
        "yaxis": {
         "gridcolor": "lightgrey",
         "gridwidth": 1,
         "showgrid": true,
         "title": {
          "text": "Fuel Flow (kg/s)"
         }
        }
       }
      }
     },
     "metadata": {},
     "output_type": "display_data"
    }
   ],
   "source": [
    "import plotly.graph_objects as go\n",
    "import pandas as pd\n",
    "\n",
    "# Load your emission summary CSV\n",
    "summary_df = pd.read_csv(\"output/emissions/summary.csv\")\n",
    "phases_df = summary_df[summary_df['Phase'] != 'Total'].copy()\n",
    "\n",
    "# Compute key time points\n",
    "phases_df['Start Time (s)'] = phases_df['Duration (s)'].cumsum() - phases_df['Duration (s)']\n",
    "phases_df['End Time (s)'] = phases_df['Duration (s)'].cumsum()\n",
    "phases_df['Mid Time (s)'] = (phases_df['Start Time (s)'] + phases_df['End Time (s)']) / 2\n",
    "\n",
    "# Get values for flat extrapolation\n",
    "start_time = phases_df['Start Time (s)'].iloc[0]\n",
    "end_time = phases_df['End Time (s)'].iloc[-1]\n",
    "first_flow = phases_df['Fuel Flow (kg/s)'].iloc[0]\n",
    "last_flow = phases_df['Fuel Flow (kg/s)'].iloc[-1]\n",
    "\n",
    "# Construct extended x and y\n",
    "x_extended = [start_time] + phases_df['Mid Time (s)'].tolist() + [end_time]\n",
    "y_extended = [first_flow] + phases_df['Fuel Flow (kg/s)'].tolist() + [last_flow]\n",
    "\n",
    "# Plot with filled area\n",
    "fig = go.Figure()\n",
    "\n",
    "\n",
    "fig.add_trace(go.Scatter(\n",
    "    x=x_extended,\n",
    "    y=y_extended,\n",
    "    mode='lines+markers',\n",
    "    name='Fuel Flow (kg/s)',\n",
    "    line=dict(color='rgba(255,0,0,0.3)'),\n",
    "    marker=dict(color=\"#C44E52\"),\n",
    "    text=[\"Flat Start\"] + phases_df['Phase'].tolist() + [\"Flat End\"],\n",
    "    hovertemplate=\"Fuel Flow: %{y:.2f} kg/s<br>Time: %{x:.0f} s<extra></extra>\"\n",
    "))\n",
    "\n",
    "fig.add_trace(go.Scatter(\n",
    "    x=x_extended,\n",
    "    y=y_extended,\n",
    "    mode='lines',\n",
    "    fill='tozeroy',\n",
    "    name='Fuel Used (kg)',\n",
    "    line=dict(color='rgba(255,0,0,0.3)'),\n",
    "    marker=dict(color=\"#C44E52\"),\n",
    "    text=[\"Flat Start\"] + phases_df['Phase'].tolist() + [\"Flat End\"],\n",
    "    hovertemplate=\"Fuel Flow: %{y:.2f} kg/s<br>Phase: %{text} s<extra></extra>\"\n",
    "))\n",
    "\n",
    "fig.update_layout(\n",
    "    xaxis_title='Time (s)',\n",
    "    yaxis_title='Fuel Flow (kg/s)',\n",
    "    title='<b>Fuel Flow (kg/s) over Time (s)</b><br><sup>Midpoints used for phase-level fuel flow; extended flat to full mission time</sup>',\n",
    "    template='simple_white',\n",
    "    showlegend=True,\n",
    "    xaxis=dict(\n",
    "        showgrid=True,\n",
    "        gridwidth=1,\n",
    "        gridcolor='lightgrey',\n",
    "        range=[0 , x_extended[-1]]\n",
    "    ),\n",
    "    yaxis=dict(\n",
    "        showgrid=True, \n",
    "        gridwidth=1, \n",
    "        gridcolor='lightgrey'\n",
    "    )\n",
    ")\n",
    "\n",
    "fig.show()\n"
   ]
  },
  {
   "cell_type": "code",
   "execution_count": 395,
   "id": "c2e8c478",
   "metadata": {},
   "outputs": [
    {
     "data": {
      "application/vnd.plotly.v1+json": {
       "config": {
        "plotlyServerURL": "https://plot.ly"
       },
       "data": [
        {
         "hovertemplate": "NOx Emitted: %{y:.2f} g<br>Time: %{x:.0f} s<br>Phase: %{text}<extra></extra>",
         "line": {
          "color": "#E69F00"
         },
         "marker": {
          "color": "#E69F00"
         },
         "mode": "lines+markers",
         "name": "NOx Emitted (g)",
         "text": [
          "Flat Start",
          "Idle/Taxi",
          "Take-Off",
          "Climb Out",
          "Cruise",
          "Descent",
          "Flat End"
         ],
         "type": "scatter",
         "x": [
          0,
          150,
          315,
          780,
          3030,
          5430,
          6030
         ],
         "y": [
          140.4,
          140.4,
          629.28,
          7897.5,
          46512,
          2652,
          2652
         ]
        },
        {
         "hovertemplate": "NOx Emitted: %{y:.2f} g<br>Time: %{x:.0f} s<br>Phase: %{text}<extra></extra>",
         "line": {
          "color": "#56B4E9"
         },
         "marker": {
          "color": "#56B4E9"
         },
         "mode": "lines+markers",
         "name": "CO Emitted (g)",
         "text": [
          "Flat Start",
          "Idle/Taxi",
          "Take-Off",
          "Climb Out",
          "Cruise",
          "Descent",
          "Flat End"
         ],
         "type": "scatter",
         "x": [
          0,
          150,
          315,
          780,
          3030,
          5430,
          6030
         ],
         "y": [
          1443.6,
          1443.6,
          47.88,
          585,
          12312,
          11872.8,
          11872.8
         ]
        },
        {
         "hovertemplate": "NOx Emitted: %{y:.2f} g<br>Time: %{x:.0f} s<br>Phase: %{text}<extra></extra>",
         "line": {
          "color": "#009E73"
         },
         "marker": {
          "color": "#009E73"
         },
         "mode": "lines+markers",
         "name": "HC Emitted (g)",
         "text": [
          "Flat Start",
          "Idle/Taxi",
          "Take-Off",
          "Climb Out",
          "Cruise",
          "Descent",
          "Flat End"
         ],
         "type": "scatter",
         "x": [
          0,
          150,
          315,
          780,
          3030,
          5430,
          6030
         ],
         "y": [
          129.6,
          129.6,
          3.42,
          117,
          684,
          2162.4,
          2162.4
         ]
        }
       ],
       "layout": {
        "showlegend": true,
        "template": {
         "data": {
          "bar": [
           {
            "error_x": {
             "color": "rgb(36,36,36)"
            },
            "error_y": {
             "color": "rgb(36,36,36)"
            },
            "marker": {
             "line": {
              "color": "white",
              "width": 0.5
             },
             "pattern": {
              "fillmode": "overlay",
              "size": 10,
              "solidity": 0.2
             }
            },
            "type": "bar"
           }
          ],
          "barpolar": [
           {
            "marker": {
             "line": {
              "color": "white",
              "width": 0.5
             },
             "pattern": {
              "fillmode": "overlay",
              "size": 10,
              "solidity": 0.2
             }
            },
            "type": "barpolar"
           }
          ],
          "carpet": [
           {
            "aaxis": {
             "endlinecolor": "rgb(36,36,36)",
             "gridcolor": "white",
             "linecolor": "white",
             "minorgridcolor": "white",
             "startlinecolor": "rgb(36,36,36)"
            },
            "baxis": {
             "endlinecolor": "rgb(36,36,36)",
             "gridcolor": "white",
             "linecolor": "white",
             "minorgridcolor": "white",
             "startlinecolor": "rgb(36,36,36)"
            },
            "type": "carpet"
           }
          ],
          "choropleth": [
           {
            "colorbar": {
             "outlinewidth": 1,
             "tickcolor": "rgb(36,36,36)",
             "ticks": "outside"
            },
            "type": "choropleth"
           }
          ],
          "contour": [
           {
            "colorbar": {
             "outlinewidth": 1,
             "tickcolor": "rgb(36,36,36)",
             "ticks": "outside"
            },
            "colorscale": [
             [
              0,
              "#440154"
             ],
             [
              0.1111111111111111,
              "#482878"
             ],
             [
              0.2222222222222222,
              "#3e4989"
             ],
             [
              0.3333333333333333,
              "#31688e"
             ],
             [
              0.4444444444444444,
              "#26828e"
             ],
             [
              0.5555555555555556,
              "#1f9e89"
             ],
             [
              0.6666666666666666,
              "#35b779"
             ],
             [
              0.7777777777777778,
              "#6ece58"
             ],
             [
              0.8888888888888888,
              "#b5de2b"
             ],
             [
              1,
              "#fde725"
             ]
            ],
            "type": "contour"
           }
          ],
          "contourcarpet": [
           {
            "colorbar": {
             "outlinewidth": 1,
             "tickcolor": "rgb(36,36,36)",
             "ticks": "outside"
            },
            "type": "contourcarpet"
           }
          ],
          "heatmap": [
           {
            "colorbar": {
             "outlinewidth": 1,
             "tickcolor": "rgb(36,36,36)",
             "ticks": "outside"
            },
            "colorscale": [
             [
              0,
              "#440154"
             ],
             [
              0.1111111111111111,
              "#482878"
             ],
             [
              0.2222222222222222,
              "#3e4989"
             ],
             [
              0.3333333333333333,
              "#31688e"
             ],
             [
              0.4444444444444444,
              "#26828e"
             ],
             [
              0.5555555555555556,
              "#1f9e89"
             ],
             [
              0.6666666666666666,
              "#35b779"
             ],
             [
              0.7777777777777778,
              "#6ece58"
             ],
             [
              0.8888888888888888,
              "#b5de2b"
             ],
             [
              1,
              "#fde725"
             ]
            ],
            "type": "heatmap"
           }
          ],
          "histogram": [
           {
            "marker": {
             "line": {
              "color": "white",
              "width": 0.6
             }
            },
            "type": "histogram"
           }
          ],
          "histogram2d": [
           {
            "colorbar": {
             "outlinewidth": 1,
             "tickcolor": "rgb(36,36,36)",
             "ticks": "outside"
            },
            "colorscale": [
             [
              0,
              "#440154"
             ],
             [
              0.1111111111111111,
              "#482878"
             ],
             [
              0.2222222222222222,
              "#3e4989"
             ],
             [
              0.3333333333333333,
              "#31688e"
             ],
             [
              0.4444444444444444,
              "#26828e"
             ],
             [
              0.5555555555555556,
              "#1f9e89"
             ],
             [
              0.6666666666666666,
              "#35b779"
             ],
             [
              0.7777777777777778,
              "#6ece58"
             ],
             [
              0.8888888888888888,
              "#b5de2b"
             ],
             [
              1,
              "#fde725"
             ]
            ],
            "type": "histogram2d"
           }
          ],
          "histogram2dcontour": [
           {
            "colorbar": {
             "outlinewidth": 1,
             "tickcolor": "rgb(36,36,36)",
             "ticks": "outside"
            },
            "colorscale": [
             [
              0,
              "#440154"
             ],
             [
              0.1111111111111111,
              "#482878"
             ],
             [
              0.2222222222222222,
              "#3e4989"
             ],
             [
              0.3333333333333333,
              "#31688e"
             ],
             [
              0.4444444444444444,
              "#26828e"
             ],
             [
              0.5555555555555556,
              "#1f9e89"
             ],
             [
              0.6666666666666666,
              "#35b779"
             ],
             [
              0.7777777777777778,
              "#6ece58"
             ],
             [
              0.8888888888888888,
              "#b5de2b"
             ],
             [
              1,
              "#fde725"
             ]
            ],
            "type": "histogram2dcontour"
           }
          ],
          "mesh3d": [
           {
            "colorbar": {
             "outlinewidth": 1,
             "tickcolor": "rgb(36,36,36)",
             "ticks": "outside"
            },
            "type": "mesh3d"
           }
          ],
          "parcoords": [
           {
            "line": {
             "colorbar": {
              "outlinewidth": 1,
              "tickcolor": "rgb(36,36,36)",
              "ticks": "outside"
             }
            },
            "type": "parcoords"
           }
          ],
          "pie": [
           {
            "automargin": true,
            "type": "pie"
           }
          ],
          "scatter": [
           {
            "fillpattern": {
             "fillmode": "overlay",
             "size": 10,
             "solidity": 0.2
            },
            "type": "scatter"
           }
          ],
          "scatter3d": [
           {
            "line": {
             "colorbar": {
              "outlinewidth": 1,
              "tickcolor": "rgb(36,36,36)",
              "ticks": "outside"
             }
            },
            "marker": {
             "colorbar": {
              "outlinewidth": 1,
              "tickcolor": "rgb(36,36,36)",
              "ticks": "outside"
             }
            },
            "type": "scatter3d"
           }
          ],
          "scattercarpet": [
           {
            "marker": {
             "colorbar": {
              "outlinewidth": 1,
              "tickcolor": "rgb(36,36,36)",
              "ticks": "outside"
             }
            },
            "type": "scattercarpet"
           }
          ],
          "scattergeo": [
           {
            "marker": {
             "colorbar": {
              "outlinewidth": 1,
              "tickcolor": "rgb(36,36,36)",
              "ticks": "outside"
             }
            },
            "type": "scattergeo"
           }
          ],
          "scattergl": [
           {
            "marker": {
             "colorbar": {
              "outlinewidth": 1,
              "tickcolor": "rgb(36,36,36)",
              "ticks": "outside"
             }
            },
            "type": "scattergl"
           }
          ],
          "scattermap": [
           {
            "marker": {
             "colorbar": {
              "outlinewidth": 1,
              "tickcolor": "rgb(36,36,36)",
              "ticks": "outside"
             }
            },
            "type": "scattermap"
           }
          ],
          "scattermapbox": [
           {
            "marker": {
             "colorbar": {
              "outlinewidth": 1,
              "tickcolor": "rgb(36,36,36)",
              "ticks": "outside"
             }
            },
            "type": "scattermapbox"
           }
          ],
          "scatterpolar": [
           {
            "marker": {
             "colorbar": {
              "outlinewidth": 1,
              "tickcolor": "rgb(36,36,36)",
              "ticks": "outside"
             }
            },
            "type": "scatterpolar"
           }
          ],
          "scatterpolargl": [
           {
            "marker": {
             "colorbar": {
              "outlinewidth": 1,
              "tickcolor": "rgb(36,36,36)",
              "ticks": "outside"
             }
            },
            "type": "scatterpolargl"
           }
          ],
          "scatterternary": [
           {
            "marker": {
             "colorbar": {
              "outlinewidth": 1,
              "tickcolor": "rgb(36,36,36)",
              "ticks": "outside"
             }
            },
            "type": "scatterternary"
           }
          ],
          "surface": [
           {
            "colorbar": {
             "outlinewidth": 1,
             "tickcolor": "rgb(36,36,36)",
             "ticks": "outside"
            },
            "colorscale": [
             [
              0,
              "#440154"
             ],
             [
              0.1111111111111111,
              "#482878"
             ],
             [
              0.2222222222222222,
              "#3e4989"
             ],
             [
              0.3333333333333333,
              "#31688e"
             ],
             [
              0.4444444444444444,
              "#26828e"
             ],
             [
              0.5555555555555556,
              "#1f9e89"
             ],
             [
              0.6666666666666666,
              "#35b779"
             ],
             [
              0.7777777777777778,
              "#6ece58"
             ],
             [
              0.8888888888888888,
              "#b5de2b"
             ],
             [
              1,
              "#fde725"
             ]
            ],
            "type": "surface"
           }
          ],
          "table": [
           {
            "cells": {
             "fill": {
              "color": "rgb(237,237,237)"
             },
             "line": {
              "color": "white"
             }
            },
            "header": {
             "fill": {
              "color": "rgb(217,217,217)"
             },
             "line": {
              "color": "white"
             }
            },
            "type": "table"
           }
          ]
         },
         "layout": {
          "annotationdefaults": {
           "arrowhead": 0,
           "arrowwidth": 1
          },
          "autotypenumbers": "strict",
          "coloraxis": {
           "colorbar": {
            "outlinewidth": 1,
            "tickcolor": "rgb(36,36,36)",
            "ticks": "outside"
           }
          },
          "colorscale": {
           "diverging": [
            [
             0,
             "rgb(103,0,31)"
            ],
            [
             0.1,
             "rgb(178,24,43)"
            ],
            [
             0.2,
             "rgb(214,96,77)"
            ],
            [
             0.3,
             "rgb(244,165,130)"
            ],
            [
             0.4,
             "rgb(253,219,199)"
            ],
            [
             0.5,
             "rgb(247,247,247)"
            ],
            [
             0.6,
             "rgb(209,229,240)"
            ],
            [
             0.7,
             "rgb(146,197,222)"
            ],
            [
             0.8,
             "rgb(67,147,195)"
            ],
            [
             0.9,
             "rgb(33,102,172)"
            ],
            [
             1,
             "rgb(5,48,97)"
            ]
           ],
           "sequential": [
            [
             0,
             "#440154"
            ],
            [
             0.1111111111111111,
             "#482878"
            ],
            [
             0.2222222222222222,
             "#3e4989"
            ],
            [
             0.3333333333333333,
             "#31688e"
            ],
            [
             0.4444444444444444,
             "#26828e"
            ],
            [
             0.5555555555555556,
             "#1f9e89"
            ],
            [
             0.6666666666666666,
             "#35b779"
            ],
            [
             0.7777777777777778,
             "#6ece58"
            ],
            [
             0.8888888888888888,
             "#b5de2b"
            ],
            [
             1,
             "#fde725"
            ]
           ],
           "sequentialminus": [
            [
             0,
             "#440154"
            ],
            [
             0.1111111111111111,
             "#482878"
            ],
            [
             0.2222222222222222,
             "#3e4989"
            ],
            [
             0.3333333333333333,
             "#31688e"
            ],
            [
             0.4444444444444444,
             "#26828e"
            ],
            [
             0.5555555555555556,
             "#1f9e89"
            ],
            [
             0.6666666666666666,
             "#35b779"
            ],
            [
             0.7777777777777778,
             "#6ece58"
            ],
            [
             0.8888888888888888,
             "#b5de2b"
            ],
            [
             1,
             "#fde725"
            ]
           ]
          },
          "colorway": [
           "#1F77B4",
           "#FF7F0E",
           "#2CA02C",
           "#D62728",
           "#9467BD",
           "#8C564B",
           "#E377C2",
           "#7F7F7F",
           "#BCBD22",
           "#17BECF"
          ],
          "font": {
           "color": "rgb(36,36,36)"
          },
          "geo": {
           "bgcolor": "white",
           "lakecolor": "white",
           "landcolor": "white",
           "showlakes": true,
           "showland": true,
           "subunitcolor": "white"
          },
          "hoverlabel": {
           "align": "left"
          },
          "hovermode": "closest",
          "mapbox": {
           "style": "light"
          },
          "paper_bgcolor": "white",
          "plot_bgcolor": "white",
          "polar": {
           "angularaxis": {
            "gridcolor": "rgb(232,232,232)",
            "linecolor": "rgb(36,36,36)",
            "showgrid": false,
            "showline": true,
            "ticks": "outside"
           },
           "bgcolor": "white",
           "radialaxis": {
            "gridcolor": "rgb(232,232,232)",
            "linecolor": "rgb(36,36,36)",
            "showgrid": false,
            "showline": true,
            "ticks": "outside"
           }
          },
          "scene": {
           "xaxis": {
            "backgroundcolor": "white",
            "gridcolor": "rgb(232,232,232)",
            "gridwidth": 2,
            "linecolor": "rgb(36,36,36)",
            "showbackground": true,
            "showgrid": false,
            "showline": true,
            "ticks": "outside",
            "zeroline": false,
            "zerolinecolor": "rgb(36,36,36)"
           },
           "yaxis": {
            "backgroundcolor": "white",
            "gridcolor": "rgb(232,232,232)",
            "gridwidth": 2,
            "linecolor": "rgb(36,36,36)",
            "showbackground": true,
            "showgrid": false,
            "showline": true,
            "ticks": "outside",
            "zeroline": false,
            "zerolinecolor": "rgb(36,36,36)"
           },
           "zaxis": {
            "backgroundcolor": "white",
            "gridcolor": "rgb(232,232,232)",
            "gridwidth": 2,
            "linecolor": "rgb(36,36,36)",
            "showbackground": true,
            "showgrid": false,
            "showline": true,
            "ticks": "outside",
            "zeroline": false,
            "zerolinecolor": "rgb(36,36,36)"
           }
          },
          "shapedefaults": {
           "fillcolor": "black",
           "line": {
            "width": 0
           },
           "opacity": 0.3
          },
          "ternary": {
           "aaxis": {
            "gridcolor": "rgb(232,232,232)",
            "linecolor": "rgb(36,36,36)",
            "showgrid": false,
            "showline": true,
            "ticks": "outside"
           },
           "baxis": {
            "gridcolor": "rgb(232,232,232)",
            "linecolor": "rgb(36,36,36)",
            "showgrid": false,
            "showline": true,
            "ticks": "outside"
           },
           "bgcolor": "white",
           "caxis": {
            "gridcolor": "rgb(232,232,232)",
            "linecolor": "rgb(36,36,36)",
            "showgrid": false,
            "showline": true,
            "ticks": "outside"
           }
          },
          "title": {
           "x": 0.05
          },
          "xaxis": {
           "automargin": true,
           "gridcolor": "rgb(232,232,232)",
           "linecolor": "rgb(36,36,36)",
           "showgrid": false,
           "showline": true,
           "ticks": "outside",
           "title": {
            "standoff": 15
           },
           "zeroline": false,
           "zerolinecolor": "rgb(36,36,36)"
          },
          "yaxis": {
           "automargin": true,
           "gridcolor": "rgb(232,232,232)",
           "linecolor": "rgb(36,36,36)",
           "showgrid": false,
           "showline": true,
           "ticks": "outside",
           "title": {
            "standoff": 15
           },
           "zeroline": false,
           "zerolinecolor": "rgb(36,36,36)"
          }
         }
        },
        "title": {
         "text": "<b>Emissions (g) over Time (s)</b><br><sup>Midpoints used for phase-level Emissions; extended flat to full mission time</sup>"
        },
        "xaxis": {
         "gridcolor": "lightgrey",
         "gridwidth": 1,
         "range": [
          0,
          6030
         ],
         "showgrid": true,
         "title": {
          "text": "Time (s)"
         }
        },
        "yaxis": {
         "gridcolor": "lightgrey",
         "gridwidth": 1,
         "minor": {
          "showgrid": true,
          "ticklen": 1
         },
         "showgrid": true,
         "title": {
          "text": "Emissions (g)"
         },
         "type": "log"
        }
       }
      }
     },
     "metadata": {},
     "output_type": "display_data"
    }
   ],
   "source": [
    "import plotly.graph_objects as go\n",
    "import pandas as pd\n",
    "\n",
    "# Load your emission summary CSV\n",
    "summary_df = pd.read_csv(\"output/emissions/summary.csv\")\n",
    "phases_df = summary_df[summary_df['Phase'] != 'Total'].copy()\n",
    "\n",
    "# Extract values\n",
    "phases = summary_df_excl_total[\"Phase\"]\n",
    "co_em = summary_df_excl_total[\"CO Emissions (g)\"]\n",
    "nox_em = summary_df_excl_total[\"NOx Emissions (g)\"]\n",
    "hc_em = summary_df_excl_total[\"HC Emissions (g)\"]\n",
    "\n",
    "# Compute key time points\n",
    "phases_df['Start Time (s)'] = phases_df['Duration (s)'].cumsum() - phases_df['Duration (s)']\n",
    "phases_df['End Time (s)'] = phases_df['Duration (s)'].cumsum()\n",
    "phases_df['Mid Time (s)'] = (phases_df['Start Time (s)'] + phases_df['End Time (s)']) / 2\n",
    "\n",
    "# Get values for flat extrapolation\n",
    "start_time = phases_df['Start Time (s)'].iloc[0]\n",
    "end_time = phases_df['End Time (s)'].iloc[-1]\n",
    "nox_start = phases_df['NOx Emissions (g)'].iloc[0]\n",
    "nox_end = phases_df['NOx Emissions (g)'].iloc[-1]\n",
    "co_start = phases_df['CO Emissions (g)'].iloc[0]\n",
    "co_end = phases_df['CO Emissions (g)'].iloc[-1]\n",
    "hc_start = phases_df['HC Emissions (g)'].iloc[0]\n",
    "hc_end = phases_df['HC Emissions (g)'].iloc[-1]\n",
    "\n",
    "# Construct extended x and y\n",
    "time_extended = [start_time] + phases_df['Mid Time (s)'].tolist() + [end_time]\n",
    "nox_extended = [nox_start] + phases_df['NOx Emissions (g)'].tolist() + [nox_end]\n",
    "co_extended = [co_start] + phases_df['CO Emissions (g)'].tolist() + [co_end]\n",
    "hc_extended = [hc_start] + phases_df['HC Emissions (g)'].tolist() + [hc_end]\n",
    "\n",
    "# Plot with filled area\n",
    "fig = go.Figure()\n",
    "\n",
    "\n",
    "fig.add_trace(go.Scatter(\n",
    "    x=time_extended,\n",
    "    y=nox_extended,\n",
    "    mode='lines+markers',\n",
    "    name='NOx Emitted (g)',\n",
    "    line=dict(color='#E69F00'),\n",
    "    marker=dict(color=\"#E69F00\"),\n",
    "    text=[\"Flat Start\"] + phases.tolist() + [\"Flat End\"],\n",
    "    hovertemplate=\"NOx Emitted: %{y:.2f} g<br>Time: %{x:.0f} s<br>Phase: %{text}<extra></extra>\"\n",
    "))\n",
    "\n",
    "fig.add_trace(go.Scatter(\n",
    "    x=time_extended,\n",
    "    y=co_extended,\n",
    "    mode='lines+markers',\n",
    "    name='CO Emitted (g)',\n",
    "    line=dict(color='#56B4E9'),\n",
    "    marker=dict(color=\"#56B4E9\"),\n",
    "    text=[\"Flat Start\"] + phases.tolist() + [\"Flat End\"],\n",
    "    hovertemplate=\"NOx Emitted: %{y:.2f} g<br>Time: %{x:.0f} s<br>Phase: %{text}<extra></extra>\"\n",
    "))\n",
    "\n",
    "fig.add_trace(go.Scatter(\n",
    "    x=time_extended,\n",
    "    y=hc_extended,\n",
    "    mode='lines+markers',\n",
    "    name='HC Emitted (g)',\n",
    "    line=dict(color='#009E73'),\n",
    "    marker=dict(color=\"#009E73\"),\n",
    "    text=[\"Flat Start\"] + phases.tolist() + [\"Flat End\"],\n",
    "    hovertemplate=\"NOx Emitted: %{y:.2f} g<br>Time: %{x:.0f} s<br>Phase: %{text}<extra></extra>\"\n",
    "))\n",
    "\n",
    "fig.update_layout(\n",
    "    xaxis_title='Time (s)',\n",
    "    yaxis_title='Fuel Flow (kg/s)',\n",
    "    title='<b>Emissions (g) over Time (s)</b><br><sup>Midpoints used for phase-level Emissions; extended flat to full mission time</sup>',\n",
    "    template='simple_white',\n",
    "    showlegend=True,\n",
    "    xaxis=dict(\n",
    "        showgrid=True,\n",
    "        gridwidth=1,\n",
    "        gridcolor='lightgrey',\n",
    "        range=[0 , x_extended[-1]]\n",
    "    ),\n",
    "    yaxis=dict(\n",
    "        type='log',\n",
    "        title='Emissions (g)',\n",
    "        showgrid=True,\n",
    "        gridcolor='lightgrey',\n",
    "        gridwidth=1,\n",
    "        minor=dict(ticklen=1, showgrid=True)\n",
    "    )\n",
    ")\n",
    "\n",
    "fig.show()\n",
    "\n"
   ]
  },
  {
   "cell_type": "code",
   "execution_count": 2,
   "id": "804a93c3",
   "metadata": {},
   "outputs": [],
   "source": [
    "# TESTING PLOT-EMISSIONS AFTER STEP 5\n",
    "\n",
    "import pandas as pd\n",
    "\n",
    "from plot_emissions import plot_bar_summary\n",
    "from plot_emissions import plot_pie_summary\n",
    "from plot_emissions import plot_fuel_flow_summary\n",
    "from plot_emissions import plot_emissions_line_summary\n",
    "\n",
    "summary_df = pd.read_csv(\"output/emissions/summary.csv\")"
   ]
  },
  {
   "cell_type": "code",
   "execution_count": 3,
   "id": "9c0b49b1",
   "metadata": {},
   "outputs": [
    {
     "data": {
      "text/html": [
       "<div>\n",
       "<style scoped>\n",
       "    .dataframe tbody tr th:only-of-type {\n",
       "        vertical-align: middle;\n",
       "    }\n",
       "\n",
       "    .dataframe tbody tr th {\n",
       "        vertical-align: top;\n",
       "    }\n",
       "\n",
       "    .dataframe thead th {\n",
       "        text-align: right;\n",
       "    }\n",
       "</style>\n",
       "<table border=\"1\" class=\"dataframe\">\n",
       "  <thead>\n",
       "    <tr style=\"text-align: right;\">\n",
       "      <th></th>\n",
       "      <th>Phase</th>\n",
       "      <th>Duration (s)</th>\n",
       "      <th>Fuel Flow (kg/s)</th>\n",
       "      <th>Fuel Burned (kg)</th>\n",
       "      <th>HC Emissions (g)</th>\n",
       "      <th>NOx Emissions (g)</th>\n",
       "      <th>CO Emissions (g)</th>\n",
       "    </tr>\n",
       "  </thead>\n",
       "  <tbody>\n",
       "    <tr>\n",
       "      <th>0</th>\n",
       "      <td>Idle/Taxi</td>\n",
       "      <td>300.0</td>\n",
       "      <td>0.12</td>\n",
       "      <td>36.0</td>\n",
       "      <td>129.60</td>\n",
       "      <td>140.40</td>\n",
       "      <td>1443.60</td>\n",
       "    </tr>\n",
       "    <tr>\n",
       "      <th>1</th>\n",
       "      <td>Take-Off</td>\n",
       "      <td>30.0</td>\n",
       "      <td>1.14</td>\n",
       "      <td>34.2</td>\n",
       "      <td>3.42</td>\n",
       "      <td>629.28</td>\n",
       "      <td>47.88</td>\n",
       "    </tr>\n",
       "    <tr>\n",
       "      <th>2</th>\n",
       "      <td>Climb Out</td>\n",
       "      <td>900.0</td>\n",
       "      <td>0.65</td>\n",
       "      <td>585.0</td>\n",
       "      <td>117.00</td>\n",
       "      <td>7897.50</td>\n",
       "      <td>585.00</td>\n",
       "    </tr>\n",
       "    <tr>\n",
       "      <th>3</th>\n",
       "      <td>Cruise</td>\n",
       "      <td>3600.0</td>\n",
       "      <td>0.95</td>\n",
       "      <td>3420.0</td>\n",
       "      <td>684.00</td>\n",
       "      <td>46512.00</td>\n",
       "      <td>12312.00</td>\n",
       "    </tr>\n",
       "    <tr>\n",
       "      <th>4</th>\n",
       "      <td>Descent</td>\n",
       "      <td>1200.0</td>\n",
       "      <td>0.34</td>\n",
       "      <td>408.0</td>\n",
       "      <td>2162.40</td>\n",
       "      <td>2652.00</td>\n",
       "      <td>11872.80</td>\n",
       "    </tr>\n",
       "    <tr>\n",
       "      <th>5</th>\n",
       "      <td>Total</td>\n",
       "      <td>6030.0</td>\n",
       "      <td>NaN</td>\n",
       "      <td>4483.2</td>\n",
       "      <td>3096.42</td>\n",
       "      <td>57831.18</td>\n",
       "      <td>26261.28</td>\n",
       "    </tr>\n",
       "  </tbody>\n",
       "</table>\n",
       "</div>"
      ],
      "text/plain": [
       "       Phase  Duration (s)  Fuel Flow (kg/s)  Fuel Burned (kg)  \\\n",
       "0  Idle/Taxi         300.0              0.12              36.0   \n",
       "1   Take-Off          30.0              1.14              34.2   \n",
       "2  Climb Out         900.0              0.65             585.0   \n",
       "3     Cruise        3600.0              0.95            3420.0   \n",
       "4    Descent        1200.0              0.34             408.0   \n",
       "5      Total        6030.0               NaN            4483.2   \n",
       "\n",
       "   HC Emissions (g)  NOx Emissions (g)  CO Emissions (g)  \n",
       "0            129.60             140.40           1443.60  \n",
       "1              3.42             629.28             47.88  \n",
       "2            117.00            7897.50            585.00  \n",
       "3            684.00           46512.00          12312.00  \n",
       "4           2162.40            2652.00          11872.80  \n",
       "5           3096.42           57831.18          26261.28  "
      ]
     },
     "execution_count": 3,
     "metadata": {},
     "output_type": "execute_result"
    }
   ],
   "source": [
    "summary_df"
   ]
  },
  {
   "cell_type": "code",
   "execution_count": 4,
   "id": "34606172",
   "metadata": {},
   "outputs": [
    {
     "data": {
      "application/vnd.plotly.v1+json": {
       "config": {
        "plotlyServerURL": "https://plot.ly"
       },
       "data": [
        {
         "hovertemplate": "Pollutant: HC<br>Phase: %{x}<br>Emissions: %{y:.3f} g<extra></extra>",
         "legendgroup": "HC",
         "marker": {
          "color": "#009E73"
         },
         "name": "HC Emissions",
         "text": [
          "129.600",
          "3.420",
          "117.000",
          "684.000",
          "2162.400",
          "3096.420"
         ],
         "textfont": {
          "color": "white",
          "size": 10
         },
         "textposition": "inside",
         "type": "bar",
         "x": [
          "Idle/Taxi",
          "Take-Off",
          "Climb Out",
          "Cruise",
          "Descent",
          "Total"
         ],
         "y": {
          "bdata": "MzMzMzMzYEBcj8L1KFwLQAAAAAAAQF1AAAAAAABghUDNzMzMzOSgQKRwPQrXMKhA",
          "dtype": "f8"
         }
        },
        {
         "hovertemplate": "Pollutant: NOx<br>Phase: %{x}<br>Emissions: %{y:.3f} g<extra></extra>",
         "legendgroup": "NOx",
         "marker": {
          "color": "#E69F00"
         },
         "name": "NOx Emissions",
         "text": [
          "140.400",
          "629.280",
          "7897.500",
          "46512.000",
          "2652.000",
          "57831.180"
         ],
         "textfont": {
          "color": "white",
          "size": 10
         },
         "textposition": "inside",
         "type": "bar",
         "x": [
          "Idle/Taxi",
          "Take-Off",
          "Climb Out",
          "Cruise",
          "Descent",
          "Total"
         ],
         "y": {
          "bdata": "zczMzMyMYUAK16NwPaqDQAAAAACA2b5AAAAAAAC25kAAAAAAALikQClcj8LlPOxA",
          "dtype": "f8"
         }
        },
        {
         "hovertemplate": "Pollutant: CO<br>Phase: %{x}<br>Emissions: %{y:.3f} g<extra></extra>",
         "legendgroup": "CO",
         "marker": {
          "color": "#56B4E9"
         },
         "name": "CO Emissions",
         "text": [
          "1443.600",
          "47.880",
          "585.000",
          "12312.000",
          "11872.800",
          "26261.280"
         ],
         "textfont": {
          "color": "white",
          "size": 10
         },
         "textposition": "inside",
         "type": "bar",
         "x": [
          "Idle/Taxi",
          "Take-Off",
          "Climb Out",
          "Cruise",
          "Descent",
          "Total"
         ],
         "y": {
          "bdata": "ZmZmZmaOlkBxPQrXo/BHQAAAAAAASIJAAAAAAAAMyEBmZmZmZjDHQLgehetRpdlA",
          "dtype": "f8"
         }
        }
       ],
       "layout": {
        "bargap": 0.15,
        "bargroupgap": 0.05,
        "barmode": "group",
        "font": {
         "family": "Arial",
         "size": 13
        },
        "height": 650,
        "legend": {
         "font": {
          "size": 12
         },
         "orientation": "h",
         "x": 0.5,
         "xanchor": "center",
         "y": -0.2,
         "yanchor": "bottom"
        },
        "margin": {
         "b": 80,
         "l": 80,
         "r": 40,
         "t": 100
        },
        "template": {
         "data": {
          "bar": [
           {
            "error_x": {
             "color": "rgb(36,36,36)"
            },
            "error_y": {
             "color": "rgb(36,36,36)"
            },
            "marker": {
             "line": {
              "color": "white",
              "width": 0.5
             },
             "pattern": {
              "fillmode": "overlay",
              "size": 10,
              "solidity": 0.2
             }
            },
            "type": "bar"
           }
          ],
          "barpolar": [
           {
            "marker": {
             "line": {
              "color": "white",
              "width": 0.5
             },
             "pattern": {
              "fillmode": "overlay",
              "size": 10,
              "solidity": 0.2
             }
            },
            "type": "barpolar"
           }
          ],
          "carpet": [
           {
            "aaxis": {
             "endlinecolor": "rgb(36,36,36)",
             "gridcolor": "white",
             "linecolor": "white",
             "minorgridcolor": "white",
             "startlinecolor": "rgb(36,36,36)"
            },
            "baxis": {
             "endlinecolor": "rgb(36,36,36)",
             "gridcolor": "white",
             "linecolor": "white",
             "minorgridcolor": "white",
             "startlinecolor": "rgb(36,36,36)"
            },
            "type": "carpet"
           }
          ],
          "choropleth": [
           {
            "colorbar": {
             "outlinewidth": 1,
             "tickcolor": "rgb(36,36,36)",
             "ticks": "outside"
            },
            "type": "choropleth"
           }
          ],
          "contour": [
           {
            "colorbar": {
             "outlinewidth": 1,
             "tickcolor": "rgb(36,36,36)",
             "ticks": "outside"
            },
            "colorscale": [
             [
              0,
              "#440154"
             ],
             [
              0.1111111111111111,
              "#482878"
             ],
             [
              0.2222222222222222,
              "#3e4989"
             ],
             [
              0.3333333333333333,
              "#31688e"
             ],
             [
              0.4444444444444444,
              "#26828e"
             ],
             [
              0.5555555555555556,
              "#1f9e89"
             ],
             [
              0.6666666666666666,
              "#35b779"
             ],
             [
              0.7777777777777778,
              "#6ece58"
             ],
             [
              0.8888888888888888,
              "#b5de2b"
             ],
             [
              1,
              "#fde725"
             ]
            ],
            "type": "contour"
           }
          ],
          "contourcarpet": [
           {
            "colorbar": {
             "outlinewidth": 1,
             "tickcolor": "rgb(36,36,36)",
             "ticks": "outside"
            },
            "type": "contourcarpet"
           }
          ],
          "heatmap": [
           {
            "colorbar": {
             "outlinewidth": 1,
             "tickcolor": "rgb(36,36,36)",
             "ticks": "outside"
            },
            "colorscale": [
             [
              0,
              "#440154"
             ],
             [
              0.1111111111111111,
              "#482878"
             ],
             [
              0.2222222222222222,
              "#3e4989"
             ],
             [
              0.3333333333333333,
              "#31688e"
             ],
             [
              0.4444444444444444,
              "#26828e"
             ],
             [
              0.5555555555555556,
              "#1f9e89"
             ],
             [
              0.6666666666666666,
              "#35b779"
             ],
             [
              0.7777777777777778,
              "#6ece58"
             ],
             [
              0.8888888888888888,
              "#b5de2b"
             ],
             [
              1,
              "#fde725"
             ]
            ],
            "type": "heatmap"
           }
          ],
          "histogram": [
           {
            "marker": {
             "line": {
              "color": "white",
              "width": 0.6
             }
            },
            "type": "histogram"
           }
          ],
          "histogram2d": [
           {
            "colorbar": {
             "outlinewidth": 1,
             "tickcolor": "rgb(36,36,36)",
             "ticks": "outside"
            },
            "colorscale": [
             [
              0,
              "#440154"
             ],
             [
              0.1111111111111111,
              "#482878"
             ],
             [
              0.2222222222222222,
              "#3e4989"
             ],
             [
              0.3333333333333333,
              "#31688e"
             ],
             [
              0.4444444444444444,
              "#26828e"
             ],
             [
              0.5555555555555556,
              "#1f9e89"
             ],
             [
              0.6666666666666666,
              "#35b779"
             ],
             [
              0.7777777777777778,
              "#6ece58"
             ],
             [
              0.8888888888888888,
              "#b5de2b"
             ],
             [
              1,
              "#fde725"
             ]
            ],
            "type": "histogram2d"
           }
          ],
          "histogram2dcontour": [
           {
            "colorbar": {
             "outlinewidth": 1,
             "tickcolor": "rgb(36,36,36)",
             "ticks": "outside"
            },
            "colorscale": [
             [
              0,
              "#440154"
             ],
             [
              0.1111111111111111,
              "#482878"
             ],
             [
              0.2222222222222222,
              "#3e4989"
             ],
             [
              0.3333333333333333,
              "#31688e"
             ],
             [
              0.4444444444444444,
              "#26828e"
             ],
             [
              0.5555555555555556,
              "#1f9e89"
             ],
             [
              0.6666666666666666,
              "#35b779"
             ],
             [
              0.7777777777777778,
              "#6ece58"
             ],
             [
              0.8888888888888888,
              "#b5de2b"
             ],
             [
              1,
              "#fde725"
             ]
            ],
            "type": "histogram2dcontour"
           }
          ],
          "mesh3d": [
           {
            "colorbar": {
             "outlinewidth": 1,
             "tickcolor": "rgb(36,36,36)",
             "ticks": "outside"
            },
            "type": "mesh3d"
           }
          ],
          "parcoords": [
           {
            "line": {
             "colorbar": {
              "outlinewidth": 1,
              "tickcolor": "rgb(36,36,36)",
              "ticks": "outside"
             }
            },
            "type": "parcoords"
           }
          ],
          "pie": [
           {
            "automargin": true,
            "type": "pie"
           }
          ],
          "scatter": [
           {
            "fillpattern": {
             "fillmode": "overlay",
             "size": 10,
             "solidity": 0.2
            },
            "type": "scatter"
           }
          ],
          "scatter3d": [
           {
            "line": {
             "colorbar": {
              "outlinewidth": 1,
              "tickcolor": "rgb(36,36,36)",
              "ticks": "outside"
             }
            },
            "marker": {
             "colorbar": {
              "outlinewidth": 1,
              "tickcolor": "rgb(36,36,36)",
              "ticks": "outside"
             }
            },
            "type": "scatter3d"
           }
          ],
          "scattercarpet": [
           {
            "marker": {
             "colorbar": {
              "outlinewidth": 1,
              "tickcolor": "rgb(36,36,36)",
              "ticks": "outside"
             }
            },
            "type": "scattercarpet"
           }
          ],
          "scattergeo": [
           {
            "marker": {
             "colorbar": {
              "outlinewidth": 1,
              "tickcolor": "rgb(36,36,36)",
              "ticks": "outside"
             }
            },
            "type": "scattergeo"
           }
          ],
          "scattergl": [
           {
            "marker": {
             "colorbar": {
              "outlinewidth": 1,
              "tickcolor": "rgb(36,36,36)",
              "ticks": "outside"
             }
            },
            "type": "scattergl"
           }
          ],
          "scattermap": [
           {
            "marker": {
             "colorbar": {
              "outlinewidth": 1,
              "tickcolor": "rgb(36,36,36)",
              "ticks": "outside"
             }
            },
            "type": "scattermap"
           }
          ],
          "scattermapbox": [
           {
            "marker": {
             "colorbar": {
              "outlinewidth": 1,
              "tickcolor": "rgb(36,36,36)",
              "ticks": "outside"
             }
            },
            "type": "scattermapbox"
           }
          ],
          "scatterpolar": [
           {
            "marker": {
             "colorbar": {
              "outlinewidth": 1,
              "tickcolor": "rgb(36,36,36)",
              "ticks": "outside"
             }
            },
            "type": "scatterpolar"
           }
          ],
          "scatterpolargl": [
           {
            "marker": {
             "colorbar": {
              "outlinewidth": 1,
              "tickcolor": "rgb(36,36,36)",
              "ticks": "outside"
             }
            },
            "type": "scatterpolargl"
           }
          ],
          "scatterternary": [
           {
            "marker": {
             "colorbar": {
              "outlinewidth": 1,
              "tickcolor": "rgb(36,36,36)",
              "ticks": "outside"
             }
            },
            "type": "scatterternary"
           }
          ],
          "surface": [
           {
            "colorbar": {
             "outlinewidth": 1,
             "tickcolor": "rgb(36,36,36)",
             "ticks": "outside"
            },
            "colorscale": [
             [
              0,
              "#440154"
             ],
             [
              0.1111111111111111,
              "#482878"
             ],
             [
              0.2222222222222222,
              "#3e4989"
             ],
             [
              0.3333333333333333,
              "#31688e"
             ],
             [
              0.4444444444444444,
              "#26828e"
             ],
             [
              0.5555555555555556,
              "#1f9e89"
             ],
             [
              0.6666666666666666,
              "#35b779"
             ],
             [
              0.7777777777777778,
              "#6ece58"
             ],
             [
              0.8888888888888888,
              "#b5de2b"
             ],
             [
              1,
              "#fde725"
             ]
            ],
            "type": "surface"
           }
          ],
          "table": [
           {
            "cells": {
             "fill": {
              "color": "rgb(237,237,237)"
             },
             "line": {
              "color": "white"
             }
            },
            "header": {
             "fill": {
              "color": "rgb(217,217,217)"
             },
             "line": {
              "color": "white"
             }
            },
            "type": "table"
           }
          ]
         },
         "layout": {
          "annotationdefaults": {
           "arrowhead": 0,
           "arrowwidth": 1
          },
          "autotypenumbers": "strict",
          "coloraxis": {
           "colorbar": {
            "outlinewidth": 1,
            "tickcolor": "rgb(36,36,36)",
            "ticks": "outside"
           }
          },
          "colorscale": {
           "diverging": [
            [
             0,
             "rgb(103,0,31)"
            ],
            [
             0.1,
             "rgb(178,24,43)"
            ],
            [
             0.2,
             "rgb(214,96,77)"
            ],
            [
             0.3,
             "rgb(244,165,130)"
            ],
            [
             0.4,
             "rgb(253,219,199)"
            ],
            [
             0.5,
             "rgb(247,247,247)"
            ],
            [
             0.6,
             "rgb(209,229,240)"
            ],
            [
             0.7,
             "rgb(146,197,222)"
            ],
            [
             0.8,
             "rgb(67,147,195)"
            ],
            [
             0.9,
             "rgb(33,102,172)"
            ],
            [
             1,
             "rgb(5,48,97)"
            ]
           ],
           "sequential": [
            [
             0,
             "#440154"
            ],
            [
             0.1111111111111111,
             "#482878"
            ],
            [
             0.2222222222222222,
             "#3e4989"
            ],
            [
             0.3333333333333333,
             "#31688e"
            ],
            [
             0.4444444444444444,
             "#26828e"
            ],
            [
             0.5555555555555556,
             "#1f9e89"
            ],
            [
             0.6666666666666666,
             "#35b779"
            ],
            [
             0.7777777777777778,
             "#6ece58"
            ],
            [
             0.8888888888888888,
             "#b5de2b"
            ],
            [
             1,
             "#fde725"
            ]
           ],
           "sequentialminus": [
            [
             0,
             "#440154"
            ],
            [
             0.1111111111111111,
             "#482878"
            ],
            [
             0.2222222222222222,
             "#3e4989"
            ],
            [
             0.3333333333333333,
             "#31688e"
            ],
            [
             0.4444444444444444,
             "#26828e"
            ],
            [
             0.5555555555555556,
             "#1f9e89"
            ],
            [
             0.6666666666666666,
             "#35b779"
            ],
            [
             0.7777777777777778,
             "#6ece58"
            ],
            [
             0.8888888888888888,
             "#b5de2b"
            ],
            [
             1,
             "#fde725"
            ]
           ]
          },
          "colorway": [
           "#1F77B4",
           "#FF7F0E",
           "#2CA02C",
           "#D62728",
           "#9467BD",
           "#8C564B",
           "#E377C2",
           "#7F7F7F",
           "#BCBD22",
           "#17BECF"
          ],
          "font": {
           "color": "rgb(36,36,36)"
          },
          "geo": {
           "bgcolor": "white",
           "lakecolor": "white",
           "landcolor": "white",
           "showlakes": true,
           "showland": true,
           "subunitcolor": "white"
          },
          "hoverlabel": {
           "align": "left"
          },
          "hovermode": "closest",
          "mapbox": {
           "style": "light"
          },
          "paper_bgcolor": "white",
          "plot_bgcolor": "white",
          "polar": {
           "angularaxis": {
            "gridcolor": "rgb(232,232,232)",
            "linecolor": "rgb(36,36,36)",
            "showgrid": false,
            "showline": true,
            "ticks": "outside"
           },
           "bgcolor": "white",
           "radialaxis": {
            "gridcolor": "rgb(232,232,232)",
            "linecolor": "rgb(36,36,36)",
            "showgrid": false,
            "showline": true,
            "ticks": "outside"
           }
          },
          "scene": {
           "xaxis": {
            "backgroundcolor": "white",
            "gridcolor": "rgb(232,232,232)",
            "gridwidth": 2,
            "linecolor": "rgb(36,36,36)",
            "showbackground": true,
            "showgrid": false,
            "showline": true,
            "ticks": "outside",
            "zeroline": false,
            "zerolinecolor": "rgb(36,36,36)"
           },
           "yaxis": {
            "backgroundcolor": "white",
            "gridcolor": "rgb(232,232,232)",
            "gridwidth": 2,
            "linecolor": "rgb(36,36,36)",
            "showbackground": true,
            "showgrid": false,
            "showline": true,
            "ticks": "outside",
            "zeroline": false,
            "zerolinecolor": "rgb(36,36,36)"
           },
           "zaxis": {
            "backgroundcolor": "white",
            "gridcolor": "rgb(232,232,232)",
            "gridwidth": 2,
            "linecolor": "rgb(36,36,36)",
            "showbackground": true,
            "showgrid": false,
            "showline": true,
            "ticks": "outside",
            "zeroline": false,
            "zerolinecolor": "rgb(36,36,36)"
           }
          },
          "shapedefaults": {
           "fillcolor": "black",
           "line": {
            "width": 0
           },
           "opacity": 0.3
          },
          "ternary": {
           "aaxis": {
            "gridcolor": "rgb(232,232,232)",
            "linecolor": "rgb(36,36,36)",
            "showgrid": false,
            "showline": true,
            "ticks": "outside"
           },
           "baxis": {
            "gridcolor": "rgb(232,232,232)",
            "linecolor": "rgb(36,36,36)",
            "showgrid": false,
            "showline": true,
            "ticks": "outside"
           },
           "bgcolor": "white",
           "caxis": {
            "gridcolor": "rgb(232,232,232)",
            "linecolor": "rgb(36,36,36)",
            "showgrid": false,
            "showline": true,
            "ticks": "outside"
           }
          },
          "title": {
           "x": 0.05
          },
          "xaxis": {
           "automargin": true,
           "gridcolor": "rgb(232,232,232)",
           "linecolor": "rgb(36,36,36)",
           "showgrid": false,
           "showline": true,
           "ticks": "outside",
           "title": {
            "standoff": 15
           },
           "zeroline": false,
           "zerolinecolor": "rgb(36,36,36)"
          },
          "yaxis": {
           "automargin": true,
           "gridcolor": "rgb(232,232,232)",
           "linecolor": "rgb(36,36,36)",
           "showgrid": false,
           "showline": true,
           "ticks": "outside",
           "title": {
            "standoff": 15
           },
           "zeroline": false,
           "zerolinecolor": "rgb(36,36,36)"
          }
         }
        },
        "title": {
         "font": {
          "color": "black",
          "family": "Arial",
          "size": 22
         },
         "text": "<b>Engine Emissions by Flight Phase for CFM56-5B4/2P</b><br><sup>Log scale used to highlight variation across pollutants</sup>"
        },
        "xaxis": {
         "title": {
          "text": "Flight Phase"
         }
        },
        "yaxis": {
         "gridcolor": "lightgrey",
         "gridwidth": 1,
         "showgrid": true,
         "tickformat": ",",
         "tickvals": [
          1,
          10,
          100,
          1000,
          10000,
          100000
         ],
         "title": {
          "text": "Emissions (g, log scale)"
         },
         "type": "log"
        }
       }
      }
     },
     "metadata": {},
     "output_type": "display_data"
    },
    {
     "data": {
      "application/vnd.plotly.v1+json": {
       "config": {
        "plotlyServerURL": "https://plot.ly"
       },
       "data": [
        {
         "direction": "clockwise",
         "domain": {
          "x": [
           0.7875,
           1
          ],
          "y": [
           0,
           1
          ]
         },
         "hole": 0.3,
         "hovertemplate": "Pollutant: %{label}<br>Percentage: %{percent}<br>Emissions: %{value:.1f} g<extra></extra>",
         "labels": [
          "NOx",
          "CO",
          "HC"
         ],
         "marker": {
          "colors": [
           "#E69F00",
           "#64B6E2",
           "#009E73"
          ],
          "line": {
           "color": "white",
           "width": 0.5
          }
         },
         "rotation": 0,
         "showlegend": false,
         "sort": false,
         "textinfo": "none",
         "type": "pie",
         "values": {
          "bdata": "KVyPwuU87EC4HoXrUaXZQKRwPQrXMKhA",
          "dtype": "f8"
         }
        },
        {
         "direction": "clockwise",
         "domain": {
          "x": [
           0.7875,
           1
          ],
          "y": [
           0,
           1
          ]
         },
         "hole": 0.75,
         "hovertemplate": "Pollutant / Phase: %{label}<br>Percentage: %{percent}<br>Emissions: %{value:.1f} g<extra></extra>",
         "labels": [
          "NOx / Cruise",
          "NOx / Climb Out",
          "NOx / Descent",
          "NOx / Take-Off",
          "NOx / Idle/Taxi",
          "CO / Cruise",
          "CO / Descent",
          "CO / Idle/Taxi",
          "CO / Climb Out",
          "CO / Take-Off",
          "HC / Descent",
          "HC / Cruise",
          "HC / Idle/Taxi",
          "HC / Climb Out",
          "HC / Take-Off"
         ],
         "marker": {
          "colors": [
           "#CB8712",
           "#E69F00",
           "#F1B733",
           "#F7CD66",
           "#FCE399",
           "#4197CA",
           "#64B6E2",
           "#9AD3F1",
           "#BCE3F6",
           "#DEF2FA",
           "#00664E",
           "#009E73",
           "#33B384",
           "#66C495",
           "#99D6B1"
          ],
          "line": {
           "color": "white",
           "width": 0.5
          }
         },
         "rotation": 0,
         "showlegend": false,
         "sort": false,
         "textinfo": "none",
         "type": "pie",
         "values": [
          46512,
          7897.5,
          2652,
          629.28,
          140.4,
          12312,
          11872.8,
          1443.6,
          585,
          47.88,
          2162.4,
          684,
          129.6,
          117,
          3.42
         ]
        },
        {
         "direction": "clockwise",
         "domain": {
          "x": [
           0,
           0.2125
          ],
          "y": [
           0,
           1
          ]
         },
         "hovertemplate": "Phase: %{label}<br>Percentage: %{percent}<br>Emissions: %{value:.1f} g<extra></extra>",
         "labels": [
          "NOx / Cruise",
          "NOx / Climb Out",
          "NOx / Descent",
          "NOx / Take-Off",
          "NOx / Idle/Taxi"
         ],
         "legendgroup": "NOx",
         "marker": {
          "colors": [
           "#CB8712",
           "#E69F00",
           "#F1B733",
           "#F7CD66",
           "#FCE399"
          ]
         },
         "name": "NOx",
         "pull": [
          0.05
         ],
         "rotation": 0,
         "showlegend": true,
         "sort": false,
         "textinfo": "none",
         "type": "pie",
         "values": [
          46512,
          7897.5,
          2652,
          629.28,
          140.4
         ]
        },
        {
         "direction": "clockwise",
         "domain": {
          "x": [
           0.2625,
           0.475
          ],
          "y": [
           0,
           1
          ]
         },
         "hovertemplate": "Phase: %{label}<br>Percentage: %{percent}<br>Emissions: %{value:.1f} g<extra></extra>",
         "labels": [
          "CO / Cruise",
          "CO / Descent",
          "CO / Idle/Taxi",
          "CO / Climb Out",
          "CO / Take-Off"
         ],
         "legendgroup": "CO",
         "marker": {
          "colors": [
           "#4197CA",
           "#64B6E2",
           "#9AD3F1",
           "#BCE3F6",
           "#DEF2FA"
          ]
         },
         "name": "CO",
         "pull": [
          0.05
         ],
         "rotation": 0,
         "showlegend": true,
         "sort": false,
         "textinfo": "none",
         "type": "pie",
         "values": [
          12312,
          11872.8,
          1443.6,
          585,
          47.88
         ]
        },
        {
         "direction": "clockwise",
         "domain": {
          "x": [
           0.525,
           0.7375
          ],
          "y": [
           0,
           1
          ]
         },
         "hovertemplate": "Phase: %{label}<br>Percentage: %{percent}<br>Emissions: %{value:.1f} g<extra></extra>",
         "labels": [
          "HC / Descent",
          "HC / Cruise",
          "HC / Idle/Taxi",
          "HC / Climb Out",
          "HC / Take-Off"
         ],
         "legendgroup": "HC",
         "marker": {
          "colors": [
           "#00664E",
           "#009E73",
           "#33B384",
           "#66C495",
           "#99D6B1"
          ]
         },
         "name": "HC",
         "pull": [
          0.05
         ],
         "rotation": 0,
         "showlegend": true,
         "sort": false,
         "textinfo": "none",
         "type": "pie",
         "values": [
          2162.4,
          684,
          129.6,
          117,
          3.42
         ]
        }
       ],
       "layout": {
        "annotations": [
         {
          "font": {
           "size": 16
          },
          "showarrow": false,
          "text": "<b>NOₓ Emissions (g)</b><br><sup>Emission of NOx tracked across Phases</sup>",
          "x": 0.10625,
          "xanchor": "center",
          "xref": "paper",
          "y": 1,
          "yanchor": "bottom",
          "yref": "paper"
         },
         {
          "font": {
           "size": 16
          },
          "showarrow": false,
          "text": "<b>CO Emissions (g)</b><br><sup>Emission of CO tracked across Phases</sup>",
          "x": 0.36875,
          "xanchor": "center",
          "xref": "paper",
          "y": 1,
          "yanchor": "bottom",
          "yref": "paper"
         },
         {
          "font": {
           "size": 16
          },
          "showarrow": false,
          "text": "<b>HC Emissions (g)</b><br><sup>Emission of HC tracked across Phases</sup>",
          "x": 0.6312500000000001,
          "xanchor": "center",
          "xref": "paper",
          "y": 1,
          "yanchor": "bottom",
          "yref": "paper"
         },
         {
          "font": {
           "size": 16
          },
          "showarrow": false,
          "text": "<b>Engine Emissions Breakdown (g)</b><br><sup>Outer Ring: Total Data; Inner Ring: Phase-Wise Data</sup>",
          "x": 0.89375,
          "xanchor": "center",
          "xref": "paper",
          "y": 1,
          "yanchor": "bottom",
          "yref": "paper"
         }
        ],
        "font": {
         "size": 12
        },
        "height": 700,
        "legend": {
         "font": {
          "size": 12
         },
         "orientation": "h",
         "title": {},
         "x": 0.5,
         "xanchor": "center",
         "y": -0.15,
         "yanchor": "bottom"
        },
        "margin": {
         "b": 80,
         "l": 20,
         "r": 20,
         "t": 80
        },
        "template": {
         "data": {
          "bar": [
           {
            "error_x": {
             "color": "rgb(36,36,36)"
            },
            "error_y": {
             "color": "rgb(36,36,36)"
            },
            "marker": {
             "line": {
              "color": "white",
              "width": 0.5
             },
             "pattern": {
              "fillmode": "overlay",
              "size": 10,
              "solidity": 0.2
             }
            },
            "type": "bar"
           }
          ],
          "barpolar": [
           {
            "marker": {
             "line": {
              "color": "white",
              "width": 0.5
             },
             "pattern": {
              "fillmode": "overlay",
              "size": 10,
              "solidity": 0.2
             }
            },
            "type": "barpolar"
           }
          ],
          "carpet": [
           {
            "aaxis": {
             "endlinecolor": "rgb(36,36,36)",
             "gridcolor": "white",
             "linecolor": "white",
             "minorgridcolor": "white",
             "startlinecolor": "rgb(36,36,36)"
            },
            "baxis": {
             "endlinecolor": "rgb(36,36,36)",
             "gridcolor": "white",
             "linecolor": "white",
             "minorgridcolor": "white",
             "startlinecolor": "rgb(36,36,36)"
            },
            "type": "carpet"
           }
          ],
          "choropleth": [
           {
            "colorbar": {
             "outlinewidth": 1,
             "tickcolor": "rgb(36,36,36)",
             "ticks": "outside"
            },
            "type": "choropleth"
           }
          ],
          "contour": [
           {
            "colorbar": {
             "outlinewidth": 1,
             "tickcolor": "rgb(36,36,36)",
             "ticks": "outside"
            },
            "colorscale": [
             [
              0,
              "#440154"
             ],
             [
              0.1111111111111111,
              "#482878"
             ],
             [
              0.2222222222222222,
              "#3e4989"
             ],
             [
              0.3333333333333333,
              "#31688e"
             ],
             [
              0.4444444444444444,
              "#26828e"
             ],
             [
              0.5555555555555556,
              "#1f9e89"
             ],
             [
              0.6666666666666666,
              "#35b779"
             ],
             [
              0.7777777777777778,
              "#6ece58"
             ],
             [
              0.8888888888888888,
              "#b5de2b"
             ],
             [
              1,
              "#fde725"
             ]
            ],
            "type": "contour"
           }
          ],
          "contourcarpet": [
           {
            "colorbar": {
             "outlinewidth": 1,
             "tickcolor": "rgb(36,36,36)",
             "ticks": "outside"
            },
            "type": "contourcarpet"
           }
          ],
          "heatmap": [
           {
            "colorbar": {
             "outlinewidth": 1,
             "tickcolor": "rgb(36,36,36)",
             "ticks": "outside"
            },
            "colorscale": [
             [
              0,
              "#440154"
             ],
             [
              0.1111111111111111,
              "#482878"
             ],
             [
              0.2222222222222222,
              "#3e4989"
             ],
             [
              0.3333333333333333,
              "#31688e"
             ],
             [
              0.4444444444444444,
              "#26828e"
             ],
             [
              0.5555555555555556,
              "#1f9e89"
             ],
             [
              0.6666666666666666,
              "#35b779"
             ],
             [
              0.7777777777777778,
              "#6ece58"
             ],
             [
              0.8888888888888888,
              "#b5de2b"
             ],
             [
              1,
              "#fde725"
             ]
            ],
            "type": "heatmap"
           }
          ],
          "histogram": [
           {
            "marker": {
             "line": {
              "color": "white",
              "width": 0.6
             }
            },
            "type": "histogram"
           }
          ],
          "histogram2d": [
           {
            "colorbar": {
             "outlinewidth": 1,
             "tickcolor": "rgb(36,36,36)",
             "ticks": "outside"
            },
            "colorscale": [
             [
              0,
              "#440154"
             ],
             [
              0.1111111111111111,
              "#482878"
             ],
             [
              0.2222222222222222,
              "#3e4989"
             ],
             [
              0.3333333333333333,
              "#31688e"
             ],
             [
              0.4444444444444444,
              "#26828e"
             ],
             [
              0.5555555555555556,
              "#1f9e89"
             ],
             [
              0.6666666666666666,
              "#35b779"
             ],
             [
              0.7777777777777778,
              "#6ece58"
             ],
             [
              0.8888888888888888,
              "#b5de2b"
             ],
             [
              1,
              "#fde725"
             ]
            ],
            "type": "histogram2d"
           }
          ],
          "histogram2dcontour": [
           {
            "colorbar": {
             "outlinewidth": 1,
             "tickcolor": "rgb(36,36,36)",
             "ticks": "outside"
            },
            "colorscale": [
             [
              0,
              "#440154"
             ],
             [
              0.1111111111111111,
              "#482878"
             ],
             [
              0.2222222222222222,
              "#3e4989"
             ],
             [
              0.3333333333333333,
              "#31688e"
             ],
             [
              0.4444444444444444,
              "#26828e"
             ],
             [
              0.5555555555555556,
              "#1f9e89"
             ],
             [
              0.6666666666666666,
              "#35b779"
             ],
             [
              0.7777777777777778,
              "#6ece58"
             ],
             [
              0.8888888888888888,
              "#b5de2b"
             ],
             [
              1,
              "#fde725"
             ]
            ],
            "type": "histogram2dcontour"
           }
          ],
          "mesh3d": [
           {
            "colorbar": {
             "outlinewidth": 1,
             "tickcolor": "rgb(36,36,36)",
             "ticks": "outside"
            },
            "type": "mesh3d"
           }
          ],
          "parcoords": [
           {
            "line": {
             "colorbar": {
              "outlinewidth": 1,
              "tickcolor": "rgb(36,36,36)",
              "ticks": "outside"
             }
            },
            "type": "parcoords"
           }
          ],
          "pie": [
           {
            "automargin": true,
            "type": "pie"
           }
          ],
          "scatter": [
           {
            "fillpattern": {
             "fillmode": "overlay",
             "size": 10,
             "solidity": 0.2
            },
            "type": "scatter"
           }
          ],
          "scatter3d": [
           {
            "line": {
             "colorbar": {
              "outlinewidth": 1,
              "tickcolor": "rgb(36,36,36)",
              "ticks": "outside"
             }
            },
            "marker": {
             "colorbar": {
              "outlinewidth": 1,
              "tickcolor": "rgb(36,36,36)",
              "ticks": "outside"
             }
            },
            "type": "scatter3d"
           }
          ],
          "scattercarpet": [
           {
            "marker": {
             "colorbar": {
              "outlinewidth": 1,
              "tickcolor": "rgb(36,36,36)",
              "ticks": "outside"
             }
            },
            "type": "scattercarpet"
           }
          ],
          "scattergeo": [
           {
            "marker": {
             "colorbar": {
              "outlinewidth": 1,
              "tickcolor": "rgb(36,36,36)",
              "ticks": "outside"
             }
            },
            "type": "scattergeo"
           }
          ],
          "scattergl": [
           {
            "marker": {
             "colorbar": {
              "outlinewidth": 1,
              "tickcolor": "rgb(36,36,36)",
              "ticks": "outside"
             }
            },
            "type": "scattergl"
           }
          ],
          "scattermap": [
           {
            "marker": {
             "colorbar": {
              "outlinewidth": 1,
              "tickcolor": "rgb(36,36,36)",
              "ticks": "outside"
             }
            },
            "type": "scattermap"
           }
          ],
          "scattermapbox": [
           {
            "marker": {
             "colorbar": {
              "outlinewidth": 1,
              "tickcolor": "rgb(36,36,36)",
              "ticks": "outside"
             }
            },
            "type": "scattermapbox"
           }
          ],
          "scatterpolar": [
           {
            "marker": {
             "colorbar": {
              "outlinewidth": 1,
              "tickcolor": "rgb(36,36,36)",
              "ticks": "outside"
             }
            },
            "type": "scatterpolar"
           }
          ],
          "scatterpolargl": [
           {
            "marker": {
             "colorbar": {
              "outlinewidth": 1,
              "tickcolor": "rgb(36,36,36)",
              "ticks": "outside"
             }
            },
            "type": "scatterpolargl"
           }
          ],
          "scatterternary": [
           {
            "marker": {
             "colorbar": {
              "outlinewidth": 1,
              "tickcolor": "rgb(36,36,36)",
              "ticks": "outside"
             }
            },
            "type": "scatterternary"
           }
          ],
          "surface": [
           {
            "colorbar": {
             "outlinewidth": 1,
             "tickcolor": "rgb(36,36,36)",
             "ticks": "outside"
            },
            "colorscale": [
             [
              0,
              "#440154"
             ],
             [
              0.1111111111111111,
              "#482878"
             ],
             [
              0.2222222222222222,
              "#3e4989"
             ],
             [
              0.3333333333333333,
              "#31688e"
             ],
             [
              0.4444444444444444,
              "#26828e"
             ],
             [
              0.5555555555555556,
              "#1f9e89"
             ],
             [
              0.6666666666666666,
              "#35b779"
             ],
             [
              0.7777777777777778,
              "#6ece58"
             ],
             [
              0.8888888888888888,
              "#b5de2b"
             ],
             [
              1,
              "#fde725"
             ]
            ],
            "type": "surface"
           }
          ],
          "table": [
           {
            "cells": {
             "fill": {
              "color": "rgb(237,237,237)"
             },
             "line": {
              "color": "white"
             }
            },
            "header": {
             "fill": {
              "color": "rgb(217,217,217)"
             },
             "line": {
              "color": "white"
             }
            },
            "type": "table"
           }
          ]
         },
         "layout": {
          "annotationdefaults": {
           "arrowhead": 0,
           "arrowwidth": 1
          },
          "autotypenumbers": "strict",
          "coloraxis": {
           "colorbar": {
            "outlinewidth": 1,
            "tickcolor": "rgb(36,36,36)",
            "ticks": "outside"
           }
          },
          "colorscale": {
           "diverging": [
            [
             0,
             "rgb(103,0,31)"
            ],
            [
             0.1,
             "rgb(178,24,43)"
            ],
            [
             0.2,
             "rgb(214,96,77)"
            ],
            [
             0.3,
             "rgb(244,165,130)"
            ],
            [
             0.4,
             "rgb(253,219,199)"
            ],
            [
             0.5,
             "rgb(247,247,247)"
            ],
            [
             0.6,
             "rgb(209,229,240)"
            ],
            [
             0.7,
             "rgb(146,197,222)"
            ],
            [
             0.8,
             "rgb(67,147,195)"
            ],
            [
             0.9,
             "rgb(33,102,172)"
            ],
            [
             1,
             "rgb(5,48,97)"
            ]
           ],
           "sequential": [
            [
             0,
             "#440154"
            ],
            [
             0.1111111111111111,
             "#482878"
            ],
            [
             0.2222222222222222,
             "#3e4989"
            ],
            [
             0.3333333333333333,
             "#31688e"
            ],
            [
             0.4444444444444444,
             "#26828e"
            ],
            [
             0.5555555555555556,
             "#1f9e89"
            ],
            [
             0.6666666666666666,
             "#35b779"
            ],
            [
             0.7777777777777778,
             "#6ece58"
            ],
            [
             0.8888888888888888,
             "#b5de2b"
            ],
            [
             1,
             "#fde725"
            ]
           ],
           "sequentialminus": [
            [
             0,
             "#440154"
            ],
            [
             0.1111111111111111,
             "#482878"
            ],
            [
             0.2222222222222222,
             "#3e4989"
            ],
            [
             0.3333333333333333,
             "#31688e"
            ],
            [
             0.4444444444444444,
             "#26828e"
            ],
            [
             0.5555555555555556,
             "#1f9e89"
            ],
            [
             0.6666666666666666,
             "#35b779"
            ],
            [
             0.7777777777777778,
             "#6ece58"
            ],
            [
             0.8888888888888888,
             "#b5de2b"
            ],
            [
             1,
             "#fde725"
            ]
           ]
          },
          "colorway": [
           "#1F77B4",
           "#FF7F0E",
           "#2CA02C",
           "#D62728",
           "#9467BD",
           "#8C564B",
           "#E377C2",
           "#7F7F7F",
           "#BCBD22",
           "#17BECF"
          ],
          "font": {
           "color": "rgb(36,36,36)"
          },
          "geo": {
           "bgcolor": "white",
           "lakecolor": "white",
           "landcolor": "white",
           "showlakes": true,
           "showland": true,
           "subunitcolor": "white"
          },
          "hoverlabel": {
           "align": "left"
          },
          "hovermode": "closest",
          "mapbox": {
           "style": "light"
          },
          "paper_bgcolor": "white",
          "plot_bgcolor": "white",
          "polar": {
           "angularaxis": {
            "gridcolor": "rgb(232,232,232)",
            "linecolor": "rgb(36,36,36)",
            "showgrid": false,
            "showline": true,
            "ticks": "outside"
           },
           "bgcolor": "white",
           "radialaxis": {
            "gridcolor": "rgb(232,232,232)",
            "linecolor": "rgb(36,36,36)",
            "showgrid": false,
            "showline": true,
            "ticks": "outside"
           }
          },
          "scene": {
           "xaxis": {
            "backgroundcolor": "white",
            "gridcolor": "rgb(232,232,232)",
            "gridwidth": 2,
            "linecolor": "rgb(36,36,36)",
            "showbackground": true,
            "showgrid": false,
            "showline": true,
            "ticks": "outside",
            "zeroline": false,
            "zerolinecolor": "rgb(36,36,36)"
           },
           "yaxis": {
            "backgroundcolor": "white",
            "gridcolor": "rgb(232,232,232)",
            "gridwidth": 2,
            "linecolor": "rgb(36,36,36)",
            "showbackground": true,
            "showgrid": false,
            "showline": true,
            "ticks": "outside",
            "zeroline": false,
            "zerolinecolor": "rgb(36,36,36)"
           },
           "zaxis": {
            "backgroundcolor": "white",
            "gridcolor": "rgb(232,232,232)",
            "gridwidth": 2,
            "linecolor": "rgb(36,36,36)",
            "showbackground": true,
            "showgrid": false,
            "showline": true,
            "ticks": "outside",
            "zeroline": false,
            "zerolinecolor": "rgb(36,36,36)"
           }
          },
          "shapedefaults": {
           "fillcolor": "black",
           "line": {
            "width": 0
           },
           "opacity": 0.3
          },
          "ternary": {
           "aaxis": {
            "gridcolor": "rgb(232,232,232)",
            "linecolor": "rgb(36,36,36)",
            "showgrid": false,
            "showline": true,
            "ticks": "outside"
           },
           "baxis": {
            "gridcolor": "rgb(232,232,232)",
            "linecolor": "rgb(36,36,36)",
            "showgrid": false,
            "showline": true,
            "ticks": "outside"
           },
           "bgcolor": "white",
           "caxis": {
            "gridcolor": "rgb(232,232,232)",
            "linecolor": "rgb(36,36,36)",
            "showgrid": false,
            "showline": true,
            "ticks": "outside"
           }
          },
          "title": {
           "x": 0.05
          },
          "xaxis": {
           "automargin": true,
           "gridcolor": "rgb(232,232,232)",
           "linecolor": "rgb(36,36,36)",
           "showgrid": false,
           "showline": true,
           "ticks": "outside",
           "title": {
            "standoff": 15
           },
           "zeroline": false,
           "zerolinecolor": "rgb(36,36,36)"
          },
          "yaxis": {
           "automargin": true,
           "gridcolor": "rgb(232,232,232)",
           "linecolor": "rgb(36,36,36)",
           "showgrid": false,
           "showline": true,
           "ticks": "outside",
           "title": {
            "standoff": 15
           },
           "zeroline": false,
           "zerolinecolor": "rgb(36,36,36)"
          }
         }
        },
        "title": {
         "font": {
          "size": 20
         }
        }
       }
      }
     },
     "metadata": {},
     "output_type": "display_data"
    },
    {
     "data": {
      "application/vnd.plotly.v1+json": {
       "config": {
        "plotlyServerURL": "https://plot.ly"
       },
       "data": [
        {
         "hovertemplate": "Fuel Flow: %{y:.2f} kg/s<br>Time: %{x:.0f} s<extra></extra>",
         "line": {
          "color": "rgba(255,0,0,0.3)"
         },
         "marker": {
          "color": "#C44E52"
         },
         "mode": "lines+markers",
         "name": "Fuel Flow (kg/s)",
         "text": [
          "Flat Start",
          "Idle/Taxi",
          "Take-Off",
          "Climb Out",
          "Cruise",
          "Descent",
          "Flat End"
         ],
         "type": "scatter",
         "x": [
          0,
          150,
          315,
          780,
          3030,
          5430,
          6030
         ],
         "y": [
          0.12,
          0.12,
          1.14,
          0.65,
          0.95,
          0.34,
          0.34
         ]
        },
        {
         "fill": "tozeroy",
         "hovertemplate": "Fuel Flow: %{y:.2f} kg/s<br>Time: %{x:.0f} s<extra></extra>",
         "line": {
          "color": "rgba(255,0,0,0.3)"
         },
         "marker": {
          "color": "#C44E52"
         },
         "mode": "lines",
         "name": "Fuel Used (kg)",
         "text": [
          "Flat Start",
          "Idle/Taxi",
          "Take-Off",
          "Climb Out",
          "Cruise",
          "Descent",
          "Flat End"
         ],
         "type": "scatter",
         "x": [
          0,
          150,
          315,
          780,
          3030,
          5430,
          6030
         ],
         "y": [
          0.12,
          0.12,
          1.14,
          0.65,
          0.95,
          0.34,
          0.34
         ]
        }
       ],
       "layout": {
        "showlegend": true,
        "template": {
         "data": {
          "bar": [
           {
            "error_x": {
             "color": "rgb(36,36,36)"
            },
            "error_y": {
             "color": "rgb(36,36,36)"
            },
            "marker": {
             "line": {
              "color": "white",
              "width": 0.5
             },
             "pattern": {
              "fillmode": "overlay",
              "size": 10,
              "solidity": 0.2
             }
            },
            "type": "bar"
           }
          ],
          "barpolar": [
           {
            "marker": {
             "line": {
              "color": "white",
              "width": 0.5
             },
             "pattern": {
              "fillmode": "overlay",
              "size": 10,
              "solidity": 0.2
             }
            },
            "type": "barpolar"
           }
          ],
          "carpet": [
           {
            "aaxis": {
             "endlinecolor": "rgb(36,36,36)",
             "gridcolor": "white",
             "linecolor": "white",
             "minorgridcolor": "white",
             "startlinecolor": "rgb(36,36,36)"
            },
            "baxis": {
             "endlinecolor": "rgb(36,36,36)",
             "gridcolor": "white",
             "linecolor": "white",
             "minorgridcolor": "white",
             "startlinecolor": "rgb(36,36,36)"
            },
            "type": "carpet"
           }
          ],
          "choropleth": [
           {
            "colorbar": {
             "outlinewidth": 1,
             "tickcolor": "rgb(36,36,36)",
             "ticks": "outside"
            },
            "type": "choropleth"
           }
          ],
          "contour": [
           {
            "colorbar": {
             "outlinewidth": 1,
             "tickcolor": "rgb(36,36,36)",
             "ticks": "outside"
            },
            "colorscale": [
             [
              0,
              "#440154"
             ],
             [
              0.1111111111111111,
              "#482878"
             ],
             [
              0.2222222222222222,
              "#3e4989"
             ],
             [
              0.3333333333333333,
              "#31688e"
             ],
             [
              0.4444444444444444,
              "#26828e"
             ],
             [
              0.5555555555555556,
              "#1f9e89"
             ],
             [
              0.6666666666666666,
              "#35b779"
             ],
             [
              0.7777777777777778,
              "#6ece58"
             ],
             [
              0.8888888888888888,
              "#b5de2b"
             ],
             [
              1,
              "#fde725"
             ]
            ],
            "type": "contour"
           }
          ],
          "contourcarpet": [
           {
            "colorbar": {
             "outlinewidth": 1,
             "tickcolor": "rgb(36,36,36)",
             "ticks": "outside"
            },
            "type": "contourcarpet"
           }
          ],
          "heatmap": [
           {
            "colorbar": {
             "outlinewidth": 1,
             "tickcolor": "rgb(36,36,36)",
             "ticks": "outside"
            },
            "colorscale": [
             [
              0,
              "#440154"
             ],
             [
              0.1111111111111111,
              "#482878"
             ],
             [
              0.2222222222222222,
              "#3e4989"
             ],
             [
              0.3333333333333333,
              "#31688e"
             ],
             [
              0.4444444444444444,
              "#26828e"
             ],
             [
              0.5555555555555556,
              "#1f9e89"
             ],
             [
              0.6666666666666666,
              "#35b779"
             ],
             [
              0.7777777777777778,
              "#6ece58"
             ],
             [
              0.8888888888888888,
              "#b5de2b"
             ],
             [
              1,
              "#fde725"
             ]
            ],
            "type": "heatmap"
           }
          ],
          "histogram": [
           {
            "marker": {
             "line": {
              "color": "white",
              "width": 0.6
             }
            },
            "type": "histogram"
           }
          ],
          "histogram2d": [
           {
            "colorbar": {
             "outlinewidth": 1,
             "tickcolor": "rgb(36,36,36)",
             "ticks": "outside"
            },
            "colorscale": [
             [
              0,
              "#440154"
             ],
             [
              0.1111111111111111,
              "#482878"
             ],
             [
              0.2222222222222222,
              "#3e4989"
             ],
             [
              0.3333333333333333,
              "#31688e"
             ],
             [
              0.4444444444444444,
              "#26828e"
             ],
             [
              0.5555555555555556,
              "#1f9e89"
             ],
             [
              0.6666666666666666,
              "#35b779"
             ],
             [
              0.7777777777777778,
              "#6ece58"
             ],
             [
              0.8888888888888888,
              "#b5de2b"
             ],
             [
              1,
              "#fde725"
             ]
            ],
            "type": "histogram2d"
           }
          ],
          "histogram2dcontour": [
           {
            "colorbar": {
             "outlinewidth": 1,
             "tickcolor": "rgb(36,36,36)",
             "ticks": "outside"
            },
            "colorscale": [
             [
              0,
              "#440154"
             ],
             [
              0.1111111111111111,
              "#482878"
             ],
             [
              0.2222222222222222,
              "#3e4989"
             ],
             [
              0.3333333333333333,
              "#31688e"
             ],
             [
              0.4444444444444444,
              "#26828e"
             ],
             [
              0.5555555555555556,
              "#1f9e89"
             ],
             [
              0.6666666666666666,
              "#35b779"
             ],
             [
              0.7777777777777778,
              "#6ece58"
             ],
             [
              0.8888888888888888,
              "#b5de2b"
             ],
             [
              1,
              "#fde725"
             ]
            ],
            "type": "histogram2dcontour"
           }
          ],
          "mesh3d": [
           {
            "colorbar": {
             "outlinewidth": 1,
             "tickcolor": "rgb(36,36,36)",
             "ticks": "outside"
            },
            "type": "mesh3d"
           }
          ],
          "parcoords": [
           {
            "line": {
             "colorbar": {
              "outlinewidth": 1,
              "tickcolor": "rgb(36,36,36)",
              "ticks": "outside"
             }
            },
            "type": "parcoords"
           }
          ],
          "pie": [
           {
            "automargin": true,
            "type": "pie"
           }
          ],
          "scatter": [
           {
            "fillpattern": {
             "fillmode": "overlay",
             "size": 10,
             "solidity": 0.2
            },
            "type": "scatter"
           }
          ],
          "scatter3d": [
           {
            "line": {
             "colorbar": {
              "outlinewidth": 1,
              "tickcolor": "rgb(36,36,36)",
              "ticks": "outside"
             }
            },
            "marker": {
             "colorbar": {
              "outlinewidth": 1,
              "tickcolor": "rgb(36,36,36)",
              "ticks": "outside"
             }
            },
            "type": "scatter3d"
           }
          ],
          "scattercarpet": [
           {
            "marker": {
             "colorbar": {
              "outlinewidth": 1,
              "tickcolor": "rgb(36,36,36)",
              "ticks": "outside"
             }
            },
            "type": "scattercarpet"
           }
          ],
          "scattergeo": [
           {
            "marker": {
             "colorbar": {
              "outlinewidth": 1,
              "tickcolor": "rgb(36,36,36)",
              "ticks": "outside"
             }
            },
            "type": "scattergeo"
           }
          ],
          "scattergl": [
           {
            "marker": {
             "colorbar": {
              "outlinewidth": 1,
              "tickcolor": "rgb(36,36,36)",
              "ticks": "outside"
             }
            },
            "type": "scattergl"
           }
          ],
          "scattermap": [
           {
            "marker": {
             "colorbar": {
              "outlinewidth": 1,
              "tickcolor": "rgb(36,36,36)",
              "ticks": "outside"
             }
            },
            "type": "scattermap"
           }
          ],
          "scattermapbox": [
           {
            "marker": {
             "colorbar": {
              "outlinewidth": 1,
              "tickcolor": "rgb(36,36,36)",
              "ticks": "outside"
             }
            },
            "type": "scattermapbox"
           }
          ],
          "scatterpolar": [
           {
            "marker": {
             "colorbar": {
              "outlinewidth": 1,
              "tickcolor": "rgb(36,36,36)",
              "ticks": "outside"
             }
            },
            "type": "scatterpolar"
           }
          ],
          "scatterpolargl": [
           {
            "marker": {
             "colorbar": {
              "outlinewidth": 1,
              "tickcolor": "rgb(36,36,36)",
              "ticks": "outside"
             }
            },
            "type": "scatterpolargl"
           }
          ],
          "scatterternary": [
           {
            "marker": {
             "colorbar": {
              "outlinewidth": 1,
              "tickcolor": "rgb(36,36,36)",
              "ticks": "outside"
             }
            },
            "type": "scatterternary"
           }
          ],
          "surface": [
           {
            "colorbar": {
             "outlinewidth": 1,
             "tickcolor": "rgb(36,36,36)",
             "ticks": "outside"
            },
            "colorscale": [
             [
              0,
              "#440154"
             ],
             [
              0.1111111111111111,
              "#482878"
             ],
             [
              0.2222222222222222,
              "#3e4989"
             ],
             [
              0.3333333333333333,
              "#31688e"
             ],
             [
              0.4444444444444444,
              "#26828e"
             ],
             [
              0.5555555555555556,
              "#1f9e89"
             ],
             [
              0.6666666666666666,
              "#35b779"
             ],
             [
              0.7777777777777778,
              "#6ece58"
             ],
             [
              0.8888888888888888,
              "#b5de2b"
             ],
             [
              1,
              "#fde725"
             ]
            ],
            "type": "surface"
           }
          ],
          "table": [
           {
            "cells": {
             "fill": {
              "color": "rgb(237,237,237)"
             },
             "line": {
              "color": "white"
             }
            },
            "header": {
             "fill": {
              "color": "rgb(217,217,217)"
             },
             "line": {
              "color": "white"
             }
            },
            "type": "table"
           }
          ]
         },
         "layout": {
          "annotationdefaults": {
           "arrowhead": 0,
           "arrowwidth": 1
          },
          "autotypenumbers": "strict",
          "coloraxis": {
           "colorbar": {
            "outlinewidth": 1,
            "tickcolor": "rgb(36,36,36)",
            "ticks": "outside"
           }
          },
          "colorscale": {
           "diverging": [
            [
             0,
             "rgb(103,0,31)"
            ],
            [
             0.1,
             "rgb(178,24,43)"
            ],
            [
             0.2,
             "rgb(214,96,77)"
            ],
            [
             0.3,
             "rgb(244,165,130)"
            ],
            [
             0.4,
             "rgb(253,219,199)"
            ],
            [
             0.5,
             "rgb(247,247,247)"
            ],
            [
             0.6,
             "rgb(209,229,240)"
            ],
            [
             0.7,
             "rgb(146,197,222)"
            ],
            [
             0.8,
             "rgb(67,147,195)"
            ],
            [
             0.9,
             "rgb(33,102,172)"
            ],
            [
             1,
             "rgb(5,48,97)"
            ]
           ],
           "sequential": [
            [
             0,
             "#440154"
            ],
            [
             0.1111111111111111,
             "#482878"
            ],
            [
             0.2222222222222222,
             "#3e4989"
            ],
            [
             0.3333333333333333,
             "#31688e"
            ],
            [
             0.4444444444444444,
             "#26828e"
            ],
            [
             0.5555555555555556,
             "#1f9e89"
            ],
            [
             0.6666666666666666,
             "#35b779"
            ],
            [
             0.7777777777777778,
             "#6ece58"
            ],
            [
             0.8888888888888888,
             "#b5de2b"
            ],
            [
             1,
             "#fde725"
            ]
           ],
           "sequentialminus": [
            [
             0,
             "#440154"
            ],
            [
             0.1111111111111111,
             "#482878"
            ],
            [
             0.2222222222222222,
             "#3e4989"
            ],
            [
             0.3333333333333333,
             "#31688e"
            ],
            [
             0.4444444444444444,
             "#26828e"
            ],
            [
             0.5555555555555556,
             "#1f9e89"
            ],
            [
             0.6666666666666666,
             "#35b779"
            ],
            [
             0.7777777777777778,
             "#6ece58"
            ],
            [
             0.8888888888888888,
             "#b5de2b"
            ],
            [
             1,
             "#fde725"
            ]
           ]
          },
          "colorway": [
           "#1F77B4",
           "#FF7F0E",
           "#2CA02C",
           "#D62728",
           "#9467BD",
           "#8C564B",
           "#E377C2",
           "#7F7F7F",
           "#BCBD22",
           "#17BECF"
          ],
          "font": {
           "color": "rgb(36,36,36)"
          },
          "geo": {
           "bgcolor": "white",
           "lakecolor": "white",
           "landcolor": "white",
           "showlakes": true,
           "showland": true,
           "subunitcolor": "white"
          },
          "hoverlabel": {
           "align": "left"
          },
          "hovermode": "closest",
          "mapbox": {
           "style": "light"
          },
          "paper_bgcolor": "white",
          "plot_bgcolor": "white",
          "polar": {
           "angularaxis": {
            "gridcolor": "rgb(232,232,232)",
            "linecolor": "rgb(36,36,36)",
            "showgrid": false,
            "showline": true,
            "ticks": "outside"
           },
           "bgcolor": "white",
           "radialaxis": {
            "gridcolor": "rgb(232,232,232)",
            "linecolor": "rgb(36,36,36)",
            "showgrid": false,
            "showline": true,
            "ticks": "outside"
           }
          },
          "scene": {
           "xaxis": {
            "backgroundcolor": "white",
            "gridcolor": "rgb(232,232,232)",
            "gridwidth": 2,
            "linecolor": "rgb(36,36,36)",
            "showbackground": true,
            "showgrid": false,
            "showline": true,
            "ticks": "outside",
            "zeroline": false,
            "zerolinecolor": "rgb(36,36,36)"
           },
           "yaxis": {
            "backgroundcolor": "white",
            "gridcolor": "rgb(232,232,232)",
            "gridwidth": 2,
            "linecolor": "rgb(36,36,36)",
            "showbackground": true,
            "showgrid": false,
            "showline": true,
            "ticks": "outside",
            "zeroline": false,
            "zerolinecolor": "rgb(36,36,36)"
           },
           "zaxis": {
            "backgroundcolor": "white",
            "gridcolor": "rgb(232,232,232)",
            "gridwidth": 2,
            "linecolor": "rgb(36,36,36)",
            "showbackground": true,
            "showgrid": false,
            "showline": true,
            "ticks": "outside",
            "zeroline": false,
            "zerolinecolor": "rgb(36,36,36)"
           }
          },
          "shapedefaults": {
           "fillcolor": "black",
           "line": {
            "width": 0
           },
           "opacity": 0.3
          },
          "ternary": {
           "aaxis": {
            "gridcolor": "rgb(232,232,232)",
            "linecolor": "rgb(36,36,36)",
            "showgrid": false,
            "showline": true,
            "ticks": "outside"
           },
           "baxis": {
            "gridcolor": "rgb(232,232,232)",
            "linecolor": "rgb(36,36,36)",
            "showgrid": false,
            "showline": true,
            "ticks": "outside"
           },
           "bgcolor": "white",
           "caxis": {
            "gridcolor": "rgb(232,232,232)",
            "linecolor": "rgb(36,36,36)",
            "showgrid": false,
            "showline": true,
            "ticks": "outside"
           }
          },
          "title": {
           "x": 0.05
          },
          "xaxis": {
           "automargin": true,
           "gridcolor": "rgb(232,232,232)",
           "linecolor": "rgb(36,36,36)",
           "showgrid": false,
           "showline": true,
           "ticks": "outside",
           "title": {
            "standoff": 15
           },
           "zeroline": false,
           "zerolinecolor": "rgb(36,36,36)"
          },
          "yaxis": {
           "automargin": true,
           "gridcolor": "rgb(232,232,232)",
           "linecolor": "rgb(36,36,36)",
           "showgrid": false,
           "showline": true,
           "ticks": "outside",
           "title": {
            "standoff": 15
           },
           "zeroline": false,
           "zerolinecolor": "rgb(36,36,36)"
          }
         }
        },
        "title": {
         "text": "<b>Fuel Flow (kg/s) over Time (s)</b><br><sup>Midpoints used for phase-level fuel flow; extended flat to full mission time</sup>"
        },
        "xaxis": {
         "gridcolor": "lightgrey",
         "gridwidth": 1,
         "range": [
          0,
          6030
         ],
         "showgrid": true,
         "title": {
          "text": "Time (s)"
         }
        },
        "yaxis": {
         "gridcolor": "lightgrey",
         "gridwidth": 1,
         "showgrid": true,
         "title": {
          "text": "Fuel Flow (kg/s)"
         }
        }
       }
      }
     },
     "metadata": {},
     "output_type": "display_data"
    },
    {
     "data": {
      "application/vnd.plotly.v1+json": {
       "config": {
        "plotlyServerURL": "https://plot.ly"
       },
       "data": [
        {
         "hovertemplate": "NOx Emitted: %{y:.2f} g<br>Time: %{x:.0f} s<br>Phase: %{text}<extra></extra>",
         "line": {
          "color": "#E69F00"
         },
         "marker": {
          "color": "#E69F00"
         },
         "mode": "lines+markers",
         "name": "NOx Emitted (g)",
         "text": [
          "Flat Start",
          "Idle/Taxi",
          "Take-Off",
          "Climb Out",
          "Cruise",
          "Descent",
          "Flat End"
         ],
         "type": "scatter",
         "x": [
          0,
          150,
          315,
          780,
          3030,
          5430,
          6030
         ],
         "y": [
          140.4,
          140.4,
          629.28,
          7897.5,
          46512,
          2652,
          2652
         ]
        },
        {
         "hovertemplate": "NOx Emitted: %{y:.2f} g<br>Time: %{x:.0f} s<br>Phase: %{text}<extra></extra>",
         "line": {
          "color": "#56B4E9"
         },
         "marker": {
          "color": "#56B4E9"
         },
         "mode": "lines+markers",
         "name": "CO Emitted (g)",
         "text": [
          "Flat Start",
          "Idle/Taxi",
          "Take-Off",
          "Climb Out",
          "Cruise",
          "Descent",
          "Flat End"
         ],
         "type": "scatter",
         "x": [
          0,
          150,
          315,
          780,
          3030,
          5430,
          6030
         ],
         "y": [
          1443.6,
          1443.6,
          47.88,
          585,
          12312,
          11872.8,
          11872.8
         ]
        },
        {
         "hovertemplate": "NOx Emitted: %{y:.2f} g<br>Time: %{x:.0f} s<br>Phase: %{text}<extra></extra>",
         "line": {
          "color": "#009E73"
         },
         "marker": {
          "color": "#009E73"
         },
         "mode": "lines+markers",
         "name": "HC Emitted (g)",
         "text": [
          "Flat Start",
          "Idle/Taxi",
          "Take-Off",
          "Climb Out",
          "Cruise",
          "Descent",
          "Flat End"
         ],
         "type": "scatter",
         "x": [
          0,
          150,
          315,
          780,
          3030,
          5430,
          6030
         ],
         "y": [
          129.6,
          129.6,
          3.42,
          117,
          684,
          2162.4,
          2162.4
         ]
        }
       ],
       "layout": {
        "showlegend": true,
        "template": {
         "data": {
          "bar": [
           {
            "error_x": {
             "color": "rgb(36,36,36)"
            },
            "error_y": {
             "color": "rgb(36,36,36)"
            },
            "marker": {
             "line": {
              "color": "white",
              "width": 0.5
             },
             "pattern": {
              "fillmode": "overlay",
              "size": 10,
              "solidity": 0.2
             }
            },
            "type": "bar"
           }
          ],
          "barpolar": [
           {
            "marker": {
             "line": {
              "color": "white",
              "width": 0.5
             },
             "pattern": {
              "fillmode": "overlay",
              "size": 10,
              "solidity": 0.2
             }
            },
            "type": "barpolar"
           }
          ],
          "carpet": [
           {
            "aaxis": {
             "endlinecolor": "rgb(36,36,36)",
             "gridcolor": "white",
             "linecolor": "white",
             "minorgridcolor": "white",
             "startlinecolor": "rgb(36,36,36)"
            },
            "baxis": {
             "endlinecolor": "rgb(36,36,36)",
             "gridcolor": "white",
             "linecolor": "white",
             "minorgridcolor": "white",
             "startlinecolor": "rgb(36,36,36)"
            },
            "type": "carpet"
           }
          ],
          "choropleth": [
           {
            "colorbar": {
             "outlinewidth": 1,
             "tickcolor": "rgb(36,36,36)",
             "ticks": "outside"
            },
            "type": "choropleth"
           }
          ],
          "contour": [
           {
            "colorbar": {
             "outlinewidth": 1,
             "tickcolor": "rgb(36,36,36)",
             "ticks": "outside"
            },
            "colorscale": [
             [
              0,
              "#440154"
             ],
             [
              0.1111111111111111,
              "#482878"
             ],
             [
              0.2222222222222222,
              "#3e4989"
             ],
             [
              0.3333333333333333,
              "#31688e"
             ],
             [
              0.4444444444444444,
              "#26828e"
             ],
             [
              0.5555555555555556,
              "#1f9e89"
             ],
             [
              0.6666666666666666,
              "#35b779"
             ],
             [
              0.7777777777777778,
              "#6ece58"
             ],
             [
              0.8888888888888888,
              "#b5de2b"
             ],
             [
              1,
              "#fde725"
             ]
            ],
            "type": "contour"
           }
          ],
          "contourcarpet": [
           {
            "colorbar": {
             "outlinewidth": 1,
             "tickcolor": "rgb(36,36,36)",
             "ticks": "outside"
            },
            "type": "contourcarpet"
           }
          ],
          "heatmap": [
           {
            "colorbar": {
             "outlinewidth": 1,
             "tickcolor": "rgb(36,36,36)",
             "ticks": "outside"
            },
            "colorscale": [
             [
              0,
              "#440154"
             ],
             [
              0.1111111111111111,
              "#482878"
             ],
             [
              0.2222222222222222,
              "#3e4989"
             ],
             [
              0.3333333333333333,
              "#31688e"
             ],
             [
              0.4444444444444444,
              "#26828e"
             ],
             [
              0.5555555555555556,
              "#1f9e89"
             ],
             [
              0.6666666666666666,
              "#35b779"
             ],
             [
              0.7777777777777778,
              "#6ece58"
             ],
             [
              0.8888888888888888,
              "#b5de2b"
             ],
             [
              1,
              "#fde725"
             ]
            ],
            "type": "heatmap"
           }
          ],
          "histogram": [
           {
            "marker": {
             "line": {
              "color": "white",
              "width": 0.6
             }
            },
            "type": "histogram"
           }
          ],
          "histogram2d": [
           {
            "colorbar": {
             "outlinewidth": 1,
             "tickcolor": "rgb(36,36,36)",
             "ticks": "outside"
            },
            "colorscale": [
             [
              0,
              "#440154"
             ],
             [
              0.1111111111111111,
              "#482878"
             ],
             [
              0.2222222222222222,
              "#3e4989"
             ],
             [
              0.3333333333333333,
              "#31688e"
             ],
             [
              0.4444444444444444,
              "#26828e"
             ],
             [
              0.5555555555555556,
              "#1f9e89"
             ],
             [
              0.6666666666666666,
              "#35b779"
             ],
             [
              0.7777777777777778,
              "#6ece58"
             ],
             [
              0.8888888888888888,
              "#b5de2b"
             ],
             [
              1,
              "#fde725"
             ]
            ],
            "type": "histogram2d"
           }
          ],
          "histogram2dcontour": [
           {
            "colorbar": {
             "outlinewidth": 1,
             "tickcolor": "rgb(36,36,36)",
             "ticks": "outside"
            },
            "colorscale": [
             [
              0,
              "#440154"
             ],
             [
              0.1111111111111111,
              "#482878"
             ],
             [
              0.2222222222222222,
              "#3e4989"
             ],
             [
              0.3333333333333333,
              "#31688e"
             ],
             [
              0.4444444444444444,
              "#26828e"
             ],
             [
              0.5555555555555556,
              "#1f9e89"
             ],
             [
              0.6666666666666666,
              "#35b779"
             ],
             [
              0.7777777777777778,
              "#6ece58"
             ],
             [
              0.8888888888888888,
              "#b5de2b"
             ],
             [
              1,
              "#fde725"
             ]
            ],
            "type": "histogram2dcontour"
           }
          ],
          "mesh3d": [
           {
            "colorbar": {
             "outlinewidth": 1,
             "tickcolor": "rgb(36,36,36)",
             "ticks": "outside"
            },
            "type": "mesh3d"
           }
          ],
          "parcoords": [
           {
            "line": {
             "colorbar": {
              "outlinewidth": 1,
              "tickcolor": "rgb(36,36,36)",
              "ticks": "outside"
             }
            },
            "type": "parcoords"
           }
          ],
          "pie": [
           {
            "automargin": true,
            "type": "pie"
           }
          ],
          "scatter": [
           {
            "fillpattern": {
             "fillmode": "overlay",
             "size": 10,
             "solidity": 0.2
            },
            "type": "scatter"
           }
          ],
          "scatter3d": [
           {
            "line": {
             "colorbar": {
              "outlinewidth": 1,
              "tickcolor": "rgb(36,36,36)",
              "ticks": "outside"
             }
            },
            "marker": {
             "colorbar": {
              "outlinewidth": 1,
              "tickcolor": "rgb(36,36,36)",
              "ticks": "outside"
             }
            },
            "type": "scatter3d"
           }
          ],
          "scattercarpet": [
           {
            "marker": {
             "colorbar": {
              "outlinewidth": 1,
              "tickcolor": "rgb(36,36,36)",
              "ticks": "outside"
             }
            },
            "type": "scattercarpet"
           }
          ],
          "scattergeo": [
           {
            "marker": {
             "colorbar": {
              "outlinewidth": 1,
              "tickcolor": "rgb(36,36,36)",
              "ticks": "outside"
             }
            },
            "type": "scattergeo"
           }
          ],
          "scattergl": [
           {
            "marker": {
             "colorbar": {
              "outlinewidth": 1,
              "tickcolor": "rgb(36,36,36)",
              "ticks": "outside"
             }
            },
            "type": "scattergl"
           }
          ],
          "scattermap": [
           {
            "marker": {
             "colorbar": {
              "outlinewidth": 1,
              "tickcolor": "rgb(36,36,36)",
              "ticks": "outside"
             }
            },
            "type": "scattermap"
           }
          ],
          "scattermapbox": [
           {
            "marker": {
             "colorbar": {
              "outlinewidth": 1,
              "tickcolor": "rgb(36,36,36)",
              "ticks": "outside"
             }
            },
            "type": "scattermapbox"
           }
          ],
          "scatterpolar": [
           {
            "marker": {
             "colorbar": {
              "outlinewidth": 1,
              "tickcolor": "rgb(36,36,36)",
              "ticks": "outside"
             }
            },
            "type": "scatterpolar"
           }
          ],
          "scatterpolargl": [
           {
            "marker": {
             "colorbar": {
              "outlinewidth": 1,
              "tickcolor": "rgb(36,36,36)",
              "ticks": "outside"
             }
            },
            "type": "scatterpolargl"
           }
          ],
          "scatterternary": [
           {
            "marker": {
             "colorbar": {
              "outlinewidth": 1,
              "tickcolor": "rgb(36,36,36)",
              "ticks": "outside"
             }
            },
            "type": "scatterternary"
           }
          ],
          "surface": [
           {
            "colorbar": {
             "outlinewidth": 1,
             "tickcolor": "rgb(36,36,36)",
             "ticks": "outside"
            },
            "colorscale": [
             [
              0,
              "#440154"
             ],
             [
              0.1111111111111111,
              "#482878"
             ],
             [
              0.2222222222222222,
              "#3e4989"
             ],
             [
              0.3333333333333333,
              "#31688e"
             ],
             [
              0.4444444444444444,
              "#26828e"
             ],
             [
              0.5555555555555556,
              "#1f9e89"
             ],
             [
              0.6666666666666666,
              "#35b779"
             ],
             [
              0.7777777777777778,
              "#6ece58"
             ],
             [
              0.8888888888888888,
              "#b5de2b"
             ],
             [
              1,
              "#fde725"
             ]
            ],
            "type": "surface"
           }
          ],
          "table": [
           {
            "cells": {
             "fill": {
              "color": "rgb(237,237,237)"
             },
             "line": {
              "color": "white"
             }
            },
            "header": {
             "fill": {
              "color": "rgb(217,217,217)"
             },
             "line": {
              "color": "white"
             }
            },
            "type": "table"
           }
          ]
         },
         "layout": {
          "annotationdefaults": {
           "arrowhead": 0,
           "arrowwidth": 1
          },
          "autotypenumbers": "strict",
          "coloraxis": {
           "colorbar": {
            "outlinewidth": 1,
            "tickcolor": "rgb(36,36,36)",
            "ticks": "outside"
           }
          },
          "colorscale": {
           "diverging": [
            [
             0,
             "rgb(103,0,31)"
            ],
            [
             0.1,
             "rgb(178,24,43)"
            ],
            [
             0.2,
             "rgb(214,96,77)"
            ],
            [
             0.3,
             "rgb(244,165,130)"
            ],
            [
             0.4,
             "rgb(253,219,199)"
            ],
            [
             0.5,
             "rgb(247,247,247)"
            ],
            [
             0.6,
             "rgb(209,229,240)"
            ],
            [
             0.7,
             "rgb(146,197,222)"
            ],
            [
             0.8,
             "rgb(67,147,195)"
            ],
            [
             0.9,
             "rgb(33,102,172)"
            ],
            [
             1,
             "rgb(5,48,97)"
            ]
           ],
           "sequential": [
            [
             0,
             "#440154"
            ],
            [
             0.1111111111111111,
             "#482878"
            ],
            [
             0.2222222222222222,
             "#3e4989"
            ],
            [
             0.3333333333333333,
             "#31688e"
            ],
            [
             0.4444444444444444,
             "#26828e"
            ],
            [
             0.5555555555555556,
             "#1f9e89"
            ],
            [
             0.6666666666666666,
             "#35b779"
            ],
            [
             0.7777777777777778,
             "#6ece58"
            ],
            [
             0.8888888888888888,
             "#b5de2b"
            ],
            [
             1,
             "#fde725"
            ]
           ],
           "sequentialminus": [
            [
             0,
             "#440154"
            ],
            [
             0.1111111111111111,
             "#482878"
            ],
            [
             0.2222222222222222,
             "#3e4989"
            ],
            [
             0.3333333333333333,
             "#31688e"
            ],
            [
             0.4444444444444444,
             "#26828e"
            ],
            [
             0.5555555555555556,
             "#1f9e89"
            ],
            [
             0.6666666666666666,
             "#35b779"
            ],
            [
             0.7777777777777778,
             "#6ece58"
            ],
            [
             0.8888888888888888,
             "#b5de2b"
            ],
            [
             1,
             "#fde725"
            ]
           ]
          },
          "colorway": [
           "#1F77B4",
           "#FF7F0E",
           "#2CA02C",
           "#D62728",
           "#9467BD",
           "#8C564B",
           "#E377C2",
           "#7F7F7F",
           "#BCBD22",
           "#17BECF"
          ],
          "font": {
           "color": "rgb(36,36,36)"
          },
          "geo": {
           "bgcolor": "white",
           "lakecolor": "white",
           "landcolor": "white",
           "showlakes": true,
           "showland": true,
           "subunitcolor": "white"
          },
          "hoverlabel": {
           "align": "left"
          },
          "hovermode": "closest",
          "mapbox": {
           "style": "light"
          },
          "paper_bgcolor": "white",
          "plot_bgcolor": "white",
          "polar": {
           "angularaxis": {
            "gridcolor": "rgb(232,232,232)",
            "linecolor": "rgb(36,36,36)",
            "showgrid": false,
            "showline": true,
            "ticks": "outside"
           },
           "bgcolor": "white",
           "radialaxis": {
            "gridcolor": "rgb(232,232,232)",
            "linecolor": "rgb(36,36,36)",
            "showgrid": false,
            "showline": true,
            "ticks": "outside"
           }
          },
          "scene": {
           "xaxis": {
            "backgroundcolor": "white",
            "gridcolor": "rgb(232,232,232)",
            "gridwidth": 2,
            "linecolor": "rgb(36,36,36)",
            "showbackground": true,
            "showgrid": false,
            "showline": true,
            "ticks": "outside",
            "zeroline": false,
            "zerolinecolor": "rgb(36,36,36)"
           },
           "yaxis": {
            "backgroundcolor": "white",
            "gridcolor": "rgb(232,232,232)",
            "gridwidth": 2,
            "linecolor": "rgb(36,36,36)",
            "showbackground": true,
            "showgrid": false,
            "showline": true,
            "ticks": "outside",
            "zeroline": false,
            "zerolinecolor": "rgb(36,36,36)"
           },
           "zaxis": {
            "backgroundcolor": "white",
            "gridcolor": "rgb(232,232,232)",
            "gridwidth": 2,
            "linecolor": "rgb(36,36,36)",
            "showbackground": true,
            "showgrid": false,
            "showline": true,
            "ticks": "outside",
            "zeroline": false,
            "zerolinecolor": "rgb(36,36,36)"
           }
          },
          "shapedefaults": {
           "fillcolor": "black",
           "line": {
            "width": 0
           },
           "opacity": 0.3
          },
          "ternary": {
           "aaxis": {
            "gridcolor": "rgb(232,232,232)",
            "linecolor": "rgb(36,36,36)",
            "showgrid": false,
            "showline": true,
            "ticks": "outside"
           },
           "baxis": {
            "gridcolor": "rgb(232,232,232)",
            "linecolor": "rgb(36,36,36)",
            "showgrid": false,
            "showline": true,
            "ticks": "outside"
           },
           "bgcolor": "white",
           "caxis": {
            "gridcolor": "rgb(232,232,232)",
            "linecolor": "rgb(36,36,36)",
            "showgrid": false,
            "showline": true,
            "ticks": "outside"
           }
          },
          "title": {
           "x": 0.05
          },
          "xaxis": {
           "automargin": true,
           "gridcolor": "rgb(232,232,232)",
           "linecolor": "rgb(36,36,36)",
           "showgrid": false,
           "showline": true,
           "ticks": "outside",
           "title": {
            "standoff": 15
           },
           "zeroline": false,
           "zerolinecolor": "rgb(36,36,36)"
          },
          "yaxis": {
           "automargin": true,
           "gridcolor": "rgb(232,232,232)",
           "linecolor": "rgb(36,36,36)",
           "showgrid": false,
           "showline": true,
           "ticks": "outside",
           "title": {
            "standoff": 15
           },
           "zeroline": false,
           "zerolinecolor": "rgb(36,36,36)"
          }
         }
        },
        "title": {
         "text": "<b>Emissions (g) over Time (s)</b><br><sup>Midpoints used for phase-level Emissions; extended flat to full mission time</sup>"
        },
        "xaxis": {
         "gridcolor": "lightgrey",
         "gridwidth": 1,
         "range": [
          0,
          6030
         ],
         "showgrid": true,
         "title": {
          "text": "Time (s)"
         }
        },
        "yaxis": {
         "gridcolor": "lightgrey",
         "gridwidth": 1,
         "minor": {
          "showgrid": true,
          "ticklen": 1
         },
         "showgrid": true,
         "title": {
          "text": "Emissions (g)"
         },
         "type": "log"
        }
       }
      }
     },
     "metadata": {},
     "output_type": "display_data"
    }
   ],
   "source": [
    "plot_bar_summary(summary_df)\n",
    "plot_pie_summary(summary_df)\n",
    "plot_fuel_flow_summary(summary_df)\n",
    "plot_emissions_line_summary(summary_df)"
   ]
  },
  {
   "cell_type": "code",
   "execution_count": 5,
   "id": "0cf0d93d",
   "metadata": {},
   "outputs": [
    {
     "name": "stdout",
     "output_type": "stream",
     "text": [
      "              name\n",
      "0         airports\n",
      "1  sqlite_sequence\n",
      "   id icao_code iata_code         name         city           country  \\\n",
      "0   1      AYGA       GKA       GOROKA       GOROKA  PAPUA NEW GUINEA   \n",
      "1   2      AYLA       LAE          N/A          LAE  PAPUA NEW GUINEA   \n",
      "2   3      AYMD       MAG       MADANG       MADANG  PAPUA NEW GUINEA   \n",
      "3   4      AYMH       HGU  MOUNT HAGEN  MOUNT HAGEN  PAPUA NEW GUINEA   \n",
      "4   5      AYNZ       LAE       NADZAB       NADZAB  PAPUA NEW GUINEA   \n",
      "\n",
      "   lat_deg  lat_min  lat_sec lat_dir  lon_deg  lon_min  lon_sec lon_dir  \\\n",
      "0        6        4       54       S      145       23       30       E   \n",
      "1        0        0        0       U        0        0        0       U   \n",
      "2        5       12       25       S      145       47       19       E   \n",
      "3        5       49       34       S      144       17       46       E   \n",
      "4        6       34       11       S      146       43       34       E   \n",
      "\n",
      "   altitude  lat_decimal  lon_decimal  \n",
      "0      1610       -6.082      145.392  \n",
      "1         0        0.000        0.000  \n",
      "2         7       -5.207      145.789  \n",
      "3      1643       -5.826      144.296  \n",
      "4        73       -6.570      146.726  \n"
     ]
    }
   ],
   "source": [
    "import sqlite3\n",
    "import pandas as pd\n",
    "\n",
    "# Connect to the SQLite database\n",
    "conn = sqlite3.connect(\"global_airports_sqlite.db\")\n",
    "\n",
    "# List available tables\n",
    "tables = pd.read_sql_query(\"SELECT name FROM sqlite_master WHERE type='table';\", conn)\n",
    "print(tables)\n",
    "\n",
    "# Read a specific table (replace 'airports' with actual table name after checking)\n",
    "df = pd.read_sql_query(\"SELECT * FROM airports;\", conn)\n",
    "\n",
    "# Preview the data\n",
    "print(df.head())\n",
    "\n",
    "# Close connection (optional, but recommended)\n",
    "conn.close()\n"
   ]
  },
  {
   "cell_type": "code",
   "execution_count": 4,
   "id": "fded8479",
   "metadata": {},
   "outputs": [
    {
     "ename": "NameError",
     "evalue": "name 'df' is not defined",
     "output_type": "error",
     "traceback": [
      "\u001b[0;31m---------------------------------------------------------------------------\u001b[0m",
      "\u001b[0;31mNameError\u001b[0m                                 Traceback (most recent call last)",
      "Cell \u001b[0;32mIn[4], line 1\u001b[0m\n\u001b[0;32m----> 1\u001b[0m filtered_df \u001b[38;5;241m=\u001b[39m \u001b[43mdf\u001b[49m[\n\u001b[1;32m      2\u001b[0m     (df[\u001b[38;5;124m'\u001b[39m\u001b[38;5;124mlat_decimal\u001b[39m\u001b[38;5;124m'\u001b[39m] \u001b[38;5;241m!=\u001b[39m \u001b[38;5;241m0\u001b[39m) \u001b[38;5;241m&\u001b[39m \n\u001b[1;32m      3\u001b[0m     (df[\u001b[38;5;124m'\u001b[39m\u001b[38;5;124mlon_decimal\u001b[39m\u001b[38;5;124m'\u001b[39m] \u001b[38;5;241m!=\u001b[39m \u001b[38;5;241m0\u001b[39m) \u001b[38;5;241m&\u001b[39m \n\u001b[1;32m      4\u001b[0m     (df[\u001b[38;5;124m'\u001b[39m\u001b[38;5;124micao_code\u001b[39m\u001b[38;5;124m'\u001b[39m]\u001b[38;5;241m.\u001b[39mnotnull())\n\u001b[1;32m      5\u001b[0m ]\n\u001b[1;32m      7\u001b[0m filtered_df[[\n\u001b[1;32m      8\u001b[0m     \u001b[38;5;124m'\u001b[39m\u001b[38;5;124micao_code\u001b[39m\u001b[38;5;124m'\u001b[39m, \u001b[38;5;124m'\u001b[39m\u001b[38;5;124miata_code\u001b[39m\u001b[38;5;124m'\u001b[39m, \u001b[38;5;124m'\u001b[39m\u001b[38;5;124mname\u001b[39m\u001b[38;5;124m'\u001b[39m, \u001b[38;5;124m'\u001b[39m\u001b[38;5;124mcity\u001b[39m\u001b[38;5;124m'\u001b[39m, \u001b[38;5;124m'\u001b[39m\u001b[38;5;124mcountry\u001b[39m\u001b[38;5;124m'\u001b[39m,\n\u001b[1;32m      9\u001b[0m     \u001b[38;5;124m'\u001b[39m\u001b[38;5;124mlat_decimal\u001b[39m\u001b[38;5;124m'\u001b[39m, \u001b[38;5;124m'\u001b[39m\u001b[38;5;124mlon_decimal\u001b[39m\u001b[38;5;124m'\u001b[39m, \u001b[38;5;124m'\u001b[39m\u001b[38;5;124maltitude\u001b[39m\u001b[38;5;124m'\u001b[39m\n\u001b[1;32m     10\u001b[0m ]]\u001b[38;5;241m.\u001b[39mto_csv(\u001b[38;5;124m\"\u001b[39m\u001b[38;5;124mdata/airports_cleaned.csv\u001b[39m\u001b[38;5;124m\"\u001b[39m, index\u001b[38;5;241m=\u001b[39m\u001b[38;5;28;01mFalse\u001b[39;00m)\n",
      "\u001b[0;31mNameError\u001b[0m: name 'df' is not defined"
     ]
    }
   ],
   "source": [
    "filtered_df = df[\n",
    "    (df['lat_decimal'] != 0) & \n",
    "    (df['lon_decimal'] != 0) & \n",
    "    (df['icao_code'].notnull())\n",
    "]\n",
    "\n",
    "filtered_df[[\n",
    "    'icao_code', 'iata_code', 'name', 'city', 'country',\n",
    "    'lat_decimal', 'lon_decimal', 'altitude'\n",
    "]].to_csv(\"data/airports_cleaned.csv\", index=False)\n"
   ]
  },
  {
   "cell_type": "code",
   "execution_count": 4,
   "id": "beeca4b9",
   "metadata": {},
   "outputs": [
    {
     "data": {
      "text/html": [
       "<div>\n",
       "<style scoped>\n",
       "    .dataframe tbody tr th:only-of-type {\n",
       "        vertical-align: middle;\n",
       "    }\n",
       "\n",
       "    .dataframe tbody tr th {\n",
       "        vertical-align: top;\n",
       "    }\n",
       "\n",
       "    .dataframe thead th {\n",
       "        text-align: right;\n",
       "    }\n",
       "</style>\n",
       "<table border=\"1\" class=\"dataframe\">\n",
       "  <thead>\n",
       "    <tr style=\"text-align: right;\">\n",
       "      <th></th>\n",
       "      <th>#</th>\n",
       "      <th>IDavion</th>\n",
       "      <th>JP</th>\n",
       "      <th>Production Aircraft</th>\n",
       "      <th>Manufacturer</th>\n",
       "      <th>TYPE</th>\n",
       "      <th>Version</th>\n",
       "      <th>Commercial Name</th>\n",
       "      <th>Modif. Number. air</th>\n",
       "      <th>Modif. descr. air</th>\n",
       "      <th>...</th>\n",
       "      <th>Lateral/Full Power(EPNdB)</th>\n",
       "      <th>Limit Lateral/Full Power(EPNdB)</th>\n",
       "      <th>Margin Lateral/Full Power(EPNdB)</th>\n",
       "      <th>Approach(EPNdB)</th>\n",
       "      <th>Limit APP(EPNdB)</th>\n",
       "      <th>Margin APP(EPNdB)</th>\n",
       "      <th>Interpolation FO</th>\n",
       "      <th>Interpolation Lateral/Full Power</th>\n",
       "      <th>Interpolation APP</th>\n",
       "      <th>Remarks</th>\n",
       "    </tr>\n",
       "  </thead>\n",
       "  <tbody>\n",
       "    <tr>\n",
       "      <th>0</th>\n",
       "      <td>1</td>\n",
       "      <td>AIRBUS_15281</td>\n",
       "      <td>J</td>\n",
       "      <td>Out of Production</td>\n",
       "      <td>AIRBUS</td>\n",
       "      <td>A300</td>\n",
       "      <td>B4-605R</td>\n",
       "      <td>NaN</td>\n",
       "      <td>13219</td>\n",
       "      <td>Recertification to Chapter 4</td>\n",
       "      <td>...</td>\n",
       "      <td>97.5</td>\n",
       "      <td>99.9</td>\n",
       "      <td>2.4</td>\n",
       "      <td>99.6</td>\n",
       "      <td>103.3</td>\n",
       "      <td>3.7</td>\n",
       "      <td>0</td>\n",
       "      <td>0</td>\n",
       "      <td>0</td>\n",
       "      <td>Weight variant n° 1, Dossier n° 00.X.009.10358...</td>\n",
       "    </tr>\n",
       "    <tr>\n",
       "      <th>1</th>\n",
       "      <td>2</td>\n",
       "      <td>AIRBUS_15282</td>\n",
       "      <td>J</td>\n",
       "      <td>Out of Production</td>\n",
       "      <td>AIRBUS</td>\n",
       "      <td>A300</td>\n",
       "      <td>B4-605R</td>\n",
       "      <td>NaN</td>\n",
       "      <td>13219</td>\n",
       "      <td>Recertification to Chapter 4</td>\n",
       "      <td>...</td>\n",
       "      <td>97.5</td>\n",
       "      <td>99.9</td>\n",
       "      <td>2.4</td>\n",
       "      <td>99.6</td>\n",
       "      <td>103.3</td>\n",
       "      <td>3.7</td>\n",
       "      <td>0</td>\n",
       "      <td>0</td>\n",
       "      <td>0</td>\n",
       "      <td>Weight variant n° 2, Dossier n° 00.X.009.10358...</td>\n",
       "    </tr>\n",
       "    <tr>\n",
       "      <th>2</th>\n",
       "      <td>3</td>\n",
       "      <td>AIRBUS_15283</td>\n",
       "      <td>J</td>\n",
       "      <td>Out of Production</td>\n",
       "      <td>AIRBUS</td>\n",
       "      <td>A300</td>\n",
       "      <td>B4-605R</td>\n",
       "      <td>NaN</td>\n",
       "      <td>13219</td>\n",
       "      <td>Recertification to Chapter 4</td>\n",
       "      <td>...</td>\n",
       "      <td>97.5</td>\n",
       "      <td>99.9</td>\n",
       "      <td>2.4</td>\n",
       "      <td>99.6</td>\n",
       "      <td>103.3</td>\n",
       "      <td>3.7</td>\n",
       "      <td>0</td>\n",
       "      <td>0</td>\n",
       "      <td>0</td>\n",
       "      <td>Weight variant n° 0, Dossier n° 00.X.009.10358...</td>\n",
       "    </tr>\n",
       "    <tr>\n",
       "      <th>3</th>\n",
       "      <td>4</td>\n",
       "      <td>AIRBUS_15284</td>\n",
       "      <td>J</td>\n",
       "      <td>Out of Production</td>\n",
       "      <td>AIRBUS</td>\n",
       "      <td>A300</td>\n",
       "      <td>B4-605R</td>\n",
       "      <td>NaN</td>\n",
       "      <td>13219</td>\n",
       "      <td>Recertification to Chapter 4</td>\n",
       "      <td>...</td>\n",
       "      <td>97.5</td>\n",
       "      <td>99.8</td>\n",
       "      <td>2.3</td>\n",
       "      <td>99.6</td>\n",
       "      <td>103.3</td>\n",
       "      <td>3.7</td>\n",
       "      <td>0</td>\n",
       "      <td>0</td>\n",
       "      <td>0</td>\n",
       "      <td>Weight variant n° 3, Dossier n° 00.X.009.10358...</td>\n",
       "    </tr>\n",
       "    <tr>\n",
       "      <th>4</th>\n",
       "      <td>5</td>\n",
       "      <td>AIRBUS_15285</td>\n",
       "      <td>J</td>\n",
       "      <td>Out of Production</td>\n",
       "      <td>AIRBUS</td>\n",
       "      <td>A300</td>\n",
       "      <td>B4-605R</td>\n",
       "      <td>NaN</td>\n",
       "      <td>13219</td>\n",
       "      <td>Recertification to Chapter 4</td>\n",
       "      <td>...</td>\n",
       "      <td>97.9</td>\n",
       "      <td>99.4</td>\n",
       "      <td>1.5</td>\n",
       "      <td>99.6</td>\n",
       "      <td>102.9</td>\n",
       "      <td>3.3</td>\n",
       "      <td>0</td>\n",
       "      <td>0</td>\n",
       "      <td>0</td>\n",
       "      <td>Weight variant n° 8, Dossier n° 00.X.009.10358...</td>\n",
       "    </tr>\n",
       "    <tr>\n",
       "      <th>5</th>\n",
       "      <td>6</td>\n",
       "      <td>AIRBUS_15298</td>\n",
       "      <td>J</td>\n",
       "      <td>Out of Production</td>\n",
       "      <td>AIRBUS</td>\n",
       "      <td>A300</td>\n",
       "      <td>B4-620</td>\n",
       "      <td>NaN</td>\n",
       "      <td>NaN</td>\n",
       "      <td>NaN</td>\n",
       "      <td>...</td>\n",
       "      <td>98.8</td>\n",
       "      <td>99.7</td>\n",
       "      <td>0.9</td>\n",
       "      <td>100.8</td>\n",
       "      <td>103.2</td>\n",
       "      <td>2.4</td>\n",
       "      <td>0</td>\n",
       "      <td>0</td>\n",
       "      <td>0</td>\n",
       "      <td>Weight variant n° 0, Dossier n° 00.X.009.10316...</td>\n",
       "    </tr>\n",
       "    <tr>\n",
       "      <th>6</th>\n",
       "      <td>7</td>\n",
       "      <td>AIRBUS_15299</td>\n",
       "      <td>J</td>\n",
       "      <td>Out of Production</td>\n",
       "      <td>AIRBUS</td>\n",
       "      <td>A300</td>\n",
       "      <td>B4-622</td>\n",
       "      <td>NaN</td>\n",
       "      <td>13219</td>\n",
       "      <td>Recertification to Chapter 4</td>\n",
       "      <td>...</td>\n",
       "      <td>96.5</td>\n",
       "      <td>99.7</td>\n",
       "      <td>3.2</td>\n",
       "      <td>101.9</td>\n",
       "      <td>103.2</td>\n",
       "      <td>1.3</td>\n",
       "      <td>0</td>\n",
       "      <td>0</td>\n",
       "      <td>0</td>\n",
       "      <td>Weight variant n° 0, Dossier n° 00.X.009.10360...</td>\n",
       "    </tr>\n",
       "    <tr>\n",
       "      <th>7</th>\n",
       "      <td>8</td>\n",
       "      <td>AIRBUS_15300</td>\n",
       "      <td>J</td>\n",
       "      <td>Out of Production</td>\n",
       "      <td>AIRBUS</td>\n",
       "      <td>A300</td>\n",
       "      <td>B4-622</td>\n",
       "      <td>NaN</td>\n",
       "      <td>13219</td>\n",
       "      <td>Recertification to Chapter 4</td>\n",
       "      <td>...</td>\n",
       "      <td>96.8</td>\n",
       "      <td>99.5</td>\n",
       "      <td>2.7</td>\n",
       "      <td>101.9</td>\n",
       "      <td>103.0</td>\n",
       "      <td>1.1</td>\n",
       "      <td>0</td>\n",
       "      <td>0</td>\n",
       "      <td>0</td>\n",
       "      <td>Weight variant n° 8, Dossier n° 00.X.009.10360...</td>\n",
       "    </tr>\n",
       "    <tr>\n",
       "      <th>8</th>\n",
       "      <td>9</td>\n",
       "      <td>AIRBUS_15301</td>\n",
       "      <td>J</td>\n",
       "      <td>Out of Production</td>\n",
       "      <td>AIRBUS</td>\n",
       "      <td>A300</td>\n",
       "      <td>B4-622</td>\n",
       "      <td>NaN</td>\n",
       "      <td>13219</td>\n",
       "      <td>Recertification to Chapter 4</td>\n",
       "      <td>...</td>\n",
       "      <td>96.4</td>\n",
       "      <td>99.7</td>\n",
       "      <td>3.3</td>\n",
       "      <td>100.7</td>\n",
       "      <td>103.2</td>\n",
       "      <td>2.5</td>\n",
       "      <td>0</td>\n",
       "      <td>0</td>\n",
       "      <td>0</td>\n",
       "      <td>Weight variant n° 0, Dossier n° 00.X.009.10359...</td>\n",
       "    </tr>\n",
       "    <tr>\n",
       "      <th>9</th>\n",
       "      <td>10</td>\n",
       "      <td>AIRBUS_15302</td>\n",
       "      <td>J</td>\n",
       "      <td>Out of Production</td>\n",
       "      <td>AIRBUS</td>\n",
       "      <td>A300</td>\n",
       "      <td>B4-622</td>\n",
       "      <td>NaN</td>\n",
       "      <td>13219</td>\n",
       "      <td>Recertification to Chapter 4</td>\n",
       "      <td>...</td>\n",
       "      <td>96.7</td>\n",
       "      <td>99.5</td>\n",
       "      <td>2.8</td>\n",
       "      <td>100.7</td>\n",
       "      <td>103.0</td>\n",
       "      <td>2.3</td>\n",
       "      <td>0</td>\n",
       "      <td>0</td>\n",
       "      <td>0</td>\n",
       "      <td>Weight variant n° 8, Dossier n° 00.X.009.10359...</td>\n",
       "    </tr>\n",
       "  </tbody>\n",
       "</table>\n",
       "<p>10 rows × 38 columns</p>\n",
       "</div>"
      ],
      "text/plain": [
       "    #       IDavion JP Production Aircraft Manufacturer  TYPE  Version  \\\n",
       "0   1  AIRBUS_15281  J   Out of Production       AIRBUS  A300  B4-605R   \n",
       "1   2  AIRBUS_15282  J   Out of Production       AIRBUS  A300  B4-605R   \n",
       "2   3  AIRBUS_15283  J   Out of Production       AIRBUS  A300  B4-605R   \n",
       "3   4  AIRBUS_15284  J   Out of Production       AIRBUS  A300  B4-605R   \n",
       "4   5  AIRBUS_15285  J   Out of Production       AIRBUS  A300  B4-605R   \n",
       "5   6  AIRBUS_15298  J   Out of Production       AIRBUS  A300   B4-620   \n",
       "6   7  AIRBUS_15299  J   Out of Production       AIRBUS  A300   B4-622   \n",
       "7   8  AIRBUS_15300  J   Out of Production       AIRBUS  A300   B4-622   \n",
       "8   9  AIRBUS_15301  J   Out of Production       AIRBUS  A300   B4-622   \n",
       "9  10  AIRBUS_15302  J   Out of Production       AIRBUS  A300   B4-622   \n",
       "\n",
       "  Commercial Name Modif. Number. air             Modif. descr. air  ...  \\\n",
       "0             NaN              13219  Recertification to Chapter 4  ...   \n",
       "1             NaN              13219  Recertification to Chapter 4  ...   \n",
       "2             NaN              13219  Recertification to Chapter 4  ...   \n",
       "3             NaN              13219  Recertification to Chapter 4  ...   \n",
       "4             NaN              13219  Recertification to Chapter 4  ...   \n",
       "5             NaN                NaN                           NaN  ...   \n",
       "6             NaN              13219  Recertification to Chapter 4  ...   \n",
       "7             NaN              13219  Recertification to Chapter 4  ...   \n",
       "8             NaN              13219  Recertification to Chapter 4  ...   \n",
       "9             NaN              13219  Recertification to Chapter 4  ...   \n",
       "\n",
       "   Lateral/Full Power(EPNdB)  Limit Lateral/Full Power(EPNdB)  \\\n",
       "0                       97.5                             99.9   \n",
       "1                       97.5                             99.9   \n",
       "2                       97.5                             99.9   \n",
       "3                       97.5                             99.8   \n",
       "4                       97.9                             99.4   \n",
       "5                       98.8                             99.7   \n",
       "6                       96.5                             99.7   \n",
       "7                       96.8                             99.5   \n",
       "8                       96.4                             99.7   \n",
       "9                       96.7                             99.5   \n",
       "\n",
       "  Margin Lateral/Full Power(EPNdB) Approach(EPNdB) Limit APP(EPNdB)  \\\n",
       "0                              2.4            99.6            103.3   \n",
       "1                              2.4            99.6            103.3   \n",
       "2                              2.4            99.6            103.3   \n",
       "3                              2.3            99.6            103.3   \n",
       "4                              1.5            99.6            102.9   \n",
       "5                              0.9           100.8            103.2   \n",
       "6                              3.2           101.9            103.2   \n",
       "7                              2.7           101.9            103.0   \n",
       "8                              3.3           100.7            103.2   \n",
       "9                              2.8           100.7            103.0   \n",
       "\n",
       "  Margin APP(EPNdB) Interpolation FO Interpolation Lateral/Full Power  \\\n",
       "0               3.7                0                                0   \n",
       "1               3.7                0                                0   \n",
       "2               3.7                0                                0   \n",
       "3               3.7                0                                0   \n",
       "4               3.3                0                                0   \n",
       "5               2.4                0                                0   \n",
       "6               1.3                0                                0   \n",
       "7               1.1                0                                0   \n",
       "8               2.5                0                                0   \n",
       "9               2.3                0                                0   \n",
       "\n",
       "   Interpolation APP                                            Remarks  \n",
       "0                  0  Weight variant n° 1, Dossier n° 00.X.009.10358...  \n",
       "1                  0  Weight variant n° 2, Dossier n° 00.X.009.10358...  \n",
       "2                  0  Weight variant n° 0, Dossier n° 00.X.009.10358...  \n",
       "3                  0  Weight variant n° 3, Dossier n° 00.X.009.10358...  \n",
       "4                  0  Weight variant n° 8, Dossier n° 00.X.009.10358...  \n",
       "5                  0  Weight variant n° 0, Dossier n° 00.X.009.10316...  \n",
       "6                  0  Weight variant n° 0, Dossier n° 00.X.009.10360...  \n",
       "7                  0  Weight variant n° 8, Dossier n° 00.X.009.10360...  \n",
       "8                  0  Weight variant n° 0, Dossier n° 00.X.009.10359...  \n",
       "9                  0  Weight variant n° 8, Dossier n° 00.X.009.10359...  \n",
       "\n",
       "[10 rows x 38 columns]"
      ]
     },
     "execution_count": 4,
     "metadata": {},
     "output_type": "execute_result"
    }
   ],
   "source": [
    "import pandas as pd\n",
    "\n",
    "aircraft_engine_combinations_df = pd.read_csv(\"data/aircraft_engine_combinations.csv\", sep=';')\n",
    "aircraft_engine_combinations_df.head(10)"
   ]
  },
  {
   "cell_type": "code",
   "execution_count": null,
   "id": "f37f7650",
   "metadata": {},
   "outputs": [],
   "source": [
    "# Example: filter and sort for A320-214 + CFM56-5B4/2P\n",
    "aircraft_engine_combinations_df = aircraft_engine_combinations_df[~aircraft_engine_combinations_df[\"Engine\"].str.contains(\",\", na=False)]\n",
    "\n",
    "df_filtered = aircraft_engine_combinations_df[\n",
    "    (aircraft_engine_combinations_df['TYPE'].str.contains(\"A320\")) & \n",
    "    (aircraft_engine_combinations_df['Engine'].str.contains(\"CFM56-5B4/2P\"))\n",
    "]\n",
    "\n",
    "# Sort by certification date or margin\n",
    "df_filtered_sorted = df_filtered.sort_values(\"Certif Date\", ascending=False)"
   ]
  },
  {
   "cell_type": "code",
   "execution_count": 1,
   "id": "d859f85a",
   "metadata": {},
   "outputs": [],
   "source": [
    "from emissions_calculator import calc_noise_emissions\n",
    "\n",
    "calc_noise_emissions()"
   ]
  },
  {
   "cell_type": "code",
   "execution_count": 1,
   "id": "a1ef3594",
   "metadata": {},
   "outputs": [],
   "source": [
    "from geo.route_mapper import map_flight_path\n",
    "from geo.flight_map_plotter import plot_pollutant_emissions_map, plot_noise_emissions_map\n",
    "\n",
    "start_location = map_flight_path()\n",
    "plot_pollutant_emissions_map(start_location)\n",
    "plot_noise_emissions_map(start_location)"
   ]
  },
  {
   "cell_type": "code",
   "execution_count": null,
   "id": "24b8535b",
   "metadata": {},
   "outputs": [],
   "source": []
  }
 ],
 "metadata": {
  "kernelspec": {
   "display_name": "Python 3",
   "language": "python",
   "name": "python3"
  },
  "language_info": {
   "codemirror_mode": {
    "name": "ipython",
    "version": 3
   },
   "file_extension": ".py",
   "mimetype": "text/x-python",
   "name": "python",
   "nbconvert_exporter": "python",
   "pygments_lexer": "ipython3",
   "version": "3.12.4"
  }
 },
 "nbformat": 4,
 "nbformat_minor": 5
}
