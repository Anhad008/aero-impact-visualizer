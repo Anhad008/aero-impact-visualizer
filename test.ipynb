{
 "cells": [
  {
   "cell_type": "code",
   "execution_count": 7,
   "id": "52284f06",
   "metadata": {},
   "outputs": [],
   "source": [
    "import pandas as pd"
   ]
  },
  {
   "cell_type": "code",
   "execution_count": 8,
   "id": "d9cc65ba",
   "metadata": {},
   "outputs": [
    {
     "data": {
      "text/html": [
       "<div>\n",
       "<style scoped>\n",
       "    .dataframe tbody tr th:only-of-type {\n",
       "        vertical-align: middle;\n",
       "    }\n",
       "\n",
       "    .dataframe tbody tr th {\n",
       "        vertical-align: top;\n",
       "    }\n",
       "\n",
       "    .dataframe thead th {\n",
       "        text-align: right;\n",
       "    }\n",
       "</style>\n",
       "<table border=\"1\" class=\"dataframe\">\n",
       "  <thead>\n",
       "    <tr style=\"text-align: right;\">\n",
       "      <th></th>\n",
       "      <th>Phase</th>\n",
       "      <th>Duration (min)</th>\n",
       "      <th>Altitude (ft)</th>\n",
       "      <th>Speed (kts)</th>\n",
       "      <th>Thrust (%)</th>\n",
       "    </tr>\n",
       "  </thead>\n",
       "  <tbody>\n",
       "    <tr>\n",
       "      <th>0</th>\n",
       "      <td>taxi</td>\n",
       "      <td>5.0</td>\n",
       "      <td>0</td>\n",
       "      <td>0</td>\n",
       "      <td>7</td>\n",
       "    </tr>\n",
       "    <tr>\n",
       "      <th>1</th>\n",
       "      <td>takeoff</td>\n",
       "      <td>0.5</td>\n",
       "      <td>1500</td>\n",
       "      <td>200</td>\n",
       "      <td>100</td>\n",
       "    </tr>\n",
       "    <tr>\n",
       "      <th>2</th>\n",
       "      <td>climb</td>\n",
       "      <td>15.0</td>\n",
       "      <td>35000</td>\n",
       "      <td>280</td>\n",
       "      <td>85</td>\n",
       "    </tr>\n",
       "    <tr>\n",
       "      <th>3</th>\n",
       "      <td>cruise</td>\n",
       "      <td>60.0</td>\n",
       "      <td>35000</td>\n",
       "      <td>470</td>\n",
       "      <td>60</td>\n",
       "    </tr>\n",
       "    <tr>\n",
       "      <th>4</th>\n",
       "      <td>descent</td>\n",
       "      <td>20.0</td>\n",
       "      <td>0</td>\n",
       "      <td>250</td>\n",
       "      <td>30</td>\n",
       "    </tr>\n",
       "  </tbody>\n",
       "</table>\n",
       "</div>"
      ],
      "text/plain": [
       "     Phase  Duration (min)  Altitude (ft)  Speed (kts)  Thrust (%)\n",
       "0     taxi             5.0              0            0           7\n",
       "1  takeoff             0.5           1500          200         100\n",
       "2    climb            15.0          35000          280          85\n",
       "3   cruise            60.0          35000          470          60\n",
       "4  descent            20.0              0          250          30"
      ]
     },
     "execution_count": 8,
     "metadata": {},
     "output_type": "execute_result"
    }
   ],
   "source": [
    "test_flight_profile = pd.read_csv(\"flight-profiles/test-flight-profile.csv\")\n",
    "test_flight_profile"
   ]
  },
  {
   "cell_type": "code",
   "execution_count": 9,
   "id": "77bdb2a6",
   "metadata": {},
   "outputs": [
    {
     "data": {
      "text/html": [
       "<div>\n",
       "<style scoped>\n",
       "    .dataframe tbody tr th:only-of-type {\n",
       "        vertical-align: middle;\n",
       "    }\n",
       "\n",
       "    .dataframe tbody tr th {\n",
       "        vertical-align: top;\n",
       "    }\n",
       "\n",
       "    .dataframe thead th {\n",
       "        text-align: right;\n",
       "    }\n",
       "</style>\n",
       "<table border=\"1\" class=\"dataframe\">\n",
       "  <thead>\n",
       "    <tr style=\"text-align: right;\">\n",
       "      <th></th>\n",
       "      <th>Engine Family</th>\n",
       "      <th>Engine Model</th>\n",
       "      <th>Combustor</th>\n",
       "      <th>Fuel</th>\n",
       "      <th>Bypass Ratio</th>\n",
       "      <th>Pressure Ratio</th>\n",
       "      <th>Rated Thrust (kN)</th>\n",
       "      <th>Phase</th>\n",
       "      <th>Power Setting (%)</th>\n",
       "      <th>Fuel Flow (kg/s)</th>\n",
       "      <th>Emission Index HC (g / kg fuel)</th>\n",
       "      <th>Emission Index CO (g / kg fuel)</th>\n",
       "      <th>Emission Index NOx (g / kg fuel)</th>\n",
       "    </tr>\n",
       "  </thead>\n",
       "  <tbody>\n",
       "    <tr>\n",
       "      <th>0</th>\n",
       "      <td>CFM56</td>\n",
       "      <td>5B4</td>\n",
       "      <td>DAC-II</td>\n",
       "      <td>Jet A</td>\n",
       "      <td>5.9</td>\n",
       "      <td>27.7</td>\n",
       "      <td>120.1</td>\n",
       "      <td>TAKE-OFF</td>\n",
       "      <td>100</td>\n",
       "      <td>1.14</td>\n",
       "      <td>0.1</td>\n",
       "      <td>1.4</td>\n",
       "      <td>18.4</td>\n",
       "    </tr>\n",
       "    <tr>\n",
       "      <th>1</th>\n",
       "      <td>CFM56</td>\n",
       "      <td>5B4</td>\n",
       "      <td>DAC-II</td>\n",
       "      <td>Jet A</td>\n",
       "      <td>5.9</td>\n",
       "      <td>27.7</td>\n",
       "      <td>120.1</td>\n",
       "      <td>CLIMB OUT</td>\n",
       "      <td>85</td>\n",
       "      <td>0.95</td>\n",
       "      <td>0.2</td>\n",
       "      <td>3.6</td>\n",
       "      <td>13.6</td>\n",
       "    </tr>\n",
       "    <tr>\n",
       "      <th>2</th>\n",
       "      <td>CFM56</td>\n",
       "      <td>5B4</td>\n",
       "      <td>DAC-II</td>\n",
       "      <td>Jet A</td>\n",
       "      <td>5.9</td>\n",
       "      <td>27.7</td>\n",
       "      <td>120.1</td>\n",
       "      <td>APPROACH</td>\n",
       "      <td>30</td>\n",
       "      <td>0.34</td>\n",
       "      <td>5.3</td>\n",
       "      <td>29.1</td>\n",
       "      <td>6.5</td>\n",
       "    </tr>\n",
       "    <tr>\n",
       "      <th>3</th>\n",
       "      <td>CFM56</td>\n",
       "      <td>5B4</td>\n",
       "      <td>DAC-II</td>\n",
       "      <td>Jet A</td>\n",
       "      <td>5.9</td>\n",
       "      <td>27.7</td>\n",
       "      <td>120.1</td>\n",
       "      <td>IDLE</td>\n",
       "      <td>7</td>\n",
       "      <td>0.12</td>\n",
       "      <td>3.6</td>\n",
       "      <td>40.1</td>\n",
       "      <td>3.9</td>\n",
       "    </tr>\n",
       "  </tbody>\n",
       "</table>\n",
       "</div>"
      ],
      "text/plain": [
       "  Engine Family Engine Model Combustor   Fuel  Bypass Ratio  Pressure Ratio  \\\n",
       "0         CFM56          5B4    DAC-II  Jet A           5.9            27.7   \n",
       "1         CFM56          5B4    DAC-II  Jet A           5.9            27.7   \n",
       "2         CFM56          5B4    DAC-II  Jet A           5.9            27.7   \n",
       "3         CFM56          5B4    DAC-II  Jet A           5.9            27.7   \n",
       "\n",
       "   Rated Thrust (kN)      Phase  Power Setting (%)  Fuel Flow (kg/s)  \\\n",
       "0              120.1   TAKE-OFF                100              1.14   \n",
       "1              120.1  CLIMB OUT                 85              0.95   \n",
       "2              120.1   APPROACH                 30              0.34   \n",
       "3              120.1       IDLE                  7              0.12   \n",
       "\n",
       "   Emission Index HC (g / kg fuel)  Emission Index CO (g / kg fuel)  \\\n",
       "0                              0.1                              1.4   \n",
       "1                              0.2                              3.6   \n",
       "2                              5.3                             29.1   \n",
       "3                              3.6                             40.1   \n",
       "\n",
       "   Emission Index NOx (g / kg fuel)  \n",
       "0                              18.4  \n",
       "1                              13.6  \n",
       "2                               6.5  \n",
       "3                               3.9  "
      ]
     },
     "execution_count": 9,
     "metadata": {},
     "output_type": "execute_result"
    }
   ],
   "source": [
    "engine_data = pd.read_csv(\"data/engine-data.csv\")\n",
    "engine_data"
   ]
  },
  {
   "cell_type": "code",
   "execution_count": 13,
   "id": "84512684",
   "metadata": {},
   "outputs": [
    {
     "name": "stdout",
     "output_type": "stream",
     "text": [
      "0     300.0\n",
      "1      30.0\n",
      "2     900.0\n",
      "3    3600.0\n",
      "4    1200.0\n",
      "Name: Duration (min), dtype: float64\n"
     ]
    }
   ],
   "source": [
    "profile_duration_min = test_flight_profile['Duration (min)']\n",
    "profile_duration_seconds = profile_duration_min * 60\n",
    "print(profile_duration_seconds)"
   ]
  },
  {
   "cell_type": "code",
   "execution_count": 14,
   "id": "2c9eaa67",
   "metadata": {},
   "outputs": [],
   "source": [
    "import pandas as pd \n",
    "import json\n",
    "import os\n",
    "\n",
    "# ---Reading Data Files---\n",
    "test_flight_profile = pd.read_csv(\"flight-profiles/test-flight-profile.csv\")\n",
    "with open (\"data/engines-data.json\") as f:\n",
    "    data = json.load(f)\n",
    "\n",
    "# ---Extract the phase-wise emission for the CFM56-5B4/2P engine from the JSON datafile---\n",
    "phases = data[\"CFM56-5B4/2P\"][\"Phases\"]\n",
    "\n",
    "# ---Importing Variables from Data---\n",
    "phase_data = []\n",
    "for phase_name, details in phases.items():\n",
    "    ei  = details[\"Emission Indices (g/kg fuel)\"]\n",
    "    phase_data.append({\n",
    "        \"Phase\": phase_name,\n",
    "        \"Fuel Flow (kg/s)\": details[\"Fuel Flow (kg/s)\"],\n",
    "        \"HC (g/kg)\": ei[\"HC\"],\n",
    "        \"CO (g/kg)\": ei[\"CO\"],\n",
    "        \"NOx (g/kg)\": ei[\"NOx\"]\n",
    "    })\n",
    "\n",
    "phases_df = pd.DataFrame(phase_data)     # Dataframe containing data for all phases\n",
    "\n",
    "fuel_flow_rates = phases_df[\"Fuel Flow (kg/s)\"] # Extract the fuel flow rates for All Phases (in kg per second)\n",
    "ei_HC = phases_df[\"HC (g/kg)\"]                  # Extract the Emission Index for Hydrocarbons for All Phases (g/kg of fuel)\n",
    "ei_CO = phases_df[\"CO (g/kg)\"]                  # Extract the Emission Index for Carbon Monoxide for All Phases (g/kg of fuel)\n",
    "ei_NOx = phases_df[\"NOx (g/kg)\"]                # Extract the Emission Index for Nitrogen Oxides for All Phases (g/kg of fuel)\n",
    "\n",
    "phases = test_flight_profile[\"Phase\"] # Extract Phase data from CSV datafile\n",
    "profile_duration_min = test_flight_profile['Duration (min)'] # Duration for All Phases (minutes)\n",
    "\n",
    "\n",
    "# ---Calculations--- \n",
    "profile_duration_seconds = profile_duration_min * 60  # Duration for All Phases (seconds)\n",
    "\n",
    "fuel_burned = fuel_flow_rates * profile_duration_seconds # Fuel burned for All Phases (kg)\n",
    "\n",
    "hc_emissions = ei_HC * fuel_burned      # HC emissions in Fuel Burned\n",
    "co_emissions = ei_CO * fuel_burned      # CO emissions in Fuel Burned\n",
    "nox_emissions = ei_NOx * fuel_burned    # NOx emissions in Fuel Burned\n",
    "\n",
    "total_duration = profile_duration_seconds.sum()     # Total Duration of Flight\n",
    "total_fuel_burned = fuel_burned.sum()               # Total Fuel Burned\n",
    "total_co_emissions = co_emissions.sum()             # Total Carbon Monoxide Emissions\n",
    "total_hc_emissions = hc_emissions.sum()             # Total Hydrocarbon Emissions\n",
    "total_nox_emissions = nox_emissions.sum()           # Total Nitrogen Oxides Emissions\n",
    "\n",
    "# ---Create a DataFrame for Total Emissions Summary---\n",
    "total_data = pd.DataFrame([{\n",
    "    \"Phase\":\"Total\",\n",
    "    \"Duration (s)\":total_duration,\n",
    "    \"Fuel Burned (kg)\":total_fuel_burned,\n",
    "    \"HC emissions (g)\":total_hc_emissions,\n",
    "    \"NOx emissions (g)\":total_nox_emissions,\n",
    "    \"CO emissions (g)\":total_co_emissions,\n",
    "}])\n",
    "\n",
    "# ---Create Phase-wise Emissions Summary DataFrame---\n",
    "phases_summary_df = pd.DataFrame({\n",
    "    \"Phase\":phases,\n",
    "    \"Duration (s)\":profile_duration_seconds,\n",
    "    \"Fuel Flow (kg/s)\":fuel_flow_rates,\n",
    "    \"Fuel Burned (kg)\":fuel_burned,\n",
    "    \"HC emissions (g)\":hc_emissions,\n",
    "    \"NOx emissions (g)\":nox_emissions,\n",
    "    \"CO emissions (g)\":co_emissions,\n",
    "})\n",
    "phases_summary_df = pd.concat([phases_summary_df, total_data], ignore_index=True)\n",
    "\n",
    "\n",
    "# ---Saving Outputs---\n",
    "output_dir = \"output/emissions\"\n",
    "output_file = os.path.join(output_dir, \"summary.csv\")\n",
    "\n",
    "phases_summary_df.to_csv(output_file, index=False)\n",
    "os.makedirs(output_dir, exist_ok=True)\n"
   ]
  },
  {
   "cell_type": "code",
   "execution_count": 15,
   "id": "5535bc2e",
   "metadata": {},
   "outputs": [
    {
     "data": {
      "text/html": [
       "<div>\n",
       "<style scoped>\n",
       "    .dataframe tbody tr th:only-of-type {\n",
       "        vertical-align: middle;\n",
       "    }\n",
       "\n",
       "    .dataframe tbody tr th {\n",
       "        vertical-align: top;\n",
       "    }\n",
       "\n",
       "    .dataframe thead th {\n",
       "        text-align: right;\n",
       "    }\n",
       "</style>\n",
       "<table border=\"1\" class=\"dataframe\">\n",
       "  <thead>\n",
       "    <tr style=\"text-align: right;\">\n",
       "      <th></th>\n",
       "      <th>Phase</th>\n",
       "      <th>Duration (s)</th>\n",
       "      <th>Fuel Flow (kg/s)</th>\n",
       "      <th>Fuel Burned (kg)</th>\n",
       "      <th>HC emissions (g)</th>\n",
       "      <th>NOx emissions (g)</th>\n",
       "      <th>CO emissions (g)</th>\n",
       "    </tr>\n",
       "  </thead>\n",
       "  <tbody>\n",
       "    <tr>\n",
       "      <th>0</th>\n",
       "      <td>taxi</td>\n",
       "      <td>300.0</td>\n",
       "      <td>1.14</td>\n",
       "      <td>342.0</td>\n",
       "      <td>34.2</td>\n",
       "      <td>6292.8</td>\n",
       "      <td>478.8</td>\n",
       "    </tr>\n",
       "    <tr>\n",
       "      <th>1</th>\n",
       "      <td>takeoff</td>\n",
       "      <td>30.0</td>\n",
       "      <td>0.95</td>\n",
       "      <td>28.5</td>\n",
       "      <td>5.7</td>\n",
       "      <td>387.6</td>\n",
       "      <td>102.6</td>\n",
       "    </tr>\n",
       "    <tr>\n",
       "      <th>2</th>\n",
       "      <td>climb</td>\n",
       "      <td>900.0</td>\n",
       "      <td>0.34</td>\n",
       "      <td>306.0</td>\n",
       "      <td>1621.8</td>\n",
       "      <td>1989.0</td>\n",
       "      <td>8904.6</td>\n",
       "    </tr>\n",
       "    <tr>\n",
       "      <th>3</th>\n",
       "      <td>cruise</td>\n",
       "      <td>3600.0</td>\n",
       "      <td>0.12</td>\n",
       "      <td>432.0</td>\n",
       "      <td>1555.2</td>\n",
       "      <td>1684.8</td>\n",
       "      <td>17323.2</td>\n",
       "    </tr>\n",
       "    <tr>\n",
       "      <th>4</th>\n",
       "      <td>descent</td>\n",
       "      <td>1200.0</td>\n",
       "      <td>NaN</td>\n",
       "      <td>NaN</td>\n",
       "      <td>NaN</td>\n",
       "      <td>NaN</td>\n",
       "      <td>NaN</td>\n",
       "    </tr>\n",
       "    <tr>\n",
       "      <th>5</th>\n",
       "      <td>Total</td>\n",
       "      <td>6030.0</td>\n",
       "      <td>NaN</td>\n",
       "      <td>1108.5</td>\n",
       "      <td>3216.9</td>\n",
       "      <td>10354.2</td>\n",
       "      <td>26809.2</td>\n",
       "    </tr>\n",
       "  </tbody>\n",
       "</table>\n",
       "</div>"
      ],
      "text/plain": [
       "     Phase  Duration (s)  Fuel Flow (kg/s)  Fuel Burned (kg)  \\\n",
       "0     taxi         300.0              1.14             342.0   \n",
       "1  takeoff          30.0              0.95              28.5   \n",
       "2    climb         900.0              0.34             306.0   \n",
       "3   cruise        3600.0              0.12             432.0   \n",
       "4  descent        1200.0               NaN               NaN   \n",
       "5    Total        6030.0               NaN            1108.5   \n",
       "\n",
       "   HC emissions (g)  NOx emissions (g)  CO emissions (g)  \n",
       "0              34.2             6292.8             478.8  \n",
       "1               5.7              387.6             102.6  \n",
       "2            1621.8             1989.0            8904.6  \n",
       "3            1555.2             1684.8           17323.2  \n",
       "4               NaN                NaN               NaN  \n",
       "5            3216.9            10354.2           26809.2  "
      ]
     },
     "execution_count": 15,
     "metadata": {},
     "output_type": "execute_result"
    }
   ],
   "source": [
    "phases_summary_df"
   ]
  },
  {
   "cell_type": "code",
   "execution_count": 4,
   "id": "b46c39cf",
   "metadata": {},
   "outputs": [
    {
     "data": {
      "application/vnd.plotly.v1+json": {
       "config": {
        "plotlyServerURL": "https://plot.ly"
       },
       "data": [
        {
         "name": "HC emissions",
         "type": "bar",
         "x": [
          "taxi",
          "takeoff",
          "climb",
          "cruise",
          "descent",
          "Total"
         ],
         "y": {
          "bdata": "MzMzMzMzYEBcj8L1KFwLQAAAAAAAQF1AAAAAAABghUDNzMzMzOSgQKRwPQrXMKhA",
          "dtype": "f8"
         }
        },
        {
         "name": "NOx emissions",
         "type": "bar",
         "x": [
          "taxi",
          "takeoff",
          "climb",
          "cruise",
          "descent",
          "Total"
         ],
         "y": {
          "bdata": "zczMzMyMYUAJ16NwPaqDQAAAAACA2b5AAAAAAAC25kABAAAAALikQClcj8LlPOxA",
          "dtype": "f8"
         }
        },
        {
         "name": "CO emissions",
         "type": "bar",
         "x": [
          "taxi",
          "takeoff",
          "climb",
          "cruise",
          "descent",
          "Total"
         ],
         "y": {
          "bdata": "ZmZmZmaOlkBvPQrXo/BHQAAAAAAASIJAAAAAAAAMyEBpZmZmZjDHQLgehetRpdlA",
          "dtype": "f8"
         }
        }
       ],
       "layout": {
        "barmode": "group",
        "template": {
         "data": {
          "bar": [
           {
            "error_x": {
             "color": "#2a3f5f"
            },
            "error_y": {
             "color": "#2a3f5f"
            },
            "marker": {
             "line": {
              "color": "#E5ECF6",
              "width": 0.5
             },
             "pattern": {
              "fillmode": "overlay",
              "size": 10,
              "solidity": 0.2
             }
            },
            "type": "bar"
           }
          ],
          "barpolar": [
           {
            "marker": {
             "line": {
              "color": "#E5ECF6",
              "width": 0.5
             },
             "pattern": {
              "fillmode": "overlay",
              "size": 10,
              "solidity": 0.2
             }
            },
            "type": "barpolar"
           }
          ],
          "carpet": [
           {
            "aaxis": {
             "endlinecolor": "#2a3f5f",
             "gridcolor": "white",
             "linecolor": "white",
             "minorgridcolor": "white",
             "startlinecolor": "#2a3f5f"
            },
            "baxis": {
             "endlinecolor": "#2a3f5f",
             "gridcolor": "white",
             "linecolor": "white",
             "minorgridcolor": "white",
             "startlinecolor": "#2a3f5f"
            },
            "type": "carpet"
           }
          ],
          "choropleth": [
           {
            "colorbar": {
             "outlinewidth": 0,
             "ticks": ""
            },
            "type": "choropleth"
           }
          ],
          "contour": [
           {
            "colorbar": {
             "outlinewidth": 0,
             "ticks": ""
            },
            "colorscale": [
             [
              0,
              "#0d0887"
             ],
             [
              0.1111111111111111,
              "#46039f"
             ],
             [
              0.2222222222222222,
              "#7201a8"
             ],
             [
              0.3333333333333333,
              "#9c179e"
             ],
             [
              0.4444444444444444,
              "#bd3786"
             ],
             [
              0.5555555555555556,
              "#d8576b"
             ],
             [
              0.6666666666666666,
              "#ed7953"
             ],
             [
              0.7777777777777778,
              "#fb9f3a"
             ],
             [
              0.8888888888888888,
              "#fdca26"
             ],
             [
              1,
              "#f0f921"
             ]
            ],
            "type": "contour"
           }
          ],
          "contourcarpet": [
           {
            "colorbar": {
             "outlinewidth": 0,
             "ticks": ""
            },
            "type": "contourcarpet"
           }
          ],
          "heatmap": [
           {
            "colorbar": {
             "outlinewidth": 0,
             "ticks": ""
            },
            "colorscale": [
             [
              0,
              "#0d0887"
             ],
             [
              0.1111111111111111,
              "#46039f"
             ],
             [
              0.2222222222222222,
              "#7201a8"
             ],
             [
              0.3333333333333333,
              "#9c179e"
             ],
             [
              0.4444444444444444,
              "#bd3786"
             ],
             [
              0.5555555555555556,
              "#d8576b"
             ],
             [
              0.6666666666666666,
              "#ed7953"
             ],
             [
              0.7777777777777778,
              "#fb9f3a"
             ],
             [
              0.8888888888888888,
              "#fdca26"
             ],
             [
              1,
              "#f0f921"
             ]
            ],
            "type": "heatmap"
           }
          ],
          "histogram": [
           {
            "marker": {
             "pattern": {
              "fillmode": "overlay",
              "size": 10,
              "solidity": 0.2
             }
            },
            "type": "histogram"
           }
          ],
          "histogram2d": [
           {
            "colorbar": {
             "outlinewidth": 0,
             "ticks": ""
            },
            "colorscale": [
             [
              0,
              "#0d0887"
             ],
             [
              0.1111111111111111,
              "#46039f"
             ],
             [
              0.2222222222222222,
              "#7201a8"
             ],
             [
              0.3333333333333333,
              "#9c179e"
             ],
             [
              0.4444444444444444,
              "#bd3786"
             ],
             [
              0.5555555555555556,
              "#d8576b"
             ],
             [
              0.6666666666666666,
              "#ed7953"
             ],
             [
              0.7777777777777778,
              "#fb9f3a"
             ],
             [
              0.8888888888888888,
              "#fdca26"
             ],
             [
              1,
              "#f0f921"
             ]
            ],
            "type": "histogram2d"
           }
          ],
          "histogram2dcontour": [
           {
            "colorbar": {
             "outlinewidth": 0,
             "ticks": ""
            },
            "colorscale": [
             [
              0,
              "#0d0887"
             ],
             [
              0.1111111111111111,
              "#46039f"
             ],
             [
              0.2222222222222222,
              "#7201a8"
             ],
             [
              0.3333333333333333,
              "#9c179e"
             ],
             [
              0.4444444444444444,
              "#bd3786"
             ],
             [
              0.5555555555555556,
              "#d8576b"
             ],
             [
              0.6666666666666666,
              "#ed7953"
             ],
             [
              0.7777777777777778,
              "#fb9f3a"
             ],
             [
              0.8888888888888888,
              "#fdca26"
             ],
             [
              1,
              "#f0f921"
             ]
            ],
            "type": "histogram2dcontour"
           }
          ],
          "mesh3d": [
           {
            "colorbar": {
             "outlinewidth": 0,
             "ticks": ""
            },
            "type": "mesh3d"
           }
          ],
          "parcoords": [
           {
            "line": {
             "colorbar": {
              "outlinewidth": 0,
              "ticks": ""
             }
            },
            "type": "parcoords"
           }
          ],
          "pie": [
           {
            "automargin": true,
            "type": "pie"
           }
          ],
          "scatter": [
           {
            "fillpattern": {
             "fillmode": "overlay",
             "size": 10,
             "solidity": 0.2
            },
            "type": "scatter"
           }
          ],
          "scatter3d": [
           {
            "line": {
             "colorbar": {
              "outlinewidth": 0,
              "ticks": ""
             }
            },
            "marker": {
             "colorbar": {
              "outlinewidth": 0,
              "ticks": ""
             }
            },
            "type": "scatter3d"
           }
          ],
          "scattercarpet": [
           {
            "marker": {
             "colorbar": {
              "outlinewidth": 0,
              "ticks": ""
             }
            },
            "type": "scattercarpet"
           }
          ],
          "scattergeo": [
           {
            "marker": {
             "colorbar": {
              "outlinewidth": 0,
              "ticks": ""
             }
            },
            "type": "scattergeo"
           }
          ],
          "scattergl": [
           {
            "marker": {
             "colorbar": {
              "outlinewidth": 0,
              "ticks": ""
             }
            },
            "type": "scattergl"
           }
          ],
          "scattermap": [
           {
            "marker": {
             "colorbar": {
              "outlinewidth": 0,
              "ticks": ""
             }
            },
            "type": "scattermap"
           }
          ],
          "scattermapbox": [
           {
            "marker": {
             "colorbar": {
              "outlinewidth": 0,
              "ticks": ""
             }
            },
            "type": "scattermapbox"
           }
          ],
          "scatterpolar": [
           {
            "marker": {
             "colorbar": {
              "outlinewidth": 0,
              "ticks": ""
             }
            },
            "type": "scatterpolar"
           }
          ],
          "scatterpolargl": [
           {
            "marker": {
             "colorbar": {
              "outlinewidth": 0,
              "ticks": ""
             }
            },
            "type": "scatterpolargl"
           }
          ],
          "scatterternary": [
           {
            "marker": {
             "colorbar": {
              "outlinewidth": 0,
              "ticks": ""
             }
            },
            "type": "scatterternary"
           }
          ],
          "surface": [
           {
            "colorbar": {
             "outlinewidth": 0,
             "ticks": ""
            },
            "colorscale": [
             [
              0,
              "#0d0887"
             ],
             [
              0.1111111111111111,
              "#46039f"
             ],
             [
              0.2222222222222222,
              "#7201a8"
             ],
             [
              0.3333333333333333,
              "#9c179e"
             ],
             [
              0.4444444444444444,
              "#bd3786"
             ],
             [
              0.5555555555555556,
              "#d8576b"
             ],
             [
              0.6666666666666666,
              "#ed7953"
             ],
             [
              0.7777777777777778,
              "#fb9f3a"
             ],
             [
              0.8888888888888888,
              "#fdca26"
             ],
             [
              1,
              "#f0f921"
             ]
            ],
            "type": "surface"
           }
          ],
          "table": [
           {
            "cells": {
             "fill": {
              "color": "#EBF0F8"
             },
             "line": {
              "color": "white"
             }
            },
            "header": {
             "fill": {
              "color": "#C8D4E3"
             },
             "line": {
              "color": "white"
             }
            },
            "type": "table"
           }
          ]
         },
         "layout": {
          "annotationdefaults": {
           "arrowcolor": "#2a3f5f",
           "arrowhead": 0,
           "arrowwidth": 1
          },
          "autotypenumbers": "strict",
          "coloraxis": {
           "colorbar": {
            "outlinewidth": 0,
            "ticks": ""
           }
          },
          "colorscale": {
           "diverging": [
            [
             0,
             "#8e0152"
            ],
            [
             0.1,
             "#c51b7d"
            ],
            [
             0.2,
             "#de77ae"
            ],
            [
             0.3,
             "#f1b6da"
            ],
            [
             0.4,
             "#fde0ef"
            ],
            [
             0.5,
             "#f7f7f7"
            ],
            [
             0.6,
             "#e6f5d0"
            ],
            [
             0.7,
             "#b8e186"
            ],
            [
             0.8,
             "#7fbc41"
            ],
            [
             0.9,
             "#4d9221"
            ],
            [
             1,
             "#276419"
            ]
           ],
           "sequential": [
            [
             0,
             "#0d0887"
            ],
            [
             0.1111111111111111,
             "#46039f"
            ],
            [
             0.2222222222222222,
             "#7201a8"
            ],
            [
             0.3333333333333333,
             "#9c179e"
            ],
            [
             0.4444444444444444,
             "#bd3786"
            ],
            [
             0.5555555555555556,
             "#d8576b"
            ],
            [
             0.6666666666666666,
             "#ed7953"
            ],
            [
             0.7777777777777778,
             "#fb9f3a"
            ],
            [
             0.8888888888888888,
             "#fdca26"
            ],
            [
             1,
             "#f0f921"
            ]
           ],
           "sequentialminus": [
            [
             0,
             "#0d0887"
            ],
            [
             0.1111111111111111,
             "#46039f"
            ],
            [
             0.2222222222222222,
             "#7201a8"
            ],
            [
             0.3333333333333333,
             "#9c179e"
            ],
            [
             0.4444444444444444,
             "#bd3786"
            ],
            [
             0.5555555555555556,
             "#d8576b"
            ],
            [
             0.6666666666666666,
             "#ed7953"
            ],
            [
             0.7777777777777778,
             "#fb9f3a"
            ],
            [
             0.8888888888888888,
             "#fdca26"
            ],
            [
             1,
             "#f0f921"
            ]
           ]
          },
          "colorway": [
           "#636efa",
           "#EF553B",
           "#00cc96",
           "#ab63fa",
           "#FFA15A",
           "#19d3f3",
           "#FF6692",
           "#B6E880",
           "#FF97FF",
           "#FECB52"
          ],
          "font": {
           "color": "#2a3f5f"
          },
          "geo": {
           "bgcolor": "white",
           "lakecolor": "white",
           "landcolor": "#E5ECF6",
           "showlakes": true,
           "showland": true,
           "subunitcolor": "white"
          },
          "hoverlabel": {
           "align": "left"
          },
          "hovermode": "closest",
          "mapbox": {
           "style": "light"
          },
          "paper_bgcolor": "white",
          "plot_bgcolor": "#E5ECF6",
          "polar": {
           "angularaxis": {
            "gridcolor": "white",
            "linecolor": "white",
            "ticks": ""
           },
           "bgcolor": "#E5ECF6",
           "radialaxis": {
            "gridcolor": "white",
            "linecolor": "white",
            "ticks": ""
           }
          },
          "scene": {
           "xaxis": {
            "backgroundcolor": "#E5ECF6",
            "gridcolor": "white",
            "gridwidth": 2,
            "linecolor": "white",
            "showbackground": true,
            "ticks": "",
            "zerolinecolor": "white"
           },
           "yaxis": {
            "backgroundcolor": "#E5ECF6",
            "gridcolor": "white",
            "gridwidth": 2,
            "linecolor": "white",
            "showbackground": true,
            "ticks": "",
            "zerolinecolor": "white"
           },
           "zaxis": {
            "backgroundcolor": "#E5ECF6",
            "gridcolor": "white",
            "gridwidth": 2,
            "linecolor": "white",
            "showbackground": true,
            "ticks": "",
            "zerolinecolor": "white"
           }
          },
          "shapedefaults": {
           "line": {
            "color": "#2a3f5f"
           }
          },
          "ternary": {
           "aaxis": {
            "gridcolor": "white",
            "linecolor": "white",
            "ticks": ""
           },
           "baxis": {
            "gridcolor": "white",
            "linecolor": "white",
            "ticks": ""
           },
           "bgcolor": "#E5ECF6",
           "caxis": {
            "gridcolor": "white",
            "linecolor": "white",
            "ticks": ""
           }
          },
          "title": {
           "x": 0.05
          },
          "xaxis": {
           "automargin": true,
           "gridcolor": "white",
           "linecolor": "white",
           "ticks": "",
           "title": {
            "standoff": 15
           },
           "zerolinecolor": "white",
           "zerolinewidth": 2
          },
          "yaxis": {
           "automargin": true,
           "gridcolor": "white",
           "linecolor": "white",
           "ticks": "",
           "title": {
            "standoff": 15
           },
           "zerolinecolor": "white",
           "zerolinewidth": 2
          }
         }
        },
        "yaxis": {
         "type": "log"
        }
       }
      }
     },
     "metadata": {},
     "output_type": "display_data"
    }
   ],
   "source": [
    "import plotly.graph_objects as go\n",
    "import pandas as pd\n",
    "\n",
    "phases_df = pd.read_csv(\"output/emissions/summary.csv\")\n",
    "\n",
    "phases = phases_df[\"Phase\"]\n",
    "co_emm = phases_df[\"CO emissions (g)\"]\n",
    "nox_emm = phases_df[\"NOx emissions (g)\"]\n",
    "hc_emm = phases_df[\"HC emissions (g)\"]\n",
    "\n",
    "fig = go.Figure([\n",
    "    go.Bar(name='HC emissions', x=phases, y=hc_emm),\n",
    "    go.Bar(name='NOx emissions', x=phases, y=nox_emm),\n",
    "    go.Bar(name='CO emissions', x=phases, y=co_emm)\n",
    "])\n",
    "\n",
    "fig.update_layout(barmode='group', yaxis_type='log')\n",
    "fig.show()"
   ]
  },
  {
   "cell_type": "code",
   "execution_count": null,
   "id": "13e355f7",
   "metadata": {},
   "outputs": [],
   "source": []
  }
 ],
 "metadata": {
  "kernelspec": {
   "display_name": "Python 3",
   "language": "python",
   "name": "python3"
  },
  "language_info": {
   "codemirror_mode": {
    "name": "ipython",
    "version": 3
   },
   "file_extension": ".py",
   "mimetype": "text/x-python",
   "name": "python",
   "nbconvert_exporter": "python",
   "pygments_lexer": "ipython3",
   "version": "3.12.4"
  }
 },
 "nbformat": 4,
 "nbformat_minor": 5
}
